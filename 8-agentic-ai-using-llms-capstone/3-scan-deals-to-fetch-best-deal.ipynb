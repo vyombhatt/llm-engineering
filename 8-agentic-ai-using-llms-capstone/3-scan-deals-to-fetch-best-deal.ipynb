{
 "cells": [
  {
   "cell_type": "markdown",
   "id": "0df0d850-49eb-4a0b-a27a-146969db710d",
   "metadata": {},
   "source": [
    "# The Price is Right\n",
    "\n",
    "Today we'll build another piece of the puzzle: a ScanningAgent that looks for promising deals by subscribing to RSS feeds."
   ]
  },
  {
   "cell_type": "code",
   "execution_count": 1,
   "id": "d3763a79-8a5a-4300-8de4-93e85475af10",
   "metadata": {},
   "outputs": [],
   "source": [
    "# imports\n",
    "\n",
    "import os\n",
    "import json\n",
    "from dotenv import load_dotenv\n",
    "from openai import OpenAI\n",
    "from agents.deals import ScrapedDeal, DealSelection"
   ]
  },
  {
   "cell_type": "code",
   "execution_count": 2,
   "id": "c6469e32-16c3-4443-9475-ade710ef6933",
   "metadata": {},
   "outputs": [],
   "source": [
    "# Initialize and constants\n",
    "\n",
    "load_dotenv(override=True)\n",
    "os.environ['OPENAI_API_KEY'] = os.getenv('OPENAI_API_KEY', 'your-key-if-not-using-env')\n",
    "MODEL = 'gpt-4o-mini'\n",
    "openai = OpenAI()"
   ]
  },
  {
   "cell_type": "code",
   "execution_count": 3,
   "id": "afece9db-8cd4-46be-ac57-0b472e84da7d",
   "metadata": {},
   "outputs": [
    {
     "name": "stderr",
     "output_type": "stream",
     "text": [
      "  0%|          | 0/5 [00:00<?, ?it/s]"
     ]
    },
    {
     "name": "stderr",
     "output_type": "stream",
     "text": [
      "100%|██████████| 5/5 [01:53<00:00, 22.77s/it]\n"
     ]
    }
   ],
   "source": [
    "deals = ScrapedDeal.fetch(show_progress=True)"
   ]
  },
  {
   "cell_type": "code",
   "execution_count": 6,
   "id": "8cd15c4d-eb44-4601-bf0c-f945c1d8e3ec",
   "metadata": {},
   "outputs": [
    {
     "data": {
      "text/plain": [
       "50"
      ]
     },
     "execution_count": 6,
     "metadata": {},
     "output_type": "execute_result"
    }
   ],
   "source": [
    "len(deals)"
   ]
  },
  {
   "cell_type": "code",
   "execution_count": 7,
   "id": "4259f30a-6455-49ed-8863-2f9ddd4776cb",
   "metadata": {},
   "outputs": [
    {
     "data": {
      "text/plain": [
       "\"Title: Harbor Freight Tools Scratch and Dent Sale: Up to 45% off + free shipping\\nDetails: Save up to 45% off a range of tool storage chests and stainless steel worktops. We've pictured the Icon 19 In. Professional End Cabinet for $629 ($270 off) Stock is limited. Items ship for free, although you're responsible for un-palletizing and setup. You need to call the number on the sale page to place an order for these items. Shop Now at Harbor Freight Tools\\nFeatures: \\nURL: https://www.dealnews.com/Harbor-Freight-Tools-Scratch-and-Dent-Sale-Up-to-45-off-free-shipping/21760435.html?iref=rss-c196\""
      ]
     },
     "execution_count": 7,
     "metadata": {},
     "output_type": "execute_result"
    }
   ],
   "source": [
    "deals[44].describe()"
   ]
  },
  {
   "cell_type": "markdown",
   "id": "362ad2ef",
   "metadata": {},
   "source": [
    "As we can see, the above description that has been scraped does not really include a price. This is where we'll use an LLM to use the scraped output to then fetch the price in the form of a \"Structured Output\""
   ]
  },
  {
   "cell_type": "code",
   "execution_count": 8,
   "id": "8100e5ac-38f5-40c1-a712-08ae12c85038",
   "metadata": {},
   "outputs": [],
   "source": [
    "system_prompt = \"\"\"You identify and summarize the 5 most detailed deals from a list, by selecting deals that have the most detailed, high quality description and the most clear price.\n",
    "Respond strictly in JSON with no explanation, using this format. You should provide the price as a number derived from the description. If the price of a deal isn't clear, do not include that deal in your response.\n",
    "Most important is that you respond with the 5 deals that have the most detailed product description with price. It's not important to mention the terms of the deal; most important is a thorough description of the product.\n",
    "Be careful with products that are described as \"$XXX off\" or \"reduced by $XXX\" - this isn't the actual price of the product. Only respond with products when you are highly confident about the price. \n",
    "\n",
    "{\"deals\": [\n",
    "    {\n",
    "        \"product_description\": \"Your clearly expressed summary of the product in 4-5 sentences. Details of the item are much more important than why it's a good deal. Avoid mentioning discounts and coupons; focus on the item itself. There should be a paragpraph of text for each item you choose.\",\n",
    "        \"price\": 99.99,\n",
    "        \"url\": \"the url as provided\"\n",
    "    },\n",
    "    ...\n",
    "]}\"\"\""
   ]
  },
  {
   "cell_type": "code",
   "execution_count": 9,
   "id": "f4bca170-af71-40c9-9597-1d72980c74d8",
   "metadata": {},
   "outputs": [],
   "source": [
    "user_prompt = \"\"\"Respond with the most promising 5 deals from this list, selecting those which have the most detailed, high quality product description and a clear price.\n",
    "Respond strictly in JSON, and only JSON. You should rephrase the description to be a summary of the product itself, not the terms of the deal.\n",
    "Remember to respond with a paragraph of text in the product_description field for each of the 5 items that you select.\n",
    "Be careful with products that are described as \"$XXX off\" or \"reduced by $XXX\" - this isn't the actual price of the product. Only respond with products when you are highly confident about the price. \n",
    "\n",
    "Deals:\n",
    "\n",
    "\"\"\"\n",
    "user_prompt += '\\n\\n'.join([deal.describe() for deal in deals])"
   ]
  },
  {
   "cell_type": "code",
   "execution_count": 10,
   "id": "020947a6-561b-417b-98a0-a085e31d2ce3",
   "metadata": {},
   "outputs": [
    {
     "name": "stdout",
     "output_type": "stream",
     "text": [
      "Respond with the most promising 5 deals from this list, selecting those which have the most detailed, high quality product description and a clear price.\n",
      "Respond strictly in JSON, and only JSON. You should rephrase the description to be a summary of the product itself, not the terms of the deal.\n",
      "Remember to respond with a paragraph of text in the product_description field for each of the 5 items that you select.\n",
      "Be careful with products that are described as \"$XXX off\" or \"reduced by $XXX\" - this isn't the actual price of the product. Only respond with products when you are highly confident about the price. \n",
      "\n",
      "Deals:\n",
      "\n",
      "Title: Samsung Galaxy Ring: $100 off, or up to $150 off w/ trade-in + free shipping\n",
      "Details: Trade in an eligible smartwatch or ring and get up to $150 off the new Galaxy Ring. Don't have a trade? You still get $100 off Samsung's sleek, minimalist take on wearable health tech. With the full discount, your final price could be as low as $250. It allows you to upgrade your fitness and sleep tracking without adding another screen to your life. Shop Now at Samsung\n",
      "Features: 361mAh charging case Bluetooth 5.4 IP68 waterproof Model: SM-Q50XNZDAXAR\n",
      "URL: https://www.dealnews.com/products/Samsung/Samsung-Galaxy-Ring/486186.html?iref=rss-c142\n",
      "\n",
      "Title: Samsung TV Deals: Up to 46% off + free shipping\n",
      "Details: Save on a nearly 50 TVs — deals start from just $120, but you can save up to $3,500 on some of the pricier models. We've pictured the Samsung S90D Series QN77S90DAFXZA 77\" 4K HDR OLED Smart TV for $1,999.99 ($1,700 off). Shop Now at Samsung\n",
      "Features: \n",
      "URL: https://www.dealnews.com/Samsung-TV-Deals-Up-to-46-off-free-shipping/21760600.html?iref=rss-c142\n",
      "\n",
      "Title: EcoFlow Delta 2 1,024Wh Portable Power Station for $490 + free shipping\n",
      "Details: It's $19 under Amazon and the lowest price we could find. Buy Now at Walmart\n",
      "Features: AC charge input and output  solar input (solar panel not included)  4 USB charging ports 2 USB-C charging ports Model: EFD330-2\n",
      "URL: https:\n"
     ]
    }
   ],
   "source": [
    "print(user_prompt[:2000])"
   ]
  },
  {
   "cell_type": "code",
   "execution_count": 12,
   "id": "7de46f74-868c-4127-8a68-cf2da7d600bb",
   "metadata": {},
   "outputs": [],
   "source": [
    "def get_recommendations():\n",
    "    completion = openai.beta.chat.completions.parse(\n",
    "        model=\"gpt-4o-mini\",\n",
    "        messages=[\n",
    "            {\"role\": \"system\", \"content\": system_prompt},\n",
    "            {\"role\": \"user\", \"content\": user_prompt}\n",
    "      ],\n",
    "        response_format=DealSelection # pass the DealSelection class to parse the response correctly\n",
    "    )\n",
    "    result = completion.choices[0].message.parsed\n",
    "    return result"
   ]
  },
  {
   "cell_type": "code",
   "execution_count": 13,
   "id": "4c06270d-8c17-4d5a-9cfe-b6cefe788d5e",
   "metadata": {},
   "outputs": [],
   "source": [
    "result = get_recommendations()"
   ]
  },
  {
   "cell_type": "code",
   "execution_count": 14,
   "id": "84e62845-3338-441a-8161-c70097af4773",
   "metadata": {},
   "outputs": [
    {
     "data": {
      "text/plain": [
       "5"
      ]
     },
     "execution_count": 14,
     "metadata": {},
     "output_type": "execute_result"
    }
   ],
   "source": [
    "len(result.deals)"
   ]
  },
  {
   "cell_type": "code",
   "execution_count": 15,
   "id": "e5554a0a-ae40-4684-ad3e-faa3d22e030c",
   "metadata": {},
   "outputs": [
    {
     "data": {
      "text/plain": [
       "Deal(product_description='The EcoFlow Delta 2 is a powerful portable power station equipped with a 1,024Wh capacity, making it perfect for outdoor adventures or emergencies. It features multiple output options including AC, USB, and USB-C ports, ensuring you can charge various devices at once. The EcoFlow Delta 2 supports solar charging (solar panel not included), giving you the flexibility to harness renewable energy when needed. This compact and robust power station ensures you stay powered up wherever you are.', price=490.0, url='https://www.dealnews.com/products/Eco-Flow/Eco-Flow-Delta-2-1-024-Wh-Portable-Power-Station/473744.html?iref=rss-c142')"
      ]
     },
     "execution_count": 15,
     "metadata": {},
     "output_type": "execute_result"
    }
   ],
   "source": [
    "result.deals[1]"
   ]
  },
  {
   "cell_type": "code",
   "execution_count": 16,
   "id": "8bdc57fb-7497-47af-a643-6ba5a21cc17e",
   "metadata": {},
   "outputs": [],
   "source": [
    "from agents.scanner_agent import ScannerAgent"
   ]
  },
  {
   "cell_type": "code",
   "execution_count": 17,
   "id": "132278bc-217a-43a6-b6c4-724140c6a225",
   "metadata": {},
   "outputs": [],
   "source": [
    "agent = ScannerAgent()\n",
    "result = agent.scan()"
   ]
  },
  {
   "cell_type": "code",
   "execution_count": 18,
   "id": "2e1d013a-c930-4dad-901b-41433379e14b",
   "metadata": {},
   "outputs": [
    {
     "data": {
      "text/plain": [
       "DealSelection(deals=[Deal(product_description=\"The EcoFlow Delta 2 is a powerful portable power station boasting a capacity of 1,024Wh to keep your devices charged on the go. It features multiple charging options including AC and solar inputs, making it versatile for various situations. The unit comes equipped with four USB ports and two USB-C ports, ensuring you can power multiple devices simultaneously. With its compact design, it's ideal for camping trips or emergency backup power, allowing you to stay connected no matter where you are.\", price=490.0, url='https://www.dealnews.com/products/Eco-Flow/Eco-Flow-Delta-2-1-024-Wh-Portable-Power-Station/473744.html?iref=rss-c142'), Deal(product_description='The Blink Outdoor 4 5-Camera System is designed for robust home security with high-definition day and night vision capabilities. It includes five cameras paired with a Sync Module Core, enabling seamless connectivity and control through your smartphone. With a two-year battery life, enhanced motion detection, and compatibility with Amazon Alexa, this system offers both convenience and peace of mind. Its compact design allows for easy installation and placement around your property, ensuring comprehensive coverage of all your spaces.', price=120.0, url='https://www.dealnews.com/products/Blink/Blink-Outdoor-4-5-Camera-System/491527.html?iref=rss-f1912'), Deal(product_description='Experience rich sound and portability with the Open-Box Beats Pill Portable Bluetooth Speaker. Featuring a maximum output of 100W, it connects easily via Bluetooth and USB, making it versatile for different media devices. Its IP67 rating ensures it is resistant to dust and water, perfect for outdoor use. The speaker can also pair with other Beats Pill speakers for amplified sound in stereo or Amplify mode, enhancing your listening experience whether at home or on the go.', price=75.0, url='https://www.dealnews.com/products/Beats/Beats-Pill-Portable-Bluetooth-Speaker/488557.html?iref=rss-c142'), Deal(product_description='The Ecovacs Deebot NEO+ Robot Vacuum & Mop combines advanced cleaning technology with smart connectivity. Equipped with LiDAR mapping and intelligent sensors, it effectively navigates your home, cleaning carpets and hard floors with ease. The model includes an auto-empty station which simplifies maintenance, minimizing the need for frequent manual intervention. With up to 170 minutes of continuous cleaning on a single charge, it is an excellent addition for anyone looking to enhance their home cleaning routine.', price=230.0, url='https://www.dealnews.com/products/Ecovacs/Ecovacs-Deebot-NEO-Robot-Vacuum-Mop-w-Auto-Empty-Station/492059.html?iref=rss-f1912'), Deal(product_description='The Samsung Odyssey Neo G7 43\" is a cutting-edge gaming monitor that features a stunning 4K resolution and a rapid 144Hz refresh rate for smoothly rendered gameplay. It boasts AMD FreeSync technology to reduce screen tearing and enhance visual performance. With multiple connectivity options including one DisplayPort and two HDMI inputs, it\\'s easy to set up with various gaming consoles and PCs. Ideal for avid gamers, this monitor also incorporates smart TV apps, expanding its usability beyond gaming.', price=570.0, url='https://www.dealnews.com/products/Samsung/Samsung-Odyssey-Neo-G7-43-4-K-144-Hz-Mini-LED-Free-Sync-Smart-Monitor/459768.html?iref=rss-f1912')])"
      ]
     },
     "execution_count": 18,
     "metadata": {},
     "output_type": "execute_result"
    }
   ],
   "source": [
    "result"
   ]
  },
  {
   "cell_type": "code",
   "execution_count": null,
   "id": "5ee2e837-1f1d-42d4-8bc4-51cccc343006",
   "metadata": {},
   "outputs": [],
   "source": []
  }
 ],
 "metadata": {
  "kernelspec": {
   "display_name": "llms",
   "language": "python",
   "name": "python3"
  },
  "language_info": {
   "codemirror_mode": {
    "name": "ipython",
    "version": 3
   },
   "file_extension": ".py",
   "mimetype": "text/x-python",
   "name": "python",
   "nbconvert_exporter": "python",
   "pygments_lexer": "ipython3",
   "version": "3.11.13"
  }
 },
 "nbformat": 4,
 "nbformat_minor": 5
}
