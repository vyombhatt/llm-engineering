{
 "cells": [
  {
   "cell_type": "markdown",
   "id": "e426cd04-c053-43e8-b505-63cee7956a53",
   "metadata": {},
   "source": [
    "# Welcome to a very busy Week 8 folder\n",
    "\n",
    "## We have lots to do this week!\n",
    "\n",
    "We'll move at a faster pace than usual, particularly as you're becoming proficient LLM engineers.\n"
   ]
  },
  {
   "cell_type": "code",
   "execution_count": 1,
   "id": "bc0e1c1c-be6a-4395-bbbd-eeafc9330d7e",
   "metadata": {},
   "outputs": [],
   "source": [
    "# Just one import to start with!!\n",
    "\n",
    "import modal"
   ]
  },
  {
   "cell_type": "markdown",
   "id": "ab5c8533-9f66-448f-b9b2-133d1ff50639",
   "metadata": {},
   "source": [
    "# Setting up the modal tokens\n",
    "\n",
    "The first time you run this, please uncomment the next line and execute it.  \n",
    "This is the same as running `modal setup` from the command line. It connects with Modal and installs your tokens.  \n",
    "\n",
    "## Debugging some common problems on Windows\n",
    "\n",
    "If this command fails in the next cell, or if any of the modal commands with the `!` fail, please try running them directly on the command line in an activated environment (without the `!`)\n",
    "\n",
    "A student on Windows mentioned that on Windows, you might also need to run this command from a command prompt in an activated environment afterwards:  \n",
    "`modal token new`  \n",
    "(Thank you Ed B. for that!)\n",
    "\n",
    "Another Windows student Minh N. mentioned you may need to use this approach, from an activated environment in the command line:  \n",
    "`modal token set --token-id <your_token_id> --token-secret <your_token_secret>`\n",
    "\n",
    "Also, a student David S. mentioned the following:  \n",
    "> In case anyone else using Windows hits this problem: Along with having to run `modal token new` from a command prompt, you have to move the generated token file. It will deploy the token file (.modal.toml) to your Windows profile folder. The virtual environment couldn't see that location (strangely, it couldn't even after I set environment variables for it and rebooted). I moved that token file to the folder I'm operating out of for the lab and it stopped throwing auth errors.\n",
    "\n",
    "And another Windows student (Robert M. - thank you!!) added another possible step:\n",
    "\n",
    "\n",
    "> I could not get modal to see my tokens (resulting in an 'auth error'), even after copying the \".modal.toml\" file to the \"week8\" folder and restarting JupyterLab. The fix was to manually set the environment variables (the standard way). This config method is explained by modal on their [web site](https://modal.com/docs/reference/modal.config)  \n",
    "```\n",
    "import os\n",
    "os.environ[\"MODAL_TOKEN_ID\"] = \"xxx\"\n",
    "os.environ[\"MODAL_TOKEN_SECRET\"] = \"yyy\" \n",
    "```\n",
    "\n",
    "Finally: I've also heard that in some situations, you might need to restart the Kernel of this jupyter notebook after running this. (Kernel menu >> Restart Kernel and Clear Outputs of All Cells)."
   ]
  },
  {
   "cell_type": "code",
   "execution_count": 3,
   "id": "0d240622-8422-4c99-8464-c04d063e4cb6",
   "metadata": {},
   "outputs": [],
   "source": [
    "# Remove the '# ' from the next line and run the cell, or run this command without the excalamation mark from an activated command prompt\n",
    "# !modal setup"
   ]
  },
  {
   "cell_type": "code",
   "execution_count": 4,
   "id": "3b133701-f550-44a1-a67f-eb7ccc4769a9",
   "metadata": {},
   "outputs": [],
   "source": [
    "from hello import app, hello, hello_europe"
   ]
  },
  {
   "cell_type": "code",
   "execution_count": 5,
   "id": "0f3f73ae-1295-49f3-9099-b8b41fc3429b",
   "metadata": {},
   "outputs": [
    {
     "data": {
      "text/plain": [
       "'Hello from Dubai, Dubai, AE!!'"
      ]
     },
     "execution_count": 5,
     "metadata": {},
     "output_type": "execute_result"
    }
   ],
   "source": [
    "with app.run():\n",
    "    reply=hello.local()\n",
    "reply"
   ]
  },
  {
   "cell_type": "code",
   "execution_count": 6,
   "id": "c1d8c6f9-edc7-4e52-9b3a-c07d7cff1ac7",
   "metadata": {},
   "outputs": [
    {
     "data": {
      "text/plain": [
       "'Hello from Columbus, Ohio, US!!'"
      ]
     },
     "execution_count": 6,
     "metadata": {},
     "output_type": "execute_result"
    }
   ],
   "source": [
    "with app.run():\n",
    "    reply=hello.remote()\n",
    "reply"
   ]
  },
  {
   "cell_type": "markdown",
   "id": "a1c075e9-49c7-4ebd-812f-83196d32de32",
   "metadata": {},
   "source": [
    "## Added thanks to student Tue H.\n",
    "\n",
    "If you look in hello.py, I've added a simple function hello_europe\n",
    "\n",
    "That uses the decorator:  \n",
    "`@app.function(image=image, region=\"eu\")`\n",
    "\n",
    "See the result below! More region specific settings are [here](https://modal.com/docs/guide/region-selection)\n",
    "\n",
    "Note that it does consume marginally more credits to specify a region."
   ]
  },
  {
   "cell_type": "code",
   "execution_count": 6,
   "id": "b027da1a-c79d-42cb-810d-32ddca31aa02",
   "metadata": {},
   "outputs": [
    {
     "data": {
      "text/plain": [
       "'Hello from Paris, Île-de-France, FR!!'"
      ]
     },
     "execution_count": 6,
     "metadata": {},
     "output_type": "execute_result"
    }
   ],
   "source": [
    "with app.run():\n",
    "    reply=hello_europe.remote()\n",
    "reply"
   ]
  },
  {
   "cell_type": "markdown",
   "id": "22e8d804-c027-45fb-8fef-06e7bba6295a",
   "metadata": {},
   "source": [
    "# Before we move on -\n",
    "\n",
    "## We need to set your HuggingFace Token as a secret in Modal\n",
    "\n",
    "1. Go to modal.com, sign in and go to your dashboard\n",
    "2. Click on Secrets in the nav bar\n",
    "3. Create new secret, click on Hugging Face, this new secret needs to be called **hf-secret** because that's how we refer to it in the code\n",
    "4. Fill in your HF_TOKEN where it prompts you\n",
    "\n",
    "### And now back to business: time to work with Llama"
   ]
  },
  {
   "cell_type": "code",
   "execution_count": 2,
   "id": "cb8b6c41-8259-4329-b1c4-a1f67d26d1be",
   "metadata": {},
   "outputs": [],
   "source": [
    "# This import may give a deprecation warning about adding local Python modules to the Image\n",
    "# That warning can be safely ignored. You may get the same warning in other places, too..\n",
    "\n",
    "from llama import app, generate"
   ]
  },
  {
   "cell_type": "code",
   "execution_count": 9,
   "id": "db4a718a-d95d-4f61-9688-c9df21d88fe6",
   "metadata": {},
   "outputs": [
    {
     "data": {
      "application/vnd.jupyter.widget-view+json": {
       "model_id": "5ba83988c05c494886263983fe8e4ef3",
       "version_major": 2,
       "version_minor": 0
      },
      "text/plain": [
       "Output()"
      ]
     },
     "metadata": {},
     "output_type": "display_data"
    },
    {
     "data": {
      "text/html": [
       "<pre style=\"white-space:pre;overflow-x:auto;line-height:normal;font-family:Menlo,'DejaVu Sans Mono',consolas,'Courier New',monospace\"><span style=\"color: #008000; text-decoration-color: #008000\">✓</span> Initialized. <span style=\"color: #b2b2b2; text-decoration-color: #b2b2b2\">View run at </span><span style=\"color: #b2b2b2; text-decoration-color: #b2b2b2; text-decoration: underline\">https://modal.com/apps/vyom-bhatt-37/main/ap-TD1xUkz0HkS47ivTQIFEin</span>\n",
       "</pre>\n"
      ],
      "text/plain": [
       "\u001b[32m✓\u001b[0m Initialized. \u001b[38;5;249mView run at \u001b[0m\u001b[4;38;5;249mhttps://modal.com/apps/vyom-bhatt-37/main/ap-TD1xUkz0HkS47ivTQIFEin\u001b[0m\n"
      ]
     },
     "metadata": {},
     "output_type": "display_data"
    },
    {
     "data": {
      "text/html": [
       "<pre style=\"white-space:pre;overflow-x:auto;line-height:normal;font-family:Menlo,'DejaVu Sans Mono',consolas,'Courier New',monospace\"></pre>\n"
      ],
      "text/plain": []
     },
     "metadata": {},
     "output_type": "display_data"
    },
    {
     "data": {
      "application/vnd.jupyter.widget-view+json": {
       "model_id": "3b73f9a262114c26bf89f00565d5174c",
       "version_major": 2,
       "version_minor": 0
      },
      "text/plain": [
       "Output()"
      ]
     },
     "metadata": {},
     "output_type": "display_data"
    },
    {
     "data": {
      "text/html": [
       "<pre style=\"white-space:pre;overflow-x:auto;line-height:normal;font-family:Menlo,'DejaVu Sans Mono',consolas,'Courier New',monospace\"></pre>\n"
      ],
      "text/plain": []
     },
     "metadata": {},
     "output_type": "display_data"
    },
    {
     "data": {
      "text/html": [
       "<pre style=\"white-space:pre;overflow-x:auto;line-height:normal;font-family:Menlo,'DejaVu Sans Mono',consolas,'Courier New',monospace\"><span style=\"color: #008000; text-decoration-color: #008000\">✓</span> Created objects.\n",
       "<span style=\"color: #808080; text-decoration-color: #808080\">├── </span>🔨 Created mount \n",
       "<span style=\"color: #808080; text-decoration-color: #808080\">│   </span>c:\\Users\\VyomBhatt\\Documents\\Github\\Personal\\llm-engineering\\8-agentic-ai-using-llms-capstone\\llama.py\n",
       "<span style=\"color: #808080; text-decoration-color: #808080\">└── </span>🔨 Created function generate.\n",
       "</pre>\n"
      ],
      "text/plain": [
       "\u001b[32m✓\u001b[0m Created objects.\n",
       "\u001b[38;5;244m├── \u001b[0m🔨 Created mount \n",
       "\u001b[38;5;244m│   \u001b[0mc:\\Users\\VyomBhatt\\Documents\\Github\\Personal\\llm-engineering\\8-agentic-ai-using-llms-capstone\\llama.py\n",
       "\u001b[38;5;244m└── \u001b[0m🔨 Created function generate.\n"
      ]
     },
     "metadata": {},
     "output_type": "display_data"
    },
    {
     "data": {
      "application/vnd.jupyter.widget-view+json": {
       "model_id": "7e093044834040928e07667a3d0619e4",
       "version_major": 2,
       "version_minor": 0
      },
      "text/plain": [
       "Output()"
      ]
     },
     "metadata": {},
     "output_type": "display_data"
    },
    {
     "data": {
      "text/html": [
       "<pre style=\"white-space:pre;overflow-x:auto;line-height:normal;font-family:Menlo,'DejaVu Sans Mono',consolas,'Courier New',monospace\"><span style=\"color: #800000; text-decoration-color: #800000\">\n",
       "</span></pre>\n"
      ],
      "text/plain": [
       "\u001b[31m\n",
       "\u001b[0m"
      ]
     },
     "metadata": {},
     "output_type": "display_data"
    },
    {
     "data": {
      "text/html": [
       "<pre style=\"white-space:pre;overflow-x:auto;line-height:normal;font-family:Menlo,'DejaVu Sans Mono',consolas,'Courier New',monospace\"><span style=\"color: #800000; text-decoration-color: #800000\">\u001b[1AFetching 4 files:   0%|          | 0/4 [00:00&lt;?, ?it/s]</span></pre>\n"
      ],
      "text/plain": [
       "\u001b[31m\u001b[1AFetching 4 files:   0%|          | 0/4 [00:00<?, ?it/s]\u001b[0m"
      ]
     },
     "metadata": {},
     "output_type": "display_data"
    },
    {
     "data": {
      "text/html": [
       "<pre style=\"white-space:pre;overflow-x:auto;line-height:normal;font-family:Menlo,'DejaVu Sans Mono',consolas,'Courier New',monospace\"><span style=\"color: #800000; text-decoration-color: #800000\">Fetching 4 files:  25%|██▌       | 1/4 [00:59&lt;02:58, 59.46s/it]Fetching 4 files: 100%|██████████| 4/4 [00:59&lt;00:00, 14.86s/it]\n",
       "</span></pre>\n"
      ],
      "text/plain": [
       "\u001b[31mFetching 4 files:  25%|██▌       | 1/4 [00:59<02:58, 59.46s/it]Fetching 4 files: 100%|██████████| 4/4 [00:59<00:00, 14.86s/it]\n",
       "\u001b[0m"
      ]
     },
     "metadata": {},
     "output_type": "display_data"
    },
    {
     "data": {
      "text/html": [
       "<pre style=\"white-space:pre;overflow-x:auto;line-height:normal;font-family:Menlo,'DejaVu Sans Mono',consolas,'Courier New',monospace\"><span style=\"color: #800000; text-decoration-color: #800000\">\n",
       "</span></pre>\n"
      ],
      "text/plain": [
       "\u001b[31m\n",
       "\u001b[0m"
      ]
     },
     "metadata": {},
     "output_type": "display_data"
    },
    {
     "data": {
      "text/html": [
       "<pre style=\"white-space:pre;overflow-x:auto;line-height:normal;font-family:Menlo,'DejaVu Sans Mono',consolas,'Courier New',monospace\"><span style=\"color: #800000; text-decoration-color: #800000\">\u001b[1ALoading checkpoint shards:   0%|          | 0/4 [00:00&lt;?, ?it/s]\n",
       "</span></pre>\n"
      ],
      "text/plain": [
       "\u001b[31m\u001b[1ALoading checkpoint shards:   0%|          | 0/4 [00:00<?, ?it/s]\n",
       "\u001b[0m"
      ]
     },
     "metadata": {},
     "output_type": "display_data"
    },
    {
     "data": {
      "text/html": [
       "<pre style=\"white-space:pre;overflow-x:auto;line-height:normal;font-family:Menlo,'DejaVu Sans Mono',consolas,'Courier New',monospace\"><span style=\"color: #800000; text-decoration-color: #800000\">\u001b[1ALoading checkpoint shards:  25%|██▌       | 1/4 [00:04&lt;00:13,  4.60s/it]\n",
       "</span></pre>\n"
      ],
      "text/plain": [
       "\u001b[31m\u001b[1ALoading checkpoint shards:  25%|██▌       | 1/4 [00:04<00:13,  4.60s/it]\n",
       "\u001b[0m"
      ]
     },
     "metadata": {},
     "output_type": "display_data"
    },
    {
     "data": {
      "text/html": [
       "<pre style=\"white-space:pre;overflow-x:auto;line-height:normal;font-family:Menlo,'DejaVu Sans Mono',consolas,'Courier New',monospace\"><span style=\"color: #800000; text-decoration-color: #800000\">\u001b[1ALoading checkpoint shards:  50%|█████     | 2/4 [00:09&lt;00:09,  4.94s/it]\n",
       "</span></pre>\n"
      ],
      "text/plain": [
       "\u001b[31m\u001b[1ALoading checkpoint shards:  50%|█████     | 2/4 [00:09<00:09,  4.94s/it]\n",
       "\u001b[0m"
      ]
     },
     "metadata": {},
     "output_type": "display_data"
    },
    {
     "data": {
      "text/html": [
       "<pre style=\"white-space:pre;overflow-x:auto;line-height:normal;font-family:Menlo,'DejaVu Sans Mono',consolas,'Courier New',monospace\"><span style=\"color: #800000; text-decoration-color: #800000\">\u001b[1ALoading checkpoint shards:  75%|███████▌  | 3/4 [00:14&lt;00:04,  4.94s/it]Loading checkpoint shards: 100%|██████████| 4/4 [00:15&lt;00:00,  3.15s/it]Loading checkpoint shards: 100%|██████████| 4/4 [00:15&lt;00:00,  3.78s/it]\n",
       "</span></pre>\n"
      ],
      "text/plain": [
       "\u001b[31m\u001b[1ALoading checkpoint shards:  75%|███████▌  | 3/4 [00:14<00:04,  4.94s/it]Loading checkpoint shards: 100%|██████████| 4/4 [00:15<00:00,  3.15s/it]Loading checkpoint shards: 100%|██████████| 4/4 [00:15<00:00,  3.78s/it]\n",
       "\u001b[0m"
      ]
     },
     "metadata": {},
     "output_type": "display_data"
    },
    {
     "data": {
      "text/html": [
       "<pre style=\"white-space:pre;overflow-x:auto;line-height:normal;font-family:Menlo,'DejaVu Sans Mono',consolas,'Courier New',monospace\"><span style=\"color: #800000; text-decoration-color: #800000\">Setting `pad_token_id` to `eos_token_id`:128001 for open-end generation.\n",
       "</span></pre>\n"
      ],
      "text/plain": [
       "\u001b[31mSetting `pad_token_id` to `eos_token_id`:128001 for open-end generation.\n",
       "\u001b[0m"
      ]
     },
     "metadata": {},
     "output_type": "display_data"
    },
    {
     "data": {
      "text/html": [
       "<pre style=\"white-space:pre;overflow-x:auto;line-height:normal;font-family:Menlo,'DejaVu Sans Mono',consolas,'Courier New',monospace\"></pre>\n"
      ],
      "text/plain": []
     },
     "metadata": {},
     "output_type": "display_data"
    },
    {
     "data": {
      "text/html": [
       "<pre style=\"white-space:pre;overflow-x:auto;line-height:normal;font-family:Menlo,'DejaVu Sans Mono',consolas,'Courier New',monospace\"><span style=\"color: #808000; text-decoration-color: #808000\">Stopping app - local entrypoint completed.\n",
       "</span></pre>\n"
      ],
      "text/plain": [
       "\u001b[33mStopping app - local entrypoint completed.\n",
       "\u001b[0m"
      ]
     },
     "metadata": {},
     "output_type": "display_data"
    },
    {
     "data": {
      "text/html": [
       "<pre style=\"white-space:pre;overflow-x:auto;line-height:normal;font-family:Menlo,'DejaVu Sans Mono',consolas,'Courier New',monospace\"><span style=\"color: #008000; text-decoration-color: #008000\">✓</span> App completed. <span style=\"color: #b2b2b2; text-decoration-color: #b2b2b2\">View run at </span><span style=\"color: #b2b2b2; text-decoration-color: #b2b2b2; text-decoration: underline\">https://modal.com/apps/vyom-bhatt-37/main/ap-TD1xUkz0HkS47ivTQIFEin</span>\n",
       "</pre>\n"
      ],
      "text/plain": [
       "\u001b[32m✓\u001b[0m App completed. \u001b[38;5;249mView run at \u001b[0m\u001b[4;38;5;249mhttps://modal.com/apps/vyom-bhatt-37/main/ap-TD1xUkz0HkS47ivTQIFEin\u001b[0m\n"
      ]
     },
     "metadata": {},
     "output_type": "display_data"
    },
    {
     "data": {
      "text/plain": [
       "'<|begin_of_text|>Life is a mystery, everyone must stand alone, I hear you call my name,'"
      ]
     },
     "execution_count": 9,
     "metadata": {},
     "output_type": "execute_result"
    }
   ],
   "source": [
    "with modal.enable_output():\n",
    "    with app.run():\n",
    "        result=generate.remote(\"Life is a mystery, everyone must stand alone, I hear\")\n",
    "result"
   ]
  },
  {
   "cell_type": "code",
   "execution_count": 10,
   "id": "9a9a6844-29ec-4264-8e72-362d976b3968",
   "metadata": {},
   "outputs": [],
   "source": [
    "import modal\n",
    "from pricer_ephemeral import app, price"
   ]
  },
  {
   "cell_type": "code",
   "execution_count": 11,
   "id": "50e6cf99-8959-4ae3-ba02-e325cb7fff94",
   "metadata": {},
   "outputs": [
    {
     "data": {
      "application/vnd.jupyter.widget-view+json": {
       "model_id": "1f064d4733c940f1b0868993b07e4302",
       "version_major": 2,
       "version_minor": 0
      },
      "text/plain": [
       "Output()"
      ]
     },
     "metadata": {},
     "output_type": "display_data"
    },
    {
     "data": {
      "text/html": [
       "<pre style=\"white-space:pre;overflow-x:auto;line-height:normal;font-family:Menlo,'DejaVu Sans Mono',consolas,'Courier New',monospace\"><span style=\"color: #008000; text-decoration-color: #008000\">✓</span> Initialized. <span style=\"color: #b2b2b2; text-decoration-color: #b2b2b2\">View run at </span><span style=\"color: #b2b2b2; text-decoration-color: #b2b2b2; text-decoration: underline\">https://modal.com/apps/vyom-bhatt-37/main/ap-WerhYSt6JrXYMPVXdFFhu2</span>\n",
       "</pre>\n"
      ],
      "text/plain": [
       "\u001b[32m✓\u001b[0m Initialized. \u001b[38;5;249mView run at \u001b[0m\u001b[4;38;5;249mhttps://modal.com/apps/vyom-bhatt-37/main/ap-WerhYSt6JrXYMPVXdFFhu2\u001b[0m\n"
      ]
     },
     "metadata": {},
     "output_type": "display_data"
    },
    {
     "data": {
      "text/html": [
       "<pre style=\"white-space:pre;overflow-x:auto;line-height:normal;font-family:Menlo,'DejaVu Sans Mono',consolas,'Courier New',monospace\"></pre>\n"
      ],
      "text/plain": []
     },
     "metadata": {},
     "output_type": "display_data"
    },
    {
     "data": {
      "application/vnd.jupyter.widget-view+json": {
       "model_id": "6e715b8448a14d0492234397dd49497f",
       "version_major": 2,
       "version_minor": 0
      },
      "text/plain": [
       "Output()"
      ]
     },
     "metadata": {},
     "output_type": "display_data"
    },
    {
     "data": {
      "text/html": [
       "<pre style=\"white-space:pre;overflow-x:auto;line-height:normal;font-family:Menlo,'DejaVu Sans Mono',consolas,'Courier New',monospace\"><span style=\"color: #808000; text-decoration-color: #808000\">Building image im-cUZ3Qlkqe2GE1kcIgbJgTe\n",
       "</span></pre>\n"
      ],
      "text/plain": [
       "\u001b[33mBuilding image im-cUZ3Qlkqe2GE1kcIgbJgTe\n",
       "\u001b[0m"
      ]
     },
     "metadata": {},
     "output_type": "display_data"
    },
    {
     "data": {
      "text/html": [
       "<pre style=\"white-space:pre;overflow-x:auto;line-height:normal;font-family:Menlo,'DejaVu Sans Mono',consolas,'Courier New',monospace\"><span style=\"color: #808000; text-decoration-color: #808000\">\n",
       "=&gt; Step 0: FROM base\n",
       "</span></pre>\n"
      ],
      "text/plain": [
       "\u001b[33m\n",
       "=> Step 0: FROM base\n",
       "\u001b[0m"
      ]
     },
     "metadata": {},
     "output_type": "display_data"
    },
    {
     "data": {
      "text/html": [
       "<pre style=\"white-space:pre;overflow-x:auto;line-height:normal;font-family:Menlo,'DejaVu Sans Mono',consolas,'Courier New',monospace\"><span style=\"color: #808000; text-decoration-color: #808000\">\n",
       "=&gt; Step 1: RUN python -m pip install accelerate bitsandbytes peft torch transformers\n",
       "</span></pre>\n"
      ],
      "text/plain": [
       "\u001b[33m\n",
       "=> Step 1: RUN python -m pip install accelerate bitsandbytes peft torch transformers\n",
       "\u001b[0m"
      ]
     },
     "metadata": {},
     "output_type": "display_data"
    },
    {
     "data": {
      "text/html": [
       "<pre style=\"white-space:pre;overflow-x:auto;line-height:normal;font-family:Menlo,'DejaVu Sans Mono',consolas,'Courier New',monospace\"><span style=\"color: #808000; text-decoration-color: #808000\">Looking in indexes: http://pypi-mirror.modal.local:5555/simple\n",
       "</span></pre>\n"
      ],
      "text/plain": [
       "\u001b[33mLooking in indexes: http://pypi-mirror.modal.local:5555/simple\n",
       "\u001b[0m"
      ]
     },
     "metadata": {},
     "output_type": "display_data"
    },
    {
     "data": {
      "text/html": [
       "<pre style=\"white-space:pre;overflow-x:auto;line-height:normal;font-family:Menlo,'DejaVu Sans Mono',consolas,'Courier New',monospace\"><span style=\"color: #808000; text-decoration-color: #808000\">Collecting accelerate\n",
       "  Downloading http://pypi-mirror.modal.local:5555/simple/accelerate/accelerate-1.10.0-py3-none-any.whl.metadata (19 kB)\n",
       "</span></pre>\n"
      ],
      "text/plain": [
       "\u001b[33mCollecting accelerate\n",
       "  Downloading http://pypi-mirror.modal.local:5555/simple/accelerate/accelerate-1.10.0-py3-none-any.whl.metadata (19 kB)\n",
       "\u001b[0m"
      ]
     },
     "metadata": {},
     "output_type": "display_data"
    },
    {
     "data": {
      "text/html": [
       "<pre style=\"white-space:pre;overflow-x:auto;line-height:normal;font-family:Menlo,'DejaVu Sans Mono',consolas,'Courier New',monospace\"><span style=\"color: #808000; text-decoration-color: #808000\">Collecting bitsandbytes\n",
       "  Downloading http://pypi-mirror.modal.local:5555/simple/bitsandbytes/bitsandbytes-0.46.1-py3-none-manylinux_2_24_x86_64.whl.metadata (10 kB)\n",
       "</span></pre>\n"
      ],
      "text/plain": [
       "\u001b[33mCollecting bitsandbytes\n",
       "  Downloading http://pypi-mirror.modal.local:5555/simple/bitsandbytes/bitsandbytes-0.46.1-py3-none-manylinux_2_24_x86_64.whl.metadata (10 kB)\n",
       "\u001b[0m"
      ]
     },
     "metadata": {},
     "output_type": "display_data"
    },
    {
     "data": {
      "text/html": [
       "<pre style=\"white-space:pre;overflow-x:auto;line-height:normal;font-family:Menlo,'DejaVu Sans Mono',consolas,'Courier New',monospace\"><span style=\"color: #808000; text-decoration-color: #808000\">Collecting peft\n",
       "  Downloading http://pypi-mirror.modal.local:5555/simple/peft/peft-0.17.0-py3-none-any.whl.metadata (14 kB)\n",
       "</span></pre>\n"
      ],
      "text/plain": [
       "\u001b[33mCollecting peft\n",
       "  Downloading http://pypi-mirror.modal.local:5555/simple/peft/peft-0.17.0-py3-none-any.whl.metadata (14 kB)\n",
       "\u001b[0m"
      ]
     },
     "metadata": {},
     "output_type": "display_data"
    },
    {
     "data": {
      "text/html": [
       "<pre style=\"white-space:pre;overflow-x:auto;line-height:normal;font-family:Menlo,'DejaVu Sans Mono',consolas,'Courier New',monospace\"><span style=\"color: #808000; text-decoration-color: #808000\">Collecting torch\n",
       "  Downloading http://pypi-mirror.modal.local:5555/simple/torch/torch-2.8.0-cp311-cp311-manylinux_2_28_x86_64.whl.metadata (30 kB)\n",
       "</span></pre>\n"
      ],
      "text/plain": [
       "\u001b[33mCollecting torch\n",
       "  Downloading http://pypi-mirror.modal.local:5555/simple/torch/torch-2.8.0-cp311-cp311-manylinux_2_28_x86_64.whl.metadata (30 kB)\n",
       "\u001b[0m"
      ]
     },
     "metadata": {},
     "output_type": "display_data"
    },
    {
     "data": {
      "text/html": [
       "<pre style=\"white-space:pre;overflow-x:auto;line-height:normal;font-family:Menlo,'DejaVu Sans Mono',consolas,'Courier New',monospace\"><span style=\"color: #808000; text-decoration-color: #808000\">Collecting transformers\n",
       "  Downloading http://pypi-mirror.modal.local:5555/simple/transformers/transformers-4.55.0-py3-none-any.whl.metadata (39 kB)\n",
       "</span></pre>\n"
      ],
      "text/plain": [
       "\u001b[33mCollecting transformers\n",
       "  Downloading http://pypi-mirror.modal.local:5555/simple/transformers/transformers-4.55.0-py3-none-any.whl.metadata (39 kB)\n",
       "\u001b[0m"
      ]
     },
     "metadata": {},
     "output_type": "display_data"
    },
    {
     "data": {
      "text/html": [
       "<pre style=\"white-space:pre;overflow-x:auto;line-height:normal;font-family:Menlo,'DejaVu Sans Mono',consolas,'Courier New',monospace\"><span style=\"color: #808000; text-decoration-color: #808000\">Collecting numpy&lt;3.0.0,&gt;=1.17 (from accelerate)\n",
       "</span></pre>\n"
      ],
      "text/plain": [
       "\u001b[33mCollecting numpy<3.0.0,>=1.17 (from accelerate)\n",
       "\u001b[0m"
      ]
     },
     "metadata": {},
     "output_type": "display_data"
    },
    {
     "data": {
      "text/html": [
       "<pre style=\"white-space:pre;overflow-x:auto;line-height:normal;font-family:Menlo,'DejaVu Sans Mono',consolas,'Courier New',monospace\"><span style=\"color: #808000; text-decoration-color: #808000\">  Downloading http://pypi-mirror.modal.local:5555/simple/numpy/numpy-2.3.2-cp311-cp311-manylinux_2_27_x86_64.manylinux_2_28_x86_64.whl.metadata (62 kB)\n",
       "</span></pre>\n"
      ],
      "text/plain": [
       "\u001b[33m  Downloading http://pypi-mirror.modal.local:5555/simple/numpy/numpy-2.3.2-cp311-cp311-manylinux_2_27_x86_64.manylinux_2_28_x86_64.whl.metadata (62 kB)\n",
       "\u001b[0m"
      ]
     },
     "metadata": {},
     "output_type": "display_data"
    },
    {
     "data": {
      "text/html": [
       "<pre style=\"white-space:pre;overflow-x:auto;line-height:normal;font-family:Menlo,'DejaVu Sans Mono',consolas,'Courier New',monospace\"><span style=\"color: #808000; text-decoration-color: #808000\">Collecting packaging&gt;=20.0 (from accelerate)\n",
       "</span></pre>\n"
      ],
      "text/plain": [
       "\u001b[33mCollecting packaging>=20.0 (from accelerate)\n",
       "\u001b[0m"
      ]
     },
     "metadata": {},
     "output_type": "display_data"
    },
    {
     "data": {
      "text/html": [
       "<pre style=\"white-space:pre;overflow-x:auto;line-height:normal;font-family:Menlo,'DejaVu Sans Mono',consolas,'Courier New',monospace\"><span style=\"color: #808000; text-decoration-color: #808000\">  Downloading http://pypi-mirror.modal.local:5555/simple/packaging/packaging-25.0-py3-none-any.whl.metadata (3.3 kB)\n",
       "</span></pre>\n"
      ],
      "text/plain": [
       "\u001b[33m  Downloading http://pypi-mirror.modal.local:5555/simple/packaging/packaging-25.0-py3-none-any.whl.metadata (3.3 kB)\n",
       "\u001b[0m"
      ]
     },
     "metadata": {},
     "output_type": "display_data"
    },
    {
     "data": {
      "text/html": [
       "<pre style=\"white-space:pre;overflow-x:auto;line-height:normal;font-family:Menlo,'DejaVu Sans Mono',consolas,'Courier New',monospace\"><span style=\"color: #808000; text-decoration-color: #808000\">Collecting psutil (from accelerate)\n",
       "  Downloading http://pypi-mirror.modal.local:5555/simple/psutil/psutil-7.0.0-cp36-abi3-manylinux_2_12_x86_64.manylinux2010_x86_64.manylinux_2_17_x86_64.manylinux2014_x86_64.whl.metadata (22 kB)\n",
       "</span></pre>\n"
      ],
      "text/plain": [
       "\u001b[33mCollecting psutil (from accelerate)\n",
       "  Downloading http://pypi-mirror.modal.local:5555/simple/psutil/psutil-7.0.0-cp36-abi3-manylinux_2_12_x86_64.manylinux2010_x86_64.manylinux_2_17_x86_64.manylinux2014_x86_64.whl.metadata (22 kB)\n",
       "\u001b[0m"
      ]
     },
     "metadata": {},
     "output_type": "display_data"
    },
    {
     "data": {
      "text/html": [
       "<pre style=\"white-space:pre;overflow-x:auto;line-height:normal;font-family:Menlo,'DejaVu Sans Mono',consolas,'Courier New',monospace\"><span style=\"color: #808000; text-decoration-color: #808000\">Collecting pyyaml (from accelerate)\n",
       "  Downloading http://pypi-mirror.modal.local:5555/simple/pyyaml/PyYAML-6.0.2-cp311-cp311-manylinux_2_17_x86_64.manylinux2014_x86_64.whl.metadata (2.1 kB)\n",
       "</span></pre>\n"
      ],
      "text/plain": [
       "\u001b[33mCollecting pyyaml (from accelerate)\n",
       "  Downloading http://pypi-mirror.modal.local:5555/simple/pyyaml/PyYAML-6.0.2-cp311-cp311-manylinux_2_17_x86_64.manylinux2014_x86_64.whl.metadata (2.1 kB)\n",
       "\u001b[0m"
      ]
     },
     "metadata": {},
     "output_type": "display_data"
    },
    {
     "data": {
      "text/html": [
       "<pre style=\"white-space:pre;overflow-x:auto;line-height:normal;font-family:Menlo,'DejaVu Sans Mono',consolas,'Courier New',monospace\"><span style=\"color: #808000; text-decoration-color: #808000\">Collecting huggingface_hub&gt;=0.21.0 (from accelerate)\n",
       "  Downloading http://pypi-mirror.modal.local:5555/simple/huggingface-hub/huggingface_hub-0.34.4-py3-none-any.whl.metadata (14 kB)\n",
       "</span></pre>\n"
      ],
      "text/plain": [
       "\u001b[33mCollecting huggingface_hub>=0.21.0 (from accelerate)\n",
       "  Downloading http://pypi-mirror.modal.local:5555/simple/huggingface-hub/huggingface_hub-0.34.4-py3-none-any.whl.metadata (14 kB)\n",
       "\u001b[0m"
      ]
     },
     "metadata": {},
     "output_type": "display_data"
    },
    {
     "data": {
      "text/html": [
       "<pre style=\"white-space:pre;overflow-x:auto;line-height:normal;font-family:Menlo,'DejaVu Sans Mono',consolas,'Courier New',monospace\"><span style=\"color: #808000; text-decoration-color: #808000\">Collecting safetensors&gt;=0.4.3 (from accelerate)\n",
       "  Downloading http://pypi-mirror.modal.local:5555/simple/safetensors/safetensors-0.6.2-cp38-abi3-manylinux_2_17_x86_64.manylinux2014_x86_64.whl.metadata (4.1 kB)\n",
       "</span></pre>\n"
      ],
      "text/plain": [
       "\u001b[33mCollecting safetensors>=0.4.3 (from accelerate)\n",
       "  Downloading http://pypi-mirror.modal.local:5555/simple/safetensors/safetensors-0.6.2-cp38-abi3-manylinux_2_17_x86_64.manylinux2014_x86_64.whl.metadata (4.1 kB)\n",
       "\u001b[0m"
      ]
     },
     "metadata": {},
     "output_type": "display_data"
    },
    {
     "data": {
      "text/html": [
       "<pre style=\"white-space:pre;overflow-x:auto;line-height:normal;font-family:Menlo,'DejaVu Sans Mono',consolas,'Courier New',monospace\"><span style=\"color: #808000; text-decoration-color: #808000\">Collecting tqdm (from peft)\n",
       "  Downloading http://pypi-mirror.modal.local:5555/simple/tqdm/tqdm-4.67.1-py3-none-any.whl.metadata (57 kB)\n",
       "</span></pre>\n"
      ],
      "text/plain": [
       "\u001b[33mCollecting tqdm (from peft)\n",
       "  Downloading http://pypi-mirror.modal.local:5555/simple/tqdm/tqdm-4.67.1-py3-none-any.whl.metadata (57 kB)\n",
       "\u001b[0m"
      ]
     },
     "metadata": {},
     "output_type": "display_data"
    },
    {
     "data": {
      "text/html": [
       "<pre style=\"white-space:pre;overflow-x:auto;line-height:normal;font-family:Menlo,'DejaVu Sans Mono',consolas,'Courier New',monospace\"><span style=\"color: #808000; text-decoration-color: #808000\">Collecting filelock (from torch)\n",
       "  Downloading http://pypi-mirror.modal.local:5555/simple/filelock/filelock-3.18.0-py3-none-any.whl.metadata (2.9 kB)\n",
       "</span></pre>\n"
      ],
      "text/plain": [
       "\u001b[33mCollecting filelock (from torch)\n",
       "  Downloading http://pypi-mirror.modal.local:5555/simple/filelock/filelock-3.18.0-py3-none-any.whl.metadata (2.9 kB)\n",
       "\u001b[0m"
      ]
     },
     "metadata": {},
     "output_type": "display_data"
    },
    {
     "data": {
      "text/html": [
       "<pre style=\"white-space:pre;overflow-x:auto;line-height:normal;font-family:Menlo,'DejaVu Sans Mono',consolas,'Courier New',monospace\"><span style=\"color: #808000; text-decoration-color: #808000\">Requirement already satisfied: typing-extensions&gt;=4.10.0 in /usr/local/lib/python3.11/site-packages (from torch) (4.12.2)\n",
       "</span></pre>\n"
      ],
      "text/plain": [
       "\u001b[33mRequirement already satisfied: typing-extensions>=4.10.0 in /usr/local/lib/python3.11/site-packages (from torch) (4.12.2)\n",
       "\u001b[0m"
      ]
     },
     "metadata": {},
     "output_type": "display_data"
    },
    {
     "data": {
      "text/html": [
       "<pre style=\"white-space:pre;overflow-x:auto;line-height:normal;font-family:Menlo,'DejaVu Sans Mono',consolas,'Courier New',monospace\"><span style=\"color: #808000; text-decoration-color: #808000\">Collecting sympy&gt;=1.13.3 (from torch)\n",
       "  Downloading http://pypi-mirror.modal.local:5555/simple/sympy/sympy-1.14.0-py3-none-any.whl.metadata (12 kB)\n",
       "</span></pre>\n"
      ],
      "text/plain": [
       "\u001b[33mCollecting sympy>=1.13.3 (from torch)\n",
       "  Downloading http://pypi-mirror.modal.local:5555/simple/sympy/sympy-1.14.0-py3-none-any.whl.metadata (12 kB)\n",
       "\u001b[0m"
      ]
     },
     "metadata": {},
     "output_type": "display_data"
    },
    {
     "data": {
      "text/html": [
       "<pre style=\"white-space:pre;overflow-x:auto;line-height:normal;font-family:Menlo,'DejaVu Sans Mono',consolas,'Courier New',monospace\"><span style=\"color: #808000; text-decoration-color: #808000\">Collecting networkx (from torch)\n",
       "  Downloading http://pypi-mirror.modal.local:5555/simple/networkx/networkx-3.5-py3-none-any.whl.metadata (6.3 kB)\n",
       "</span></pre>\n"
      ],
      "text/plain": [
       "\u001b[33mCollecting networkx (from torch)\n",
       "  Downloading http://pypi-mirror.modal.local:5555/simple/networkx/networkx-3.5-py3-none-any.whl.metadata (6.3 kB)\n",
       "\u001b[0m"
      ]
     },
     "metadata": {},
     "output_type": "display_data"
    },
    {
     "data": {
      "text/html": [
       "<pre style=\"white-space:pre;overflow-x:auto;line-height:normal;font-family:Menlo,'DejaVu Sans Mono',consolas,'Courier New',monospace\"><span style=\"color: #808000; text-decoration-color: #808000\">Collecting jinja2 (from torch)\n",
       "  Downloading http://pypi-mirror.modal.local:5555/simple/jinja2/jinja2-3.1.6-py3-none-any.whl.metadata (2.9 kB)\n",
       "</span></pre>\n"
      ],
      "text/plain": [
       "\u001b[33mCollecting jinja2 (from torch)\n",
       "  Downloading http://pypi-mirror.modal.local:5555/simple/jinja2/jinja2-3.1.6-py3-none-any.whl.metadata (2.9 kB)\n",
       "\u001b[0m"
      ]
     },
     "metadata": {},
     "output_type": "display_data"
    },
    {
     "data": {
      "text/html": [
       "<pre style=\"white-space:pre;overflow-x:auto;line-height:normal;font-family:Menlo,'DejaVu Sans Mono',consolas,'Courier New',monospace\"><span style=\"color: #808000; text-decoration-color: #808000\">Collecting fsspec (from torch)\n",
       "  Downloading http://pypi-mirror.modal.local:5555/simple/fsspec/fsspec-2025.7.0-py3-none-any.whl.metadata (12 kB)\n",
       "</span></pre>\n"
      ],
      "text/plain": [
       "\u001b[33mCollecting fsspec (from torch)\n",
       "  Downloading http://pypi-mirror.modal.local:5555/simple/fsspec/fsspec-2025.7.0-py3-none-any.whl.metadata (12 kB)\n",
       "\u001b[0m"
      ]
     },
     "metadata": {},
     "output_type": "display_data"
    },
    {
     "data": {
      "text/html": [
       "<pre style=\"white-space:pre;overflow-x:auto;line-height:normal;font-family:Menlo,'DejaVu Sans Mono',consolas,'Courier New',monospace\"><span style=\"color: #808000; text-decoration-color: #808000\">Collecting nvidia-cuda-nvrtc-cu12==12.8.93 (from torch)\n",
       "  Downloading http://pypi-mirror.modal.local:5555/simple/nvidia-cuda-nvrtc-cu12/nvidia_cuda_nvrtc_cu12-12.8.93-py3-none-manylinux2010_x86_64.manylinux_2_12_x86_64.whl.metadata (1.7 kB)\n",
       "</span></pre>\n"
      ],
      "text/plain": [
       "\u001b[33mCollecting nvidia-cuda-nvrtc-cu12==12.8.93 (from torch)\n",
       "  Downloading http://pypi-mirror.modal.local:5555/simple/nvidia-cuda-nvrtc-cu12/nvidia_cuda_nvrtc_cu12-12.8.93-py3-none-manylinux2010_x86_64.manylinux_2_12_x86_64.whl.metadata (1.7 kB)\n",
       "\u001b[0m"
      ]
     },
     "metadata": {},
     "output_type": "display_data"
    },
    {
     "data": {
      "text/html": [
       "<pre style=\"white-space:pre;overflow-x:auto;line-height:normal;font-family:Menlo,'DejaVu Sans Mono',consolas,'Courier New',monospace\"><span style=\"color: #808000; text-decoration-color: #808000\">Collecting nvidia-cuda-runtime-cu12==12.8.90 (from torch)\n",
       "  Downloading http://pypi-mirror.modal.local:5555/simple/nvidia-cuda-runtime-cu12/nvidia_cuda_runtime_cu12-12.8.90-py3-none-manylinux2014_x86_64.manylinux_2_17_x86_64.whl.metadata (1.7 kB)\n",
       "</span></pre>\n"
      ],
      "text/plain": [
       "\u001b[33mCollecting nvidia-cuda-runtime-cu12==12.8.90 (from torch)\n",
       "  Downloading http://pypi-mirror.modal.local:5555/simple/nvidia-cuda-runtime-cu12/nvidia_cuda_runtime_cu12-12.8.90-py3-none-manylinux2014_x86_64.manylinux_2_17_x86_64.whl.metadata (1.7 kB)\n",
       "\u001b[0m"
      ]
     },
     "metadata": {},
     "output_type": "display_data"
    },
    {
     "data": {
      "text/html": [
       "<pre style=\"white-space:pre;overflow-x:auto;line-height:normal;font-family:Menlo,'DejaVu Sans Mono',consolas,'Courier New',monospace\"><span style=\"color: #808000; text-decoration-color: #808000\">Collecting nvidia-cuda-cupti-cu12==12.8.90 (from torch)\n",
       "  Downloading http://pypi-mirror.modal.local:5555/simple/nvidia-cuda-cupti-cu12/nvidia_cuda_cupti_cu12-12.8.90-py3-none-manylinux2014_x86_64.manylinux_2_17_x86_64.whl.metadata (1.7 kB)\n",
       "</span></pre>\n"
      ],
      "text/plain": [
       "\u001b[33mCollecting nvidia-cuda-cupti-cu12==12.8.90 (from torch)\n",
       "  Downloading http://pypi-mirror.modal.local:5555/simple/nvidia-cuda-cupti-cu12/nvidia_cuda_cupti_cu12-12.8.90-py3-none-manylinux2014_x86_64.manylinux_2_17_x86_64.whl.metadata (1.7 kB)\n",
       "\u001b[0m"
      ]
     },
     "metadata": {},
     "output_type": "display_data"
    },
    {
     "data": {
      "text/html": [
       "<pre style=\"white-space:pre;overflow-x:auto;line-height:normal;font-family:Menlo,'DejaVu Sans Mono',consolas,'Courier New',monospace\"><span style=\"color: #808000; text-decoration-color: #808000\">Collecting nvidia-cudnn-cu12==9.10.2.21 (from torch)\n",
       "  Downloading http://pypi-mirror.modal.local:5555/simple/nvidia-cudnn-cu12/nvidia_cudnn_cu12-9.10.2.21-py3-none-manylinux_2_27_x86_64.whl.metadata (1.8 kB)\n",
       "</span></pre>\n"
      ],
      "text/plain": [
       "\u001b[33mCollecting nvidia-cudnn-cu12==9.10.2.21 (from torch)\n",
       "  Downloading http://pypi-mirror.modal.local:5555/simple/nvidia-cudnn-cu12/nvidia_cudnn_cu12-9.10.2.21-py3-none-manylinux_2_27_x86_64.whl.metadata (1.8 kB)\n",
       "\u001b[0m"
      ]
     },
     "metadata": {},
     "output_type": "display_data"
    },
    {
     "data": {
      "text/html": [
       "<pre style=\"white-space:pre;overflow-x:auto;line-height:normal;font-family:Menlo,'DejaVu Sans Mono',consolas,'Courier New',monospace\"><span style=\"color: #808000; text-decoration-color: #808000\">Collecting nvidia-cublas-cu12==12.8.4.1 (from torch)\n",
       "  Downloading http://pypi-mirror.modal.local:5555/simple/nvidia-cublas-cu12/nvidia_cublas_cu12-12.8.4.1-py3-none-manylinux_2_27_x86_64.whl.metadata (1.7 kB)\n",
       "</span></pre>\n"
      ],
      "text/plain": [
       "\u001b[33mCollecting nvidia-cublas-cu12==12.8.4.1 (from torch)\n",
       "  Downloading http://pypi-mirror.modal.local:5555/simple/nvidia-cublas-cu12/nvidia_cublas_cu12-12.8.4.1-py3-none-manylinux_2_27_x86_64.whl.metadata (1.7 kB)\n",
       "\u001b[0m"
      ]
     },
     "metadata": {},
     "output_type": "display_data"
    },
    {
     "data": {
      "text/html": [
       "<pre style=\"white-space:pre;overflow-x:auto;line-height:normal;font-family:Menlo,'DejaVu Sans Mono',consolas,'Courier New',monospace\"><span style=\"color: #808000; text-decoration-color: #808000\">Collecting nvidia-cufft-cu12==11.3.3.83 (from torch)\n",
       "  Downloading http://pypi-mirror.modal.local:5555/simple/nvidia-cufft-cu12/nvidia_cufft_cu12-11.3.3.83-py3-none-manylinux2014_x86_64.manylinux_2_17_x86_64.whl.metadata (1.7 kB)\n",
       "</span></pre>\n"
      ],
      "text/plain": [
       "\u001b[33mCollecting nvidia-cufft-cu12==11.3.3.83 (from torch)\n",
       "  Downloading http://pypi-mirror.modal.local:5555/simple/nvidia-cufft-cu12/nvidia_cufft_cu12-11.3.3.83-py3-none-manylinux2014_x86_64.manylinux_2_17_x86_64.whl.metadata (1.7 kB)\n",
       "\u001b[0m"
      ]
     },
     "metadata": {},
     "output_type": "display_data"
    },
    {
     "data": {
      "text/html": [
       "<pre style=\"white-space:pre;overflow-x:auto;line-height:normal;font-family:Menlo,'DejaVu Sans Mono',consolas,'Courier New',monospace\"><span style=\"color: #808000; text-decoration-color: #808000\">Collecting nvidia-curand-cu12==10.3.9.90 (from torch)\n",
       "  Downloading http://pypi-mirror.modal.local:5555/simple/nvidia-curand-cu12/nvidia_curand_cu12-10.3.9.90-py3-none-manylinux_2_27_x86_64.whl.metadata (1.7 kB)\n",
       "</span></pre>\n"
      ],
      "text/plain": [
       "\u001b[33mCollecting nvidia-curand-cu12==10.3.9.90 (from torch)\n",
       "  Downloading http://pypi-mirror.modal.local:5555/simple/nvidia-curand-cu12/nvidia_curand_cu12-10.3.9.90-py3-none-manylinux_2_27_x86_64.whl.metadata (1.7 kB)\n",
       "\u001b[0m"
      ]
     },
     "metadata": {},
     "output_type": "display_data"
    },
    {
     "data": {
      "text/html": [
       "<pre style=\"white-space:pre;overflow-x:auto;line-height:normal;font-family:Menlo,'DejaVu Sans Mono',consolas,'Courier New',monospace\"><span style=\"color: #808000; text-decoration-color: #808000\">Collecting nvidia-cusolver-cu12==11.7.3.90 (from torch)\n",
       "  Downloading http://pypi-mirror.modal.local:5555/simple/nvidia-cusolver-cu12/nvidia_cusolver_cu12-11.7.3.90-py3-none-manylinux_2_27_x86_64.whl.metadata (1.8 kB)\n",
       "</span></pre>\n"
      ],
      "text/plain": [
       "\u001b[33mCollecting nvidia-cusolver-cu12==11.7.3.90 (from torch)\n",
       "  Downloading http://pypi-mirror.modal.local:5555/simple/nvidia-cusolver-cu12/nvidia_cusolver_cu12-11.7.3.90-py3-none-manylinux_2_27_x86_64.whl.metadata (1.8 kB)\n",
       "\u001b[0m"
      ]
     },
     "metadata": {},
     "output_type": "display_data"
    },
    {
     "data": {
      "text/html": [
       "<pre style=\"white-space:pre;overflow-x:auto;line-height:normal;font-family:Menlo,'DejaVu Sans Mono',consolas,'Courier New',monospace\"><span style=\"color: #808000; text-decoration-color: #808000\">Collecting nvidia-cusparse-cu12==12.5.8.93 (from torch)\n",
       "  Downloading http://pypi-mirror.modal.local:5555/simple/nvidia-cusparse-cu12/nvidia_cusparse_cu12-12.5.8.93-py3-none-manylinux2014_x86_64.manylinux_2_17_x86_64.whl.metadata (1.8 kB)\n",
       "</span></pre>\n"
      ],
      "text/plain": [
       "\u001b[33mCollecting nvidia-cusparse-cu12==12.5.8.93 (from torch)\n",
       "  Downloading http://pypi-mirror.modal.local:5555/simple/nvidia-cusparse-cu12/nvidia_cusparse_cu12-12.5.8.93-py3-none-manylinux2014_x86_64.manylinux_2_17_x86_64.whl.metadata (1.8 kB)\n",
       "\u001b[0m"
      ]
     },
     "metadata": {},
     "output_type": "display_data"
    },
    {
     "data": {
      "text/html": [
       "<pre style=\"white-space:pre;overflow-x:auto;line-height:normal;font-family:Menlo,'DejaVu Sans Mono',consolas,'Courier New',monospace\"><span style=\"color: #808000; text-decoration-color: #808000\">Collecting nvidia-cusparselt-cu12==0.7.1 (from torch)\n",
       "  Downloading http://pypi-mirror.modal.local:5555/simple/nvidia-cusparselt-cu12/nvidia_cusparselt_cu12-0.7.1-py3-none-manylinux2014_x86_64.whl.metadata (7.0 kB)\n",
       "</span></pre>\n"
      ],
      "text/plain": [
       "\u001b[33mCollecting nvidia-cusparselt-cu12==0.7.1 (from torch)\n",
       "  Downloading http://pypi-mirror.modal.local:5555/simple/nvidia-cusparselt-cu12/nvidia_cusparselt_cu12-0.7.1-py3-none-manylinux2014_x86_64.whl.metadata (7.0 kB)\n",
       "\u001b[0m"
      ]
     },
     "metadata": {},
     "output_type": "display_data"
    },
    {
     "data": {
      "text/html": [
       "<pre style=\"white-space:pre;overflow-x:auto;line-height:normal;font-family:Menlo,'DejaVu Sans Mono',consolas,'Courier New',monospace\"><span style=\"color: #808000; text-decoration-color: #808000\">Collecting nvidia-nccl-cu12==2.27.3 (from torch)\n",
       "  Downloading http://pypi-mirror.modal.local:5555/simple/nvidia-nccl-cu12/nvidia_nccl_cu12-2.27.3-py3-none-manylinux2014_x86_64.manylinux_2_17_x86_64.whl.metadata (2.0 kB)\n",
       "</span></pre>\n"
      ],
      "text/plain": [
       "\u001b[33mCollecting nvidia-nccl-cu12==2.27.3 (from torch)\n",
       "  Downloading http://pypi-mirror.modal.local:5555/simple/nvidia-nccl-cu12/nvidia_nccl_cu12-2.27.3-py3-none-manylinux2014_x86_64.manylinux_2_17_x86_64.whl.metadata (2.0 kB)\n",
       "\u001b[0m"
      ]
     },
     "metadata": {},
     "output_type": "display_data"
    },
    {
     "data": {
      "text/html": [
       "<pre style=\"white-space:pre;overflow-x:auto;line-height:normal;font-family:Menlo,'DejaVu Sans Mono',consolas,'Courier New',monospace\"><span style=\"color: #808000; text-decoration-color: #808000\">Collecting nvidia-nvtx-cu12==12.8.90 (from torch)\n",
       "  Downloading http://pypi-mirror.modal.local:5555/simple/nvidia-nvtx-cu12/nvidia_nvtx_cu12-12.8.90-py3-none-manylinux2014_x86_64.manylinux_2_17_x86_64.whl.metadata (1.8 kB)\n",
       "</span></pre>\n"
      ],
      "text/plain": [
       "\u001b[33mCollecting nvidia-nvtx-cu12==12.8.90 (from torch)\n",
       "  Downloading http://pypi-mirror.modal.local:5555/simple/nvidia-nvtx-cu12/nvidia_nvtx_cu12-12.8.90-py3-none-manylinux2014_x86_64.manylinux_2_17_x86_64.whl.metadata (1.8 kB)\n",
       "\u001b[0m"
      ]
     },
     "metadata": {},
     "output_type": "display_data"
    },
    {
     "data": {
      "text/html": [
       "<pre style=\"white-space:pre;overflow-x:auto;line-height:normal;font-family:Menlo,'DejaVu Sans Mono',consolas,'Courier New',monospace\"><span style=\"color: #808000; text-decoration-color: #808000\">Collecting nvidia-nvjitlink-cu12==12.8.93 (from torch)\n",
       "  Downloading http://pypi-mirror.modal.local:5555/simple/nvidia-nvjitlink-cu12/nvidia_nvjitlink_cu12-12.8.93-py3-none-manylinux2010_x86_64.manylinux_2_12_x86_64.whl.metadata (1.7 kB)\n",
       "</span></pre>\n"
      ],
      "text/plain": [
       "\u001b[33mCollecting nvidia-nvjitlink-cu12==12.8.93 (from torch)\n",
       "  Downloading http://pypi-mirror.modal.local:5555/simple/nvidia-nvjitlink-cu12/nvidia_nvjitlink_cu12-12.8.93-py3-none-manylinux2010_x86_64.manylinux_2_12_x86_64.whl.metadata (1.7 kB)\n",
       "\u001b[0m"
      ]
     },
     "metadata": {},
     "output_type": "display_data"
    },
    {
     "data": {
      "text/html": [
       "<pre style=\"white-space:pre;overflow-x:auto;line-height:normal;font-family:Menlo,'DejaVu Sans Mono',consolas,'Courier New',monospace\"><span style=\"color: #808000; text-decoration-color: #808000\">Collecting nvidia-cufile-cu12==1.13.1.3 (from torch)\n",
       "  Downloading http://pypi-mirror.modal.local:5555/simple/nvidia-cufile-cu12/nvidia_cufile_cu12-1.13.1.3-py3-none-manylinux2014_x86_64.manylinux_2_17_x86_64.whl.metadata (1.7 kB)\n",
       "</span></pre>\n"
      ],
      "text/plain": [
       "\u001b[33mCollecting nvidia-cufile-cu12==1.13.1.3 (from torch)\n",
       "  Downloading http://pypi-mirror.modal.local:5555/simple/nvidia-cufile-cu12/nvidia_cufile_cu12-1.13.1.3-py3-none-manylinux2014_x86_64.manylinux_2_17_x86_64.whl.metadata (1.7 kB)\n",
       "\u001b[0m"
      ]
     },
     "metadata": {},
     "output_type": "display_data"
    },
    {
     "data": {
      "text/html": [
       "<pre style=\"white-space:pre;overflow-x:auto;line-height:normal;font-family:Menlo,'DejaVu Sans Mono',consolas,'Courier New',monospace\"><span style=\"color: #808000; text-decoration-color: #808000\">Collecting triton==3.4.0 (from torch)\n",
       "  Downloading http://pypi-mirror.modal.local:5555/simple/triton/triton-3.4.0-cp311-cp311-manylinux_2_27_x86_64.manylinux_2_28_x86_64.whl.metadata (1.7 kB)\n",
       "</span></pre>\n"
      ],
      "text/plain": [
       "\u001b[33mCollecting triton==3.4.0 (from torch)\n",
       "  Downloading http://pypi-mirror.modal.local:5555/simple/triton/triton-3.4.0-cp311-cp311-manylinux_2_27_x86_64.manylinux_2_28_x86_64.whl.metadata (1.7 kB)\n",
       "\u001b[0m"
      ]
     },
     "metadata": {},
     "output_type": "display_data"
    },
    {
     "data": {
      "text/html": [
       "<pre style=\"white-space:pre;overflow-x:auto;line-height:normal;font-family:Menlo,'DejaVu Sans Mono',consolas,'Courier New',monospace\"><span style=\"color: #808000; text-decoration-color: #808000\">Requirement already satisfied: setuptools&gt;=40.8.0 in /usr/local/lib/python3.11/site-packages (from triton==3.4.0-&gt;torch) (65.5.1)\n",
       "</span></pre>\n"
      ],
      "text/plain": [
       "\u001b[33mRequirement already satisfied: setuptools>=40.8.0 in /usr/local/lib/python3.11/site-packages (from triton==3.4.0->torch) (65.5.1)\n",
       "\u001b[0m"
      ]
     },
     "metadata": {},
     "output_type": "display_data"
    },
    {
     "data": {
      "text/html": [
       "<pre style=\"white-space:pre;overflow-x:auto;line-height:normal;font-family:Menlo,'DejaVu Sans Mono',consolas,'Courier New',monospace\"><span style=\"color: #808000; text-decoration-color: #808000\">Collecting regex!=2019.12.17 (from transformers)\n",
       "</span></pre>\n"
      ],
      "text/plain": [
       "\u001b[33mCollecting regex!=2019.12.17 (from transformers)\n",
       "\u001b[0m"
      ]
     },
     "metadata": {},
     "output_type": "display_data"
    },
    {
     "data": {
      "text/html": [
       "<pre style=\"white-space:pre;overflow-x:auto;line-height:normal;font-family:Menlo,'DejaVu Sans Mono',consolas,'Courier New',monospace\"><span style=\"color: #808000; text-decoration-color: #808000\">  Downloading http://pypi-mirror.modal.local:5555/simple/regex/regex-2025.7.34-cp311-cp311-manylinux2014_x86_64.manylinux_2_17_x86_64.manylinux_2_28_x86_64.whl.metadata (40 kB)\n",
       "</span></pre>\n"
      ],
      "text/plain": [
       "\u001b[33m  Downloading http://pypi-mirror.modal.local:5555/simple/regex/regex-2025.7.34-cp311-cp311-manylinux2014_x86_64.manylinux_2_17_x86_64.manylinux_2_28_x86_64.whl.metadata (40 kB)\n",
       "\u001b[0m"
      ]
     },
     "metadata": {},
     "output_type": "display_data"
    },
    {
     "data": {
      "text/html": [
       "<pre style=\"white-space:pre;overflow-x:auto;line-height:normal;font-family:Menlo,'DejaVu Sans Mono',consolas,'Courier New',monospace\"><span style=\"color: #808000; text-decoration-color: #808000\">Collecting requests (from transformers)\n",
       "  Downloading http://pypi-mirror.modal.local:5555/simple/requests/requests-2.32.4-py3-none-any.whl.metadata (4.9 kB)\n",
       "</span></pre>\n"
      ],
      "text/plain": [
       "\u001b[33mCollecting requests (from transformers)\n",
       "  Downloading http://pypi-mirror.modal.local:5555/simple/requests/requests-2.32.4-py3-none-any.whl.metadata (4.9 kB)\n",
       "\u001b[0m"
      ]
     },
     "metadata": {},
     "output_type": "display_data"
    },
    {
     "data": {
      "text/html": [
       "<pre style=\"white-space:pre;overflow-x:auto;line-height:normal;font-family:Menlo,'DejaVu Sans Mono',consolas,'Courier New',monospace\"><span style=\"color: #808000; text-decoration-color: #808000\">Collecting tokenizers&lt;0.22,&gt;=0.21 (from transformers)\n",
       "  Downloading http://pypi-mirror.modal.local:5555/simple/tokenizers/tokenizers-0.21.4-cp39-abi3-manylinux_2_17_x86_64.manylinux2014_x86_64.whl.metadata (6.7 kB)\n",
       "</span></pre>\n"
      ],
      "text/plain": [
       "\u001b[33mCollecting tokenizers<0.22,>=0.21 (from transformers)\n",
       "  Downloading http://pypi-mirror.modal.local:5555/simple/tokenizers/tokenizers-0.21.4-cp39-abi3-manylinux_2_17_x86_64.manylinux2014_x86_64.whl.metadata (6.7 kB)\n",
       "\u001b[0m"
      ]
     },
     "metadata": {},
     "output_type": "display_data"
    },
    {
     "data": {
      "text/html": [
       "<pre style=\"white-space:pre;overflow-x:auto;line-height:normal;font-family:Menlo,'DejaVu Sans Mono',consolas,'Courier New',monospace\"><span style=\"color: #808000; text-decoration-color: #808000\">Collecting hf-xet&lt;2.0.0,&gt;=1.1.3 (from huggingface_hub&gt;=0.21.0-&gt;accelerate)\n",
       "  Downloading http://pypi-mirror.modal.local:5555/simple/hf-xet/hf_xet-1.1.7-cp37-abi3-manylinux_2_17_x86_64.manylinux2014_x86_64.whl.metadata (703 bytes)\n",
       "</span></pre>\n"
      ],
      "text/plain": [
       "\u001b[33mCollecting hf-xet<2.0.0,>=1.1.3 (from huggingface_hub>=0.21.0->accelerate)\n",
       "  Downloading http://pypi-mirror.modal.local:5555/simple/hf-xet/hf_xet-1.1.7-cp37-abi3-manylinux_2_17_x86_64.manylinux2014_x86_64.whl.metadata (703 bytes)\n",
       "\u001b[0m"
      ]
     },
     "metadata": {},
     "output_type": "display_data"
    },
    {
     "data": {
      "text/html": [
       "<pre style=\"white-space:pre;overflow-x:auto;line-height:normal;font-family:Menlo,'DejaVu Sans Mono',consolas,'Courier New',monospace\"><span style=\"color: #808000; text-decoration-color: #808000\">Collecting mpmath&lt;1.4,&gt;=1.1.0 (from sympy&gt;=1.13.3-&gt;torch)\n",
       "  Downloading http://pypi-mirror.modal.local:5555/simple/mpmath/mpmath-1.3.0-py3-none-any.whl.metadata (8.6 kB)\n",
       "</span></pre>\n"
      ],
      "text/plain": [
       "\u001b[33mCollecting mpmath<1.4,>=1.1.0 (from sympy>=1.13.3->torch)\n",
       "  Downloading http://pypi-mirror.modal.local:5555/simple/mpmath/mpmath-1.3.0-py3-none-any.whl.metadata (8.6 kB)\n",
       "\u001b[0m"
      ]
     },
     "metadata": {},
     "output_type": "display_data"
    },
    {
     "data": {
      "text/html": [
       "<pre style=\"white-space:pre;overflow-x:auto;line-height:normal;font-family:Menlo,'DejaVu Sans Mono',consolas,'Courier New',monospace\"><span style=\"color: #808000; text-decoration-color: #808000\">Collecting MarkupSafe&gt;=2.0 (from jinja2-&gt;torch)\n",
       "  Downloading http://pypi-mirror.modal.local:5555/simple/markupsafe/MarkupSafe-3.0.2-cp311-cp311-manylinux_2_17_x86_64.manylinux2014_x86_64.whl.metadata (4.0 kB)\n",
       "</span></pre>\n"
      ],
      "text/plain": [
       "\u001b[33mCollecting MarkupSafe>=2.0 (from jinja2->torch)\n",
       "  Downloading http://pypi-mirror.modal.local:5555/simple/markupsafe/MarkupSafe-3.0.2-cp311-cp311-manylinux_2_17_x86_64.manylinux2014_x86_64.whl.metadata (4.0 kB)\n",
       "\u001b[0m"
      ]
     },
     "metadata": {},
     "output_type": "display_data"
    },
    {
     "data": {
      "text/html": [
       "<pre style=\"white-space:pre;overflow-x:auto;line-height:normal;font-family:Menlo,'DejaVu Sans Mono',consolas,'Courier New',monospace\"><span style=\"color: #808000; text-decoration-color: #808000\">Collecting charset_normalizer&lt;4,&gt;=2 (from requests-&gt;transformers)\n",
       "  Downloading http://pypi-mirror.modal.local:5555/simple/charset-normalizer/charset_normalizer-3.4.3-cp311-cp311-manylinux2014_x86_64.manylinux_2_17_x86_64.manylinux_2_28_x86_64.whl.metadata (36 kB)\n",
       "</span></pre>\n"
      ],
      "text/plain": [
       "\u001b[33mCollecting charset_normalizer<4,>=2 (from requests->transformers)\n",
       "  Downloading http://pypi-mirror.modal.local:5555/simple/charset-normalizer/charset_normalizer-3.4.3-cp311-cp311-manylinux2014_x86_64.manylinux_2_17_x86_64.manylinux_2_28_x86_64.whl.metadata (36 kB)\n",
       "\u001b[0m"
      ]
     },
     "metadata": {},
     "output_type": "display_data"
    },
    {
     "data": {
      "text/html": [
       "<pre style=\"white-space:pre;overflow-x:auto;line-height:normal;font-family:Menlo,'DejaVu Sans Mono',consolas,'Courier New',monospace\"><span style=\"color: #808000; text-decoration-color: #808000\">Requirement already satisfied: idna&lt;4,&gt;=2.5 in /usr/local/lib/python3.11/site-packages (from requests-&gt;transformers) (3.10)\n",
       "</span></pre>\n"
      ],
      "text/plain": [
       "\u001b[33mRequirement already satisfied: idna<4,>=2.5 in /usr/local/lib/python3.11/site-packages (from requests->transformers) (3.10)\n",
       "\u001b[0m"
      ]
     },
     "metadata": {},
     "output_type": "display_data"
    },
    {
     "data": {
      "text/html": [
       "<pre style=\"white-space:pre;overflow-x:auto;line-height:normal;font-family:Menlo,'DejaVu Sans Mono',consolas,'Courier New',monospace\"><span style=\"color: #808000; text-decoration-color: #808000\">Collecting urllib3&lt;3,&gt;=1.21.1 (from requests-&gt;transformers)\n",
       "  Downloading http://pypi-mirror.modal.local:5555/simple/urllib3/urllib3-2.5.0-py3-none-any.whl.metadata (6.5 kB)\n",
       "</span></pre>\n"
      ],
      "text/plain": [
       "\u001b[33mCollecting urllib3<3,>=1.21.1 (from requests->transformers)\n",
       "  Downloading http://pypi-mirror.modal.local:5555/simple/urllib3/urllib3-2.5.0-py3-none-any.whl.metadata (6.5 kB)\n",
       "\u001b[0m"
      ]
     },
     "metadata": {},
     "output_type": "display_data"
    },
    {
     "data": {
      "text/html": [
       "<pre style=\"white-space:pre;overflow-x:auto;line-height:normal;font-family:Menlo,'DejaVu Sans Mono',consolas,'Courier New',monospace\"><span style=\"color: #808000; text-decoration-color: #808000\">Requirement already satisfied: certifi&gt;=2017.4.17 in /usr/local/lib/python3.11/site-packages (from requests-&gt;transformers) (2024.8.30)\n",
       "</span></pre>\n"
      ],
      "text/plain": [
       "\u001b[33mRequirement already satisfied: certifi>=2017.4.17 in /usr/local/lib/python3.11/site-packages (from requests->transformers) (2024.8.30)\n",
       "\u001b[0m"
      ]
     },
     "metadata": {},
     "output_type": "display_data"
    },
    {
     "data": {
      "text/html": [
       "<pre style=\"white-space:pre;overflow-x:auto;line-height:normal;font-family:Menlo,'DejaVu Sans Mono',consolas,'Courier New',monospace\"><span style=\"color: #808000; text-decoration-color: #808000\">Downloading http://pypi-mirror.modal.local:5555/simple/accelerate/accelerate-1.10.0-py3-none-any.whl (374 kB)\n",
       "</span></pre>\n"
      ],
      "text/plain": [
       "\u001b[33mDownloading http://pypi-mirror.modal.local:5555/simple/accelerate/accelerate-1.10.0-py3-none-any.whl (374 kB)\n",
       "\u001b[0m"
      ]
     },
     "metadata": {},
     "output_type": "display_data"
    },
    {
     "data": {
      "text/html": [
       "<pre style=\"white-space:pre;overflow-x:auto;line-height:normal;font-family:Menlo,'DejaVu Sans Mono',consolas,'Courier New',monospace\"><span style=\"color: #808000; text-decoration-color: #808000\">Downloading http://pypi-mirror.modal.local:5555/simple/bitsandbytes/bitsandbytes-0.46.1-py3-none-manylinux_2_24_x86_64.whl (72.9 MB)\n",
       "</span></pre>\n"
      ],
      "text/plain": [
       "\u001b[33mDownloading http://pypi-mirror.modal.local:5555/simple/bitsandbytes/bitsandbytes-0.46.1-py3-none-manylinux_2_24_x86_64.whl (72.9 MB)\n",
       "\u001b[0m"
      ]
     },
     "metadata": {},
     "output_type": "display_data"
    },
    {
     "data": {
      "text/html": [
       "<pre style=\"white-space:pre;overflow-x:auto;line-height:normal;font-family:Menlo,'DejaVu Sans Mono',consolas,'Courier New',monospace\"><span style=\"color: #808000; text-decoration-color: #808000\">   ━━━━━━━━━━━━━━━━━━━━━━━━━━━━━━━━━━━━━━━━ 72.9/72.9 MB 160.9 MB/s eta 0:00:00\n",
       "</span></pre>\n"
      ],
      "text/plain": [
       "\u001b[33m   ━━━━━━━━━━━━━━━━━━━━━━━━━━━━━━━━━━━━━━━━ 72.9/72.9 MB 160.9 MB/s eta 0:00:00\n",
       "\u001b[0m"
      ]
     },
     "metadata": {},
     "output_type": "display_data"
    },
    {
     "data": {
      "text/html": [
       "<pre style=\"white-space:pre;overflow-x:auto;line-height:normal;font-family:Menlo,'DejaVu Sans Mono',consolas,'Courier New',monospace\"><span style=\"color: #808000; text-decoration-color: #808000\">Downloading http://pypi-mirror.modal.local:5555/simple/peft/peft-0.17.0-py3-none-any.whl (503 kB)\n",
       "</span></pre>\n"
      ],
      "text/plain": [
       "\u001b[33mDownloading http://pypi-mirror.modal.local:5555/simple/peft/peft-0.17.0-py3-none-any.whl (503 kB)\n",
       "\u001b[0m"
      ]
     },
     "metadata": {},
     "output_type": "display_data"
    },
    {
     "data": {
      "text/html": [
       "<pre style=\"white-space:pre;overflow-x:auto;line-height:normal;font-family:Menlo,'DejaVu Sans Mono',consolas,'Courier New',monospace\"><span style=\"color: #808000; text-decoration-color: #808000\">Downloading http://pypi-mirror.modal.local:5555/simple/torch/torch-2.8.0-cp311-cp311-manylinux_2_28_x86_64.whl (888.1 MB)\n",
       "</span></pre>\n"
      ],
      "text/plain": [
       "\u001b[33mDownloading http://pypi-mirror.modal.local:5555/simple/torch/torch-2.8.0-cp311-cp311-manylinux_2_28_x86_64.whl (888.1 MB)\n",
       "\u001b[0m"
      ]
     },
     "metadata": {},
     "output_type": "display_data"
    },
    {
     "data": {
      "text/html": [
       "<pre style=\"white-space:pre;overflow-x:auto;line-height:normal;font-family:Menlo,'DejaVu Sans Mono',consolas,'Courier New',monospace\"><span style=\"color: #808000; text-decoration-color: #808000\">   ━━━━━━━━━━━━━━━━━━━━━━━━━━━━━━━━━━━━━━━ 888.1/888.1 MB 192.2 MB/s eta 0:00:00\n",
       "</span></pre>\n"
      ],
      "text/plain": [
       "\u001b[33m   ━━━━━━━━━━━━━━━━━━━━━━━━━━━━━━━━━━━━━━━ 888.1/888.1 MB 192.2 MB/s eta 0:00:00\n",
       "\u001b[0m"
      ]
     },
     "metadata": {},
     "output_type": "display_data"
    },
    {
     "data": {
      "text/html": [
       "<pre style=\"white-space:pre;overflow-x:auto;line-height:normal;font-family:Menlo,'DejaVu Sans Mono',consolas,'Courier New',monospace\"><span style=\"color: #808000; text-decoration-color: #808000\">Downloading http://pypi-mirror.modal.local:5555/simple/nvidia-cublas-cu12/nvidia_cublas_cu12-12.8.4.1-py3-none-manylinux_2_27_x86_64.whl (594.3 MB)\n",
       "</span></pre>\n"
      ],
      "text/plain": [
       "\u001b[33mDownloading http://pypi-mirror.modal.local:5555/simple/nvidia-cublas-cu12/nvidia_cublas_cu12-12.8.4.1-py3-none-manylinux_2_27_x86_64.whl (594.3 MB)\n",
       "\u001b[0m"
      ]
     },
     "metadata": {},
     "output_type": "display_data"
    },
    {
     "data": {
      "text/html": [
       "<pre style=\"white-space:pre;overflow-x:auto;line-height:normal;font-family:Menlo,'DejaVu Sans Mono',consolas,'Courier New',monospace\"><span style=\"color: #808000; text-decoration-color: #808000\">   ━━━━━━━━━━━━━━━━━━━━━━━━━━━━━━━━━━━━━━━ 594.3/594.3 MB 216.1 MB/s eta 0:00:00\n",
       "Downloading http://pypi-mirror.modal.local:5555/simple/nvidia-cuda-cupti-cu12/nvidia_cuda_cupti_cu12-12.8.90-py3-none-manylinux2014_x86_64.manylinux_2_17_x86_64.whl (10.2 MB)\n",
       "</span></pre>\n"
      ],
      "text/plain": [
       "\u001b[33m   ━━━━━━━━━━━━━━━━━━━━━━━━━━━━━━━━━━━━━━━ 594.3/594.3 MB 216.1 MB/s eta 0:00:00\n",
       "Downloading http://pypi-mirror.modal.local:5555/simple/nvidia-cuda-cupti-cu12/nvidia_cuda_cupti_cu12-12.8.90-py3-none-manylinux2014_x86_64.manylinux_2_17_x86_64.whl (10.2 MB)\n",
       "\u001b[0m"
      ]
     },
     "metadata": {},
     "output_type": "display_data"
    },
    {
     "data": {
      "text/html": [
       "<pre style=\"white-space:pre;overflow-x:auto;line-height:normal;font-family:Menlo,'DejaVu Sans Mono',consolas,'Courier New',monospace\"><span style=\"color: #808000; text-decoration-color: #808000\">   ━━━━━━━━━━━━━━━━━━━━━━━━━━━━━━━━━━━━━━━━ 10.2/10.2 MB 188.6 MB/s eta 0:00:00\n",
       "Downloading http://pypi-mirror.modal.local:5555/simple/nvidia-cuda-nvrtc-cu12/nvidia_cuda_nvrtc_cu12-12.8.93-py3-none-manylinux2010_x86_64.manylinux_2_12_x86_64.whl (88.0 MB)\n",
       "</span></pre>\n"
      ],
      "text/plain": [
       "\u001b[33m   ━━━━━━━━━━━━━━━━━━━━━━━━━━━━━━━━━━━━━━━━ 10.2/10.2 MB 188.6 MB/s eta 0:00:00\n",
       "Downloading http://pypi-mirror.modal.local:5555/simple/nvidia-cuda-nvrtc-cu12/nvidia_cuda_nvrtc_cu12-12.8.93-py3-none-manylinux2010_x86_64.manylinux_2_12_x86_64.whl (88.0 MB)\n",
       "\u001b[0m"
      ]
     },
     "metadata": {},
     "output_type": "display_data"
    },
    {
     "data": {
      "text/html": [
       "<pre style=\"white-space:pre;overflow-x:auto;line-height:normal;font-family:Menlo,'DejaVu Sans Mono',consolas,'Courier New',monospace\"><span style=\"color: #808000; text-decoration-color: #808000\">   ━━━━━━━━━━━━━━━━━━━━━━━━━━━━━━━━━━━━━━━━ 88.0/88.0 MB 180.1 MB/s eta 0:00:00\n",
       "Downloading http://pypi-mirror.modal.local:5555/simple/nvidia-cuda-runtime-cu12/nvidia_cuda_runtime_cu12-12.8.90-py3-none-manylinux2014_x86_64.manylinux_2_17_x86_64.whl (954 kB)\n",
       "</span></pre>\n"
      ],
      "text/plain": [
       "\u001b[33m   ━━━━━━━━━━━━━━━━━━━━━━━━━━━━━━━━━━━━━━━━ 88.0/88.0 MB 180.1 MB/s eta 0:00:00\n",
       "Downloading http://pypi-mirror.modal.local:5555/simple/nvidia-cuda-runtime-cu12/nvidia_cuda_runtime_cu12-12.8.90-py3-none-manylinux2014_x86_64.manylinux_2_17_x86_64.whl (954 kB)\n",
       "\u001b[0m"
      ]
     },
     "metadata": {},
     "output_type": "display_data"
    },
    {
     "data": {
      "text/html": [
       "<pre style=\"white-space:pre;overflow-x:auto;line-height:normal;font-family:Menlo,'DejaVu Sans Mono',consolas,'Courier New',monospace\"><span style=\"color: #808000; text-decoration-color: #808000\">   ━━━━━━━━━━━━━━━━━━━━━━━━━━━━━━━━━━━━━━━ 954.8/954.8 kB 243.5 MB/s eta 0:00:00\n",
       "</span></pre>\n"
      ],
      "text/plain": [
       "\u001b[33m   ━━━━━━━━━━━━━━━━━━━━━━━━━━━━━━━━━━━━━━━ 954.8/954.8 kB 243.5 MB/s eta 0:00:00\n",
       "\u001b[0m"
      ]
     },
     "metadata": {},
     "output_type": "display_data"
    },
    {
     "data": {
      "text/html": [
       "<pre style=\"white-space:pre;overflow-x:auto;line-height:normal;font-family:Menlo,'DejaVu Sans Mono',consolas,'Courier New',monospace\"><span style=\"color: #808000; text-decoration-color: #808000\">Downloading http://pypi-mirror.modal.local:5555/simple/nvidia-cudnn-cu12/nvidia_cudnn_cu12-9.10.2.21-py3-none-manylinux_2_27_x86_64.whl (706.8 MB)\n",
       "</span></pre>\n"
      ],
      "text/plain": [
       "\u001b[33mDownloading http://pypi-mirror.modal.local:5555/simple/nvidia-cudnn-cu12/nvidia_cudnn_cu12-9.10.2.21-py3-none-manylinux_2_27_x86_64.whl (706.8 MB)\n",
       "\u001b[0m"
      ]
     },
     "metadata": {},
     "output_type": "display_data"
    },
    {
     "data": {
      "text/html": [
       "<pre style=\"white-space:pre;overflow-x:auto;line-height:normal;font-family:Menlo,'DejaVu Sans Mono',consolas,'Courier New',monospace\"><span style=\"color: #808000; text-decoration-color: #808000\">   ━━━━━━━━━━━━━━━━━━━━━━━━━━━━━━━━━━━━━━━ 706.8/706.8 MB 193.1 MB/s eta 0:00:00\n",
       "</span></pre>\n"
      ],
      "text/plain": [
       "\u001b[33m   ━━━━━━━━━━━━━━━━━━━━━━━━━━━━━━━━━━━━━━━ 706.8/706.8 MB 193.1 MB/s eta 0:00:00\n",
       "\u001b[0m"
      ]
     },
     "metadata": {},
     "output_type": "display_data"
    },
    {
     "data": {
      "text/html": [
       "<pre style=\"white-space:pre;overflow-x:auto;line-height:normal;font-family:Menlo,'DejaVu Sans Mono',consolas,'Courier New',monospace\"><span style=\"color: #808000; text-decoration-color: #808000\">Downloading http://pypi-mirror.modal.local:5555/simple/nvidia-cufft-cu12/nvidia_cufft_cu12-11.3.3.83-py3-none-manylinux2014_x86_64.manylinux_2_17_x86_64.whl (193.1 MB)\n",
       "</span></pre>\n"
      ],
      "text/plain": [
       "\u001b[33mDownloading http://pypi-mirror.modal.local:5555/simple/nvidia-cufft-cu12/nvidia_cufft_cu12-11.3.3.83-py3-none-manylinux2014_x86_64.manylinux_2_17_x86_64.whl (193.1 MB)\n",
       "\u001b[0m"
      ]
     },
     "metadata": {},
     "output_type": "display_data"
    },
    {
     "data": {
      "text/html": [
       "<pre style=\"white-space:pre;overflow-x:auto;line-height:normal;font-family:Menlo,'DejaVu Sans Mono',consolas,'Courier New',monospace\"><span style=\"color: #808000; text-decoration-color: #808000\">   ━━━━━━━━━━━━━━━━━━━━━━━━━━━━━━━━━━━━━━━ 193.1/193.1 MB 188.1 MB/s eta 0:00:00\n",
       "</span></pre>\n"
      ],
      "text/plain": [
       "\u001b[33m   ━━━━━━━━━━━━━━━━━━━━━━━━━━━━━━━━━━━━━━━ 193.1/193.1 MB 188.1 MB/s eta 0:00:00\n",
       "\u001b[0m"
      ]
     },
     "metadata": {},
     "output_type": "display_data"
    },
    {
     "data": {
      "text/html": [
       "<pre style=\"white-space:pre;overflow-x:auto;line-height:normal;font-family:Menlo,'DejaVu Sans Mono',consolas,'Courier New',monospace\"><span style=\"color: #808000; text-decoration-color: #808000\">Downloading http://pypi-mirror.modal.local:5555/simple/nvidia-cufile-cu12/nvidia_cufile_cu12-1.13.1.3-py3-none-manylinux2014_x86_64.manylinux_2_17_x86_64.whl (1.2 MB)\n",
       "</span></pre>\n"
      ],
      "text/plain": [
       "\u001b[33mDownloading http://pypi-mirror.modal.local:5555/simple/nvidia-cufile-cu12/nvidia_cufile_cu12-1.13.1.3-py3-none-manylinux2014_x86_64.manylinux_2_17_x86_64.whl (1.2 MB)\n",
       "\u001b[0m"
      ]
     },
     "metadata": {},
     "output_type": "display_data"
    },
    {
     "data": {
      "text/html": [
       "<pre style=\"white-space:pre;overflow-x:auto;line-height:normal;font-family:Menlo,'DejaVu Sans Mono',consolas,'Courier New',monospace\"><span style=\"color: #808000; text-decoration-color: #808000\">   ━━━━━━━━━━━━━━━━━━━━━━━━━━━━━━━━━━━━━━━━ 1.2/1.2 MB 316.4 MB/s eta 0:00:00\n",
       "</span></pre>\n"
      ],
      "text/plain": [
       "\u001b[33m   ━━━━━━━━━━━━━━━━━━━━━━━━━━━━━━━━━━━━━━━━ 1.2/1.2 MB 316.4 MB/s eta 0:00:00\n",
       "\u001b[0m"
      ]
     },
     "metadata": {},
     "output_type": "display_data"
    },
    {
     "data": {
      "text/html": [
       "<pre style=\"white-space:pre;overflow-x:auto;line-height:normal;font-family:Menlo,'DejaVu Sans Mono',consolas,'Courier New',monospace\"><span style=\"color: #808000; text-decoration-color: #808000\">Downloading http://pypi-mirror.modal.local:5555/simple/nvidia-curand-cu12/nvidia_curand_cu12-10.3.9.90-py3-none-manylinux_2_27_x86_64.whl (63.6 MB)\n",
       "</span></pre>\n"
      ],
      "text/plain": [
       "\u001b[33mDownloading http://pypi-mirror.modal.local:5555/simple/nvidia-curand-cu12/nvidia_curand_cu12-10.3.9.90-py3-none-manylinux_2_27_x86_64.whl (63.6 MB)\n",
       "\u001b[0m"
      ]
     },
     "metadata": {},
     "output_type": "display_data"
    },
    {
     "data": {
      "text/html": [
       "<pre style=\"white-space:pre;overflow-x:auto;line-height:normal;font-family:Menlo,'DejaVu Sans Mono',consolas,'Courier New',monospace\"><span style=\"color: #808000; text-decoration-color: #808000\">   ━━━━━━━━━━━━━━━━━━━━━━━━━━━━━━━━━━━━━━━━ 63.6/63.6 MB 225.8 MB/s eta 0:00:00\n",
       "Downloading http://pypi-mirror.modal.local:5555/simple/nvidia-cusolver-cu12/nvidia_cusolver_cu12-11.7.3.90-py3-none-manylinux_2_27_x86_64.whl (267.5 MB)\n",
       "</span></pre>\n"
      ],
      "text/plain": [
       "\u001b[33m   ━━━━━━━━━━━━━━━━━━━━━━━━━━━━━━━━━━━━━━━━ 63.6/63.6 MB 225.8 MB/s eta 0:00:00\n",
       "Downloading http://pypi-mirror.modal.local:5555/simple/nvidia-cusolver-cu12/nvidia_cusolver_cu12-11.7.3.90-py3-none-manylinux_2_27_x86_64.whl (267.5 MB)\n",
       "\u001b[0m"
      ]
     },
     "metadata": {},
     "output_type": "display_data"
    },
    {
     "data": {
      "text/html": [
       "<pre style=\"white-space:pre;overflow-x:auto;line-height:normal;font-family:Menlo,'DejaVu Sans Mono',consolas,'Courier New',monospace\"><span style=\"color: #808000; text-decoration-color: #808000\">   ━━━━━━━━━━━━━━━━━━━━━━━━━━━━━━━━━━━━━━━ 267.5/267.5 MB 211.5 MB/s eta 0:00:00\n",
       "Downloading http://pypi-mirror.modal.local:5555/simple/nvidia-cusparse-cu12/nvidia_cusparse_cu12-12.5.8.93-py3-none-manylinux2014_x86_64.manylinux_2_17_x86_64.whl (288.2 MB)\n",
       "</span></pre>\n"
      ],
      "text/plain": [
       "\u001b[33m   ━━━━━━━━━━━━━━━━━━━━━━━━━━━━━━━━━━━━━━━ 267.5/267.5 MB 211.5 MB/s eta 0:00:00\n",
       "Downloading http://pypi-mirror.modal.local:5555/simple/nvidia-cusparse-cu12/nvidia_cusparse_cu12-12.5.8.93-py3-none-manylinux2014_x86_64.manylinux_2_17_x86_64.whl (288.2 MB)\n",
       "\u001b[0m"
      ]
     },
     "metadata": {},
     "output_type": "display_data"
    },
    {
     "data": {
      "text/html": [
       "<pre style=\"white-space:pre;overflow-x:auto;line-height:normal;font-family:Menlo,'DejaVu Sans Mono',consolas,'Courier New',monospace\"><span style=\"color: #808000; text-decoration-color: #808000\">   ━━━━━━━━━━━━━━━━━━━━━━━━━━━━━━━━━━━━━━━ 288.2/288.2 MB 171.4 MB/s eta 0:00:00\n",
       "Downloading http://pypi-mirror.modal.local:5555/simple/nvidia-cusparselt-cu12/nvidia_cusparselt_cu12-0.7.1-py3-none-manylinux2014_x86_64.whl (287.2 MB)\n",
       "</span></pre>\n"
      ],
      "text/plain": [
       "\u001b[33m   ━━━━━━━━━━━━━━━━━━━━━━━━━━━━━━━━━━━━━━━ 288.2/288.2 MB 171.4 MB/s eta 0:00:00\n",
       "Downloading http://pypi-mirror.modal.local:5555/simple/nvidia-cusparselt-cu12/nvidia_cusparselt_cu12-0.7.1-py3-none-manylinux2014_x86_64.whl (287.2 MB)\n",
       "\u001b[0m"
      ]
     },
     "metadata": {},
     "output_type": "display_data"
    },
    {
     "data": {
      "text/html": [
       "<pre style=\"white-space:pre;overflow-x:auto;line-height:normal;font-family:Menlo,'DejaVu Sans Mono',consolas,'Courier New',monospace\"><span style=\"color: #808000; text-decoration-color: #808000\">   ━━━━━━━━━━━━━━━━━━━━━━━━━━━━━━━━━━━━━━━ 287.2/287.2 MB 152.8 MB/s eta 0:00:00\n",
       "Downloading http://pypi-mirror.modal.local:5555/simple/nvidia-nccl-cu12/nvidia_nccl_cu12-2.27.3-py3-none-manylinux2014_x86_64.manylinux_2_17_x86_64.whl (322.4 MB)\n",
       "</span></pre>\n"
      ],
      "text/plain": [
       "\u001b[33m   ━━━━━━━━━━━━━━━━━━━━━━━━━━━━━━━━━━━━━━━ 287.2/287.2 MB 152.8 MB/s eta 0:00:00\n",
       "Downloading http://pypi-mirror.modal.local:5555/simple/nvidia-nccl-cu12/nvidia_nccl_cu12-2.27.3-py3-none-manylinux2014_x86_64.manylinux_2_17_x86_64.whl (322.4 MB)\n",
       "\u001b[0m"
      ]
     },
     "metadata": {},
     "output_type": "display_data"
    },
    {
     "data": {
      "text/html": [
       "<pre style=\"white-space:pre;overflow-x:auto;line-height:normal;font-family:Menlo,'DejaVu Sans Mono',consolas,'Courier New',monospace\"><span style=\"color: #808000; text-decoration-color: #808000\">   ━━━━━━━━━━━━━━━━━━━━━━━━━━━━━━━━━━━━━━━ 322.4/322.4 MB 170.5 MB/s eta 0:00:00\n",
       "</span></pre>\n"
      ],
      "text/plain": [
       "\u001b[33m   ━━━━━━━━━━━━━━━━━━━━━━━━━━━━━━━━━━━━━━━ 322.4/322.4 MB 170.5 MB/s eta 0:00:00\n",
       "\u001b[0m"
      ]
     },
     "metadata": {},
     "output_type": "display_data"
    },
    {
     "data": {
      "text/html": [
       "<pre style=\"white-space:pre;overflow-x:auto;line-height:normal;font-family:Menlo,'DejaVu Sans Mono',consolas,'Courier New',monospace\"><span style=\"color: #808000; text-decoration-color: #808000\">Downloading http://pypi-mirror.modal.local:5555/simple/nvidia-nvjitlink-cu12/nvidia_nvjitlink_cu12-12.8.93-py3-none-manylinux2010_x86_64.manylinux_2_12_x86_64.whl (39.3 MB)\n",
       "</span></pre>\n"
      ],
      "text/plain": [
       "\u001b[33mDownloading http://pypi-mirror.modal.local:5555/simple/nvidia-nvjitlink-cu12/nvidia_nvjitlink_cu12-12.8.93-py3-none-manylinux2010_x86_64.manylinux_2_12_x86_64.whl (39.3 MB)\n",
       "\u001b[0m"
      ]
     },
     "metadata": {},
     "output_type": "display_data"
    },
    {
     "data": {
      "text/html": [
       "<pre style=\"white-space:pre;overflow-x:auto;line-height:normal;font-family:Menlo,'DejaVu Sans Mono',consolas,'Courier New',monospace\"><span style=\"color: #808000; text-decoration-color: #808000\">   ━━━━━━━━━━━━━━━━━━━━━━━━━━━━━━━━━━━━━━━━ 39.3/39.3 MB 219.4 MB/s eta 0:00:00\n",
       "Downloading http://pypi-mirror.modal.local:5555/simple/nvidia-nvtx-cu12/nvidia_nvtx_cu12-12.8.90-py3-none-manylinux2014_x86_64.manylinux_2_17_x86_64.whl (89 kB)\n",
       "</span></pre>\n"
      ],
      "text/plain": [
       "\u001b[33m   ━━━━━━━━━━━━━━━━━━━━━━━━━━━━━━━━━━━━━━━━ 39.3/39.3 MB 219.4 MB/s eta 0:00:00\n",
       "Downloading http://pypi-mirror.modal.local:5555/simple/nvidia-nvtx-cu12/nvidia_nvtx_cu12-12.8.90-py3-none-manylinux2014_x86_64.manylinux_2_17_x86_64.whl (89 kB)\n",
       "\u001b[0m"
      ]
     },
     "metadata": {},
     "output_type": "display_data"
    },
    {
     "data": {
      "text/html": [
       "<pre style=\"white-space:pre;overflow-x:auto;line-height:normal;font-family:Menlo,'DejaVu Sans Mono',consolas,'Courier New',monospace\"><span style=\"color: #808000; text-decoration-color: #808000\">Downloading http://pypi-mirror.modal.local:5555/simple/triton/triton-3.4.0-cp311-cp311-manylinux_2_27_x86_64.manylinux_2_28_x86_64.whl (155.5 MB)\n",
       "</span></pre>\n"
      ],
      "text/plain": [
       "\u001b[33mDownloading http://pypi-mirror.modal.local:5555/simple/triton/triton-3.4.0-cp311-cp311-manylinux_2_27_x86_64.manylinux_2_28_x86_64.whl (155.5 MB)\n",
       "\u001b[0m"
      ]
     },
     "metadata": {},
     "output_type": "display_data"
    },
    {
     "data": {
      "text/html": [
       "<pre style=\"white-space:pre;overflow-x:auto;line-height:normal;font-family:Menlo,'DejaVu Sans Mono',consolas,'Courier New',monospace\"><span style=\"color: #808000; text-decoration-color: #808000\">   ━━━━━━━━━━━━━━━━━━━━━━━━━━━━━━━━━━━━━━━ 155.5/155.5 MB 207.9 MB/s eta 0:00:00\n",
       "Downloading http://pypi-mirror.modal.local:5555/simple/transformers/transformers-4.55.0-py3-none-any.whl (11.3 MB)\n",
       "</span></pre>\n"
      ],
      "text/plain": [
       "\u001b[33m   ━━━━━━━━━━━━━━━━━━━━━━━━━━━━━━━━━━━━━━━ 155.5/155.5 MB 207.9 MB/s eta 0:00:00\n",
       "Downloading http://pypi-mirror.modal.local:5555/simple/transformers/transformers-4.55.0-py3-none-any.whl (11.3 MB)\n",
       "\u001b[0m"
      ]
     },
     "metadata": {},
     "output_type": "display_data"
    },
    {
     "data": {
      "text/html": [
       "<pre style=\"white-space:pre;overflow-x:auto;line-height:normal;font-family:Menlo,'DejaVu Sans Mono',consolas,'Courier New',monospace\"><span style=\"color: #808000; text-decoration-color: #808000\">   ━━━━━━━━━━━━━━━━━━━━━━━━━━━━━━━━━━━━━━━━ 11.3/11.3 MB 194.4 MB/s eta 0:00:00\n",
       "Downloading http://pypi-mirror.modal.local:5555/simple/huggingface-hub/huggingface_hub-0.34.4-py3-none-any.whl (561 kB)\n",
       "</span></pre>\n"
      ],
      "text/plain": [
       "\u001b[33m   ━━━━━━━━━━━━━━━━━━━━━━━━━━━━━━━━━━━━━━━━ 11.3/11.3 MB 194.4 MB/s eta 0:00:00\n",
       "Downloading http://pypi-mirror.modal.local:5555/simple/huggingface-hub/huggingface_hub-0.34.4-py3-none-any.whl (561 kB)\n",
       "\u001b[0m"
      ]
     },
     "metadata": {},
     "output_type": "display_data"
    },
    {
     "data": {
      "text/html": [
       "<pre style=\"white-space:pre;overflow-x:auto;line-height:normal;font-family:Menlo,'DejaVu Sans Mono',consolas,'Courier New',monospace\"><span style=\"color: #808000; text-decoration-color: #808000\">   ━━━━━━━━━━━━━━━━━━━━━━━━━━━━━━━━━━━━━━━ 561.5/561.5 kB 462.1 MB/s eta 0:00:00\n",
       "Downloading http://pypi-mirror.modal.local:5555/simple/fsspec/fsspec-2025.7.0-py3-none-any.whl (199 kB)\n",
       "</span></pre>\n"
      ],
      "text/plain": [
       "\u001b[33m   ━━━━━━━━━━━━━━━━━━━━━━━━━━━━━━━━━━━━━━━ 561.5/561.5 kB 462.1 MB/s eta 0:00:00\n",
       "Downloading http://pypi-mirror.modal.local:5555/simple/fsspec/fsspec-2025.7.0-py3-none-any.whl (199 kB)\n",
       "\u001b[0m"
      ]
     },
     "metadata": {},
     "output_type": "display_data"
    },
    {
     "data": {
      "text/html": [
       "<pre style=\"white-space:pre;overflow-x:auto;line-height:normal;font-family:Menlo,'DejaVu Sans Mono',consolas,'Courier New',monospace\"><span style=\"color: #808000; text-decoration-color: #808000\">Downloading http://pypi-mirror.modal.local:5555/simple/numpy/numpy-2.3.2-cp311-cp311-manylinux_2_27_x86_64.manylinux_2_28_x86_64.whl (16.9 MB)\n",
       "</span></pre>\n"
      ],
      "text/plain": [
       "\u001b[33mDownloading http://pypi-mirror.modal.local:5555/simple/numpy/numpy-2.3.2-cp311-cp311-manylinux_2_27_x86_64.manylinux_2_28_x86_64.whl (16.9 MB)\n",
       "\u001b[0m"
      ]
     },
     "metadata": {},
     "output_type": "display_data"
    },
    {
     "data": {
      "text/html": [
       "<pre style=\"white-space:pre;overflow-x:auto;line-height:normal;font-family:Menlo,'DejaVu Sans Mono',consolas,'Courier New',monospace\"><span style=\"color: #808000; text-decoration-color: #808000\">   ━━━━━━━━━━━━━━━━━━━━━━━━━━━━━━━━━━━━━━━━ 16.9/16.9 MB 206.5 MB/s eta 0:00:00\n",
       "Downloading http://pypi-mirror.modal.local:5555/simple/packaging/packaging-25.0-py3-none-any.whl (66 kB)\n",
       "</span></pre>\n"
      ],
      "text/plain": [
       "\u001b[33m   ━━━━━━━━━━━━━━━━━━━━━━━━━━━━━━━━━━━━━━━━ 16.9/16.9 MB 206.5 MB/s eta 0:00:00\n",
       "Downloading http://pypi-mirror.modal.local:5555/simple/packaging/packaging-25.0-py3-none-any.whl (66 kB)\n",
       "\u001b[0m"
      ]
     },
     "metadata": {},
     "output_type": "display_data"
    },
    {
     "data": {
      "text/html": [
       "<pre style=\"white-space:pre;overflow-x:auto;line-height:normal;font-family:Menlo,'DejaVu Sans Mono',consolas,'Courier New',monospace\"><span style=\"color: #808000; text-decoration-color: #808000\">Downloading http://pypi-mirror.modal.local:5555/simple/pyyaml/PyYAML-6.0.2-cp311-cp311-manylinux_2_17_x86_64.manylinux2014_x86_64.whl (762 kB)\n",
       "</span></pre>\n"
      ],
      "text/plain": [
       "\u001b[33mDownloading http://pypi-mirror.modal.local:5555/simple/pyyaml/PyYAML-6.0.2-cp311-cp311-manylinux_2_17_x86_64.manylinux2014_x86_64.whl (762 kB)\n",
       "\u001b[0m"
      ]
     },
     "metadata": {},
     "output_type": "display_data"
    },
    {
     "data": {
      "text/html": [
       "<pre style=\"white-space:pre;overflow-x:auto;line-height:normal;font-family:Menlo,'DejaVu Sans Mono',consolas,'Courier New',monospace\"><span style=\"color: #808000; text-decoration-color: #808000\">   ━━━━━━━━━━━━━━━━━━━━━━━━━━━━━━━━━━━━━━━ 763.0/763.0 kB 635.5 MB/s eta 0:00:00\n",
       "Downloading http://pypi-mirror.modal.local:5555/simple/regex/regex-2025.7.34-cp311-cp311-manylinux2014_x86_64.manylinux_2_17_x86_64.manylinux_2_28_x86_64.whl (798 kB)\n",
       "</span></pre>\n"
      ],
      "text/plain": [
       "\u001b[33m   ━━━━━━━━━━━━━━━━━━━━━━━━━━━━━━━━━━━━━━━ 763.0/763.0 kB 635.5 MB/s eta 0:00:00\n",
       "Downloading http://pypi-mirror.modal.local:5555/simple/regex/regex-2025.7.34-cp311-cp311-manylinux2014_x86_64.manylinux_2_17_x86_64.manylinux_2_28_x86_64.whl (798 kB)\n",
       "\u001b[0m"
      ]
     },
     "metadata": {},
     "output_type": "display_data"
    },
    {
     "data": {
      "text/html": [
       "<pre style=\"white-space:pre;overflow-x:auto;line-height:normal;font-family:Menlo,'DejaVu Sans Mono',consolas,'Courier New',monospace\"><span style=\"color: #808000; text-decoration-color: #808000\">   ━━━━━━━━━━━━━━━━━━━━━━━━━━━━━━━━━━━━━━━ 798.9/798.9 kB 192.5 MB/s eta 0:00:00\n",
       "Downloading http://pypi-mirror.modal.local:5555/simple/safetensors/safetensors-0.6.2-cp38-abi3-manylinux_2_17_x86_64.manylinux2014_x86_64.whl (485 kB)\n",
       "</span></pre>\n"
      ],
      "text/plain": [
       "\u001b[33m   ━━━━━━━━━━━━━━━━━━━━━━━━━━━━━━━━━━━━━━━ 798.9/798.9 kB 192.5 MB/s eta 0:00:00\n",
       "Downloading http://pypi-mirror.modal.local:5555/simple/safetensors/safetensors-0.6.2-cp38-abi3-manylinux_2_17_x86_64.manylinux2014_x86_64.whl (485 kB)\n",
       "\u001b[0m"
      ]
     },
     "metadata": {},
     "output_type": "display_data"
    },
    {
     "data": {
      "text/html": [
       "<pre style=\"white-space:pre;overflow-x:auto;line-height:normal;font-family:Menlo,'DejaVu Sans Mono',consolas,'Courier New',monospace\"><span style=\"color: #808000; text-decoration-color: #808000\">Downloading http://pypi-mirror.modal.local:5555/simple/sympy/sympy-1.14.0-py3-none-any.whl (6.3 MB)\n",
       "</span></pre>\n"
      ],
      "text/plain": [
       "\u001b[33mDownloading http://pypi-mirror.modal.local:5555/simple/sympy/sympy-1.14.0-py3-none-any.whl (6.3 MB)\n",
       "\u001b[0m"
      ]
     },
     "metadata": {},
     "output_type": "display_data"
    },
    {
     "data": {
      "text/html": [
       "<pre style=\"white-space:pre;overflow-x:auto;line-height:normal;font-family:Menlo,'DejaVu Sans Mono',consolas,'Courier New',monospace\"><span style=\"color: #808000; text-decoration-color: #808000\">   ━━━━━━━━━━━━━━━━━━━━━━━━━━━━━━━━━━━━━━━━ 6.3/6.3 MB 244.1 MB/s eta 0:00:00\n",
       "Downloading http://pypi-mirror.modal.local:5555/simple/tokenizers/tokenizers-0.21.4-cp39-abi3-manylinux_2_17_x86_64.manylinux2014_x86_64.whl (3.1 MB)\n",
       "</span></pre>\n"
      ],
      "text/plain": [
       "\u001b[33m   ━━━━━━━━━━━━━━━━━━━━━━━━━━━━━━━━━━━━━━━━ 6.3/6.3 MB 244.1 MB/s eta 0:00:00\n",
       "Downloading http://pypi-mirror.modal.local:5555/simple/tokenizers/tokenizers-0.21.4-cp39-abi3-manylinux_2_17_x86_64.manylinux2014_x86_64.whl (3.1 MB)\n",
       "\u001b[0m"
      ]
     },
     "metadata": {},
     "output_type": "display_data"
    },
    {
     "data": {
      "text/html": [
       "<pre style=\"white-space:pre;overflow-x:auto;line-height:normal;font-family:Menlo,'DejaVu Sans Mono',consolas,'Courier New',monospace\"><span style=\"color: #808000; text-decoration-color: #808000\">   ━━━━━━━━━━━━━━━━━━━━━━━━━━━━━━━━━━━━━━━━ 3.1/3.1 MB 416.5 MB/s eta 0:00:00\n",
       "Downloading http://pypi-mirror.modal.local:5555/simple/tqdm/tqdm-4.67.1-py3-none-any.whl (78 kB)\n",
       "</span></pre>\n"
      ],
      "text/plain": [
       "\u001b[33m   ━━━━━━━━━━━━━━━━━━━━━━━━━━━━━━━━━━━━━━━━ 3.1/3.1 MB 416.5 MB/s eta 0:00:00\n",
       "Downloading http://pypi-mirror.modal.local:5555/simple/tqdm/tqdm-4.67.1-py3-none-any.whl (78 kB)\n",
       "\u001b[0m"
      ]
     },
     "metadata": {},
     "output_type": "display_data"
    },
    {
     "data": {
      "text/html": [
       "<pre style=\"white-space:pre;overflow-x:auto;line-height:normal;font-family:Menlo,'DejaVu Sans Mono',consolas,'Courier New',monospace\"><span style=\"color: #808000; text-decoration-color: #808000\">Downloading http://pypi-mirror.modal.local:5555/simple/filelock/filelock-3.18.0-py3-none-any.whl (16 kB)\n",
       "Downloading http://pypi-mirror.modal.local:5555/simple/jinja2/jinja2-3.1.6-py3-none-any.whl (134 kB)\n",
       "</span></pre>\n"
      ],
      "text/plain": [
       "\u001b[33mDownloading http://pypi-mirror.modal.local:5555/simple/filelock/filelock-3.18.0-py3-none-any.whl (16 kB)\n",
       "Downloading http://pypi-mirror.modal.local:5555/simple/jinja2/jinja2-3.1.6-py3-none-any.whl (134 kB)\n",
       "\u001b[0m"
      ]
     },
     "metadata": {},
     "output_type": "display_data"
    },
    {
     "data": {
      "text/html": [
       "<pre style=\"white-space:pre;overflow-x:auto;line-height:normal;font-family:Menlo,'DejaVu Sans Mono',consolas,'Courier New',monospace\"><span style=\"color: #808000; text-decoration-color: #808000\">Downloading http://pypi-mirror.modal.local:5555/simple/networkx/networkx-3.5-py3-none-any.whl (2.0 MB)\n",
       "</span></pre>\n"
      ],
      "text/plain": [
       "\u001b[33mDownloading http://pypi-mirror.modal.local:5555/simple/networkx/networkx-3.5-py3-none-any.whl (2.0 MB)\n",
       "\u001b[0m"
      ]
     },
     "metadata": {},
     "output_type": "display_data"
    },
    {
     "data": {
      "text/html": [
       "<pre style=\"white-space:pre;overflow-x:auto;line-height:normal;font-family:Menlo,'DejaVu Sans Mono',consolas,'Courier New',monospace\"><span style=\"color: #808000; text-decoration-color: #808000\">   ━━━━━━━━━━━━━━━━━━━━━━━━━━━━━━━━━━━━━━━━ 2.0/2.0 MB 301.2 MB/s eta 0:00:00\n",
       "Downloading http://pypi-mirror.modal.local:5555/simple/psutil/psutil-7.0.0-cp36-abi3-manylinux_2_12_x86_64.manylinux2010_x86_64.manylinux_2_17_x86_64.manylinux2014_x86_64.whl (277 kB)\n",
       "</span></pre>\n"
      ],
      "text/plain": [
       "\u001b[33m   ━━━━━━━━━━━━━━━━━━━━━━━━━━━━━━━━━━━━━━━━ 2.0/2.0 MB 301.2 MB/s eta 0:00:00\n",
       "Downloading http://pypi-mirror.modal.local:5555/simple/psutil/psutil-7.0.0-cp36-abi3-manylinux_2_12_x86_64.manylinux2010_x86_64.manylinux_2_17_x86_64.manylinux2014_x86_64.whl (277 kB)\n",
       "\u001b[0m"
      ]
     },
     "metadata": {},
     "output_type": "display_data"
    },
    {
     "data": {
      "text/html": [
       "<pre style=\"white-space:pre;overflow-x:auto;line-height:normal;font-family:Menlo,'DejaVu Sans Mono',consolas,'Courier New',monospace\"><span style=\"color: #808000; text-decoration-color: #808000\">Downloading http://pypi-mirror.modal.local:5555/simple/requests/requests-2.32.4-py3-none-any.whl (64 kB)\n",
       "Downloading http://pypi-mirror.modal.local:5555/simple/charset-normalizer/charset_normalizer-3.4.3-cp311-cp311-manylinux2014_x86_64.manylinux_2_17_x86_64.manylinux_2_28_x86_64.whl (150 kB)\n",
       "</span></pre>\n"
      ],
      "text/plain": [
       "\u001b[33mDownloading http://pypi-mirror.modal.local:5555/simple/requests/requests-2.32.4-py3-none-any.whl (64 kB)\n",
       "Downloading http://pypi-mirror.modal.local:5555/simple/charset-normalizer/charset_normalizer-3.4.3-cp311-cp311-manylinux2014_x86_64.manylinux_2_17_x86_64.manylinux_2_28_x86_64.whl (150 kB)\n",
       "\u001b[0m"
      ]
     },
     "metadata": {},
     "output_type": "display_data"
    },
    {
     "data": {
      "text/html": [
       "<pre style=\"white-space:pre;overflow-x:auto;line-height:normal;font-family:Menlo,'DejaVu Sans Mono',consolas,'Courier New',monospace\"><span style=\"color: #808000; text-decoration-color: #808000\">Downloading http://pypi-mirror.modal.local:5555/simple/hf-xet/hf_xet-1.1.7-cp37-abi3-manylinux_2_17_x86_64.manylinux2014_x86_64.whl (3.2 MB)\n",
       "</span></pre>\n"
      ],
      "text/plain": [
       "\u001b[33mDownloading http://pypi-mirror.modal.local:5555/simple/hf-xet/hf_xet-1.1.7-cp37-abi3-manylinux_2_17_x86_64.manylinux2014_x86_64.whl (3.2 MB)\n",
       "\u001b[0m"
      ]
     },
     "metadata": {},
     "output_type": "display_data"
    },
    {
     "data": {
      "text/html": [
       "<pre style=\"white-space:pre;overflow-x:auto;line-height:normal;font-family:Menlo,'DejaVu Sans Mono',consolas,'Courier New',monospace\"><span style=\"color: #808000; text-decoration-color: #808000\">   ━━━━━━━━━━━━━━━━━━━━━━━━━━━━━━━━━━━━━━━━ 3.2/3.2 MB 370.9 MB/s eta 0:00:00\n",
       "Downloading http://pypi-mirror.modal.local:5555/simple/markupsafe/MarkupSafe-3.0.2-cp311-cp311-manylinux_2_17_x86_64.manylinux2014_x86_64.whl (23 kB)\n",
       "</span></pre>\n"
      ],
      "text/plain": [
       "\u001b[33m   ━━━━━━━━━━━━━━━━━━━━━━━━━━━━━━━━━━━━━━━━ 3.2/3.2 MB 370.9 MB/s eta 0:00:00\n",
       "Downloading http://pypi-mirror.modal.local:5555/simple/markupsafe/MarkupSafe-3.0.2-cp311-cp311-manylinux_2_17_x86_64.manylinux2014_x86_64.whl (23 kB)\n",
       "\u001b[0m"
      ]
     },
     "metadata": {},
     "output_type": "display_data"
    },
    {
     "data": {
      "text/html": [
       "<pre style=\"white-space:pre;overflow-x:auto;line-height:normal;font-family:Menlo,'DejaVu Sans Mono',consolas,'Courier New',monospace\"><span style=\"color: #808000; text-decoration-color: #808000\">Downloading http://pypi-mirror.modal.local:5555/simple/mpmath/mpmath-1.3.0-py3-none-any.whl (536 kB)\n",
       "   ━━━━━━━━━━━━━━━━━━━━━━━━━━━━━━━━━━━━━━━ 536.2/536.2 kB 275.9 MB/s eta 0:00:00\n",
       "</span></pre>\n"
      ],
      "text/plain": [
       "\u001b[33mDownloading http://pypi-mirror.modal.local:5555/simple/mpmath/mpmath-1.3.0-py3-none-any.whl (536 kB)\n",
       "   ━━━━━━━━━━━━━━━━━━━━━━━━━━━━━━━━━━━━━━━ 536.2/536.2 kB 275.9 MB/s eta 0:00:00\n",
       "\u001b[0m"
      ]
     },
     "metadata": {},
     "output_type": "display_data"
    },
    {
     "data": {
      "text/html": [
       "<pre style=\"white-space:pre;overflow-x:auto;line-height:normal;font-family:Menlo,'DejaVu Sans Mono',consolas,'Courier New',monospace\"><span style=\"color: #808000; text-decoration-color: #808000\">Downloading http://pypi-mirror.modal.local:5555/simple/urllib3/urllib3-2.5.0-py3-none-any.whl (129 kB)\n",
       "</span></pre>\n"
      ],
      "text/plain": [
       "\u001b[33mDownloading http://pypi-mirror.modal.local:5555/simple/urllib3/urllib3-2.5.0-py3-none-any.whl (129 kB)\n",
       "\u001b[0m"
      ]
     },
     "metadata": {},
     "output_type": "display_data"
    },
    {
     "data": {
      "text/html": [
       "<pre style=\"white-space:pre;overflow-x:auto;line-height:normal;font-family:Menlo,'DejaVu Sans Mono',consolas,'Courier New',monospace\"><span style=\"color: #808000; text-decoration-color: #808000\">Installing collected packages: nvidia-cusparselt-cu12, mpmath, urllib3, triton, tqdm, sympy, safetensors, regex, pyyaml, psutil, packaging, nvidia-nvtx-cu12, nvidia-nvjitlink-cu12, nvidia-nccl-cu12, nvidia-curand-cu12, nvidia-cufile-cu12, nvidia-cuda-runtime-cu12, nvidia-cuda-nvrtc-cu12, nvidia-cuda-cupti-cu12, nvidia-cublas-cu12, numpy, networkx, MarkupSafe, hf-xet, fsspec, filelock, charset_normalizer, requests, nvidia-cusparse-cu12, nvidia-cufft-cu12, nvidia-cudnn-cu12, jinja2, nvidia-cusolver-cu12, huggingface_hub, torch, tokenizers, transformers, bitsandbytes, accelerate, peft\n",
       "</span></pre>\n"
      ],
      "text/plain": [
       "\u001b[33mInstalling collected packages: nvidia-cusparselt-cu12, mpmath, urllib3, triton, tqdm, sympy, safetensors, regex, pyyaml, psutil, packaging, nvidia-nvtx-cu12, nvidia-nvjitlink-cu12, nvidia-nccl-cu12, nvidia-curand-cu12, nvidia-cufile-cu12, nvidia-cuda-runtime-cu12, nvidia-cuda-nvrtc-cu12, nvidia-cuda-cupti-cu12, nvidia-cublas-cu12, numpy, networkx, MarkupSafe, hf-xet, fsspec, filelock, charset_normalizer, requests, nvidia-cusparse-cu12, nvidia-cufft-cu12, nvidia-cudnn-cu12, jinja2, nvidia-cusolver-cu12, huggingface_hub, torch, tokenizers, transformers, bitsandbytes, accelerate, peft\n",
       "\u001b[0m"
      ]
     },
     "metadata": {},
     "output_type": "display_data"
    },
    {
     "data": {
      "text/html": [
       "<pre style=\"white-space:pre;overflow-x:auto;line-height:normal;font-family:Menlo,'DejaVu Sans Mono',consolas,'Courier New',monospace\"><span style=\"color: #808000; text-decoration-color: #808000\">Successfully installed MarkupSafe-3.0.2 accelerate-1.10.0 bitsandbytes-0.46.1 charset_normalizer-3.4.3 filelock-3.18.0 fsspec-2025.7.0 hf-xet-1.1.7 huggingface_hub-0.34.4 jinja2-3.1.6 mpmath-1.3.0 networkx-3.5 numpy-2.3.2 nvidia-cublas-cu12-12.8.4.1 nvidia-cuda-cupti-cu12-12.8.90 nvidia-cuda-nvrtc-cu12-12.8.93 nvidia-cuda-runtime-cu12-12.8.90 nvidia-cudnn-cu12-9.10.2.21 nvidia-cufft-cu12-11.3.3.83 nvidia-cufile-cu12-1.13.1.3 nvidia-curand-cu12-10.3.9.90 nvidia-cusolver-cu12-11.7.3.90 nvidia-cusparse-cu12-12.5.8.93 nvidia-cusparselt-cu12-0.7.1 nvidia-nccl-cu12-2.27.3 nvidia-nvjitlink-cu12-12.8.93 nvidia-nvtx-cu12-12.8.90 packaging-25.0 peft-0.17.0 psutil-7.0.0 pyyaml-6.0.2 regex-2025.7.34 requests-2.32.4 safetensors-0.6.2 sympy-1.14.0 tokenizers-0.21.4 torch-2.8.0 tqdm-4.67.1 transformers-4.55.0 triton-3.4.0 urllib3-2.5.0\n",
       "</span></pre>\n"
      ],
      "text/plain": [
       "\u001b[33mSuccessfully installed MarkupSafe-3.0.2 accelerate-1.10.0 bitsandbytes-0.46.1 charset_normalizer-3.4.3 filelock-3.18.0 fsspec-2025.7.0 hf-xet-1.1.7 huggingface_hub-0.34.4 jinja2-3.1.6 mpmath-1.3.0 networkx-3.5 numpy-2.3.2 nvidia-cublas-cu12-12.8.4.1 nvidia-cuda-cupti-cu12-12.8.90 nvidia-cuda-nvrtc-cu12-12.8.93 nvidia-cuda-runtime-cu12-12.8.90 nvidia-cudnn-cu12-9.10.2.21 nvidia-cufft-cu12-11.3.3.83 nvidia-cufile-cu12-1.13.1.3 nvidia-curand-cu12-10.3.9.90 nvidia-cusolver-cu12-11.7.3.90 nvidia-cusparse-cu12-12.5.8.93 nvidia-cusparselt-cu12-0.7.1 nvidia-nccl-cu12-2.27.3 nvidia-nvjitlink-cu12-12.8.93 nvidia-nvtx-cu12-12.8.90 packaging-25.0 peft-0.17.0 psutil-7.0.0 pyyaml-6.0.2 regex-2025.7.34 requests-2.32.4 safetensors-0.6.2 sympy-1.14.0 tokenizers-0.21.4 torch-2.8.0 tqdm-4.67.1 transformers-4.55.0 triton-3.4.0 urllib3-2.5.0\n",
       "\u001b[0m"
      ]
     },
     "metadata": {},
     "output_type": "display_data"
    },
    {
     "data": {
      "text/html": [
       "<pre style=\"white-space:pre;overflow-x:auto;line-height:normal;font-family:Menlo,'DejaVu Sans Mono',consolas,'Courier New',monospace\"><span style=\"color: #808000; text-decoration-color: #808000\">\n",
       "[notice] A new release of pip is available: 24.3.1 -&gt; 25.2\n",
       "[notice] To update, run: pip install --upgrade pip\n",
       "</span></pre>\n"
      ],
      "text/plain": [
       "\u001b[33m\n",
       "[notice] A new release of pip is available: 24.3.1 -> 25.2\n",
       "[notice] To update, run: pip install --upgrade pip\n",
       "\u001b[0m"
      ]
     },
     "metadata": {},
     "output_type": "display_data"
    },
    {
     "data": {
      "text/html": [
       "<pre style=\"white-space:pre;overflow-x:auto;line-height:normal;font-family:Menlo,'DejaVu Sans Mono',consolas,'Courier New',monospace\"><span style=\"color: #808000; text-decoration-color: #808000\">Saving image...\n",
       "</span></pre>\n"
      ],
      "text/plain": [
       "\u001b[33mSaving image...\n",
       "\u001b[0m"
      ]
     },
     "metadata": {},
     "output_type": "display_data"
    },
    {
     "data": {
      "text/html": [
       "<pre style=\"white-space:pre;overflow-x:auto;line-height:normal;font-family:Menlo,'DejaVu Sans Mono',consolas,'Courier New',monospace\"><span style=\"color: #808000; text-decoration-color: #808000\">Image saved, took 12.17s\n",
       "</span></pre>\n"
      ],
      "text/plain": [
       "\u001b[33mImage saved, took 12.17s\n",
       "\u001b[0m"
      ]
     },
     "metadata": {},
     "output_type": "display_data"
    },
    {
     "data": {
      "text/html": [
       "<pre style=\"white-space:pre;overflow-x:auto;line-height:normal;font-family:Menlo,'DejaVu Sans Mono',consolas,'Courier New',monospace\"><span style=\"color: #808000; text-decoration-color: #808000\">\n",
       "Built image im-cUZ3Qlkqe2GE1kcIgbJgTe in 131.96s\n",
       "\n",
       "\n",
       "</span></pre>\n"
      ],
      "text/plain": [
       "\u001b[33m\n",
       "Built image im-cUZ3Qlkqe2GE1kcIgbJgTe in 131.96s\n",
       "\n",
       "\n",
       "\u001b[0m"
      ]
     },
     "metadata": {},
     "output_type": "display_data"
    },
    {
     "data": {
      "text/html": [
       "<pre style=\"white-space:pre;overflow-x:auto;line-height:normal;font-family:Menlo,'DejaVu Sans Mono',consolas,'Courier New',monospace\"></pre>\n"
      ],
      "text/plain": []
     },
     "metadata": {},
     "output_type": "display_data"
    },
    {
     "data": {
      "text/html": [
       "<pre style=\"white-space:pre;overflow-x:auto;line-height:normal;font-family:Menlo,'DejaVu Sans Mono',consolas,'Courier New',monospace\"><span style=\"color: #008000; text-decoration-color: #008000\">✓</span> Created objects.\n",
       "<span style=\"color: #808080; text-decoration-color: #808080\">├── </span>🔨 Created mount \n",
       "<span style=\"color: #808080; text-decoration-color: #808080\">│   </span>c:\\Users\\VyomBhatt\\Documents\\Github\\Personal\\llm-engineering\\8-agentic-ai-using-llms-capstone\\pricer_ephemeral.\n",
       "<span style=\"color: #808080; text-decoration-color: #808080\">│   </span>py\n",
       "<span style=\"color: #808080; text-decoration-color: #808080\">└── </span>🔨 Created function price.\n",
       "</pre>\n"
      ],
      "text/plain": [
       "\u001b[32m✓\u001b[0m Created objects.\n",
       "\u001b[38;5;244m├── \u001b[0m🔨 Created mount \n",
       "\u001b[38;5;244m│   \u001b[0mc:\\Users\\VyomBhatt\\Documents\\Github\\Personal\\llm-engineering\\8-agentic-ai-using-llms-capstone\\pricer_ephemeral.\n",
       "\u001b[38;5;244m│   \u001b[0mpy\n",
       "\u001b[38;5;244m└── \u001b[0m🔨 Created function price.\n"
      ]
     },
     "metadata": {},
     "output_type": "display_data"
    },
    {
     "data": {
      "application/vnd.jupyter.widget-view+json": {
       "model_id": "52126af800e94befaa4618c6e18f3c03",
       "version_major": 2,
       "version_minor": 0
      },
      "text/plain": [
       "Output()"
      ]
     },
     "metadata": {},
     "output_type": "display_data"
    },
    {
     "data": {
      "text/html": [
       "<pre style=\"white-space:pre;overflow-x:auto;line-height:normal;font-family:Menlo,'DejaVu Sans Mono',consolas,'Courier New',monospace\"><span style=\"color: #800000; text-decoration-color: #800000\">\n",
       "</span></pre>\n"
      ],
      "text/plain": [
       "\u001b[31m\n",
       "\u001b[0m"
      ]
     },
     "metadata": {},
     "output_type": "display_data"
    },
    {
     "data": {
      "text/html": [
       "<pre style=\"white-space:pre;overflow-x:auto;line-height:normal;font-family:Menlo,'DejaVu Sans Mono',consolas,'Courier New',monospace\"><span style=\"color: #800000; text-decoration-color: #800000\">\u001b[1AFetching 4 files:   0%|          | 0/4 [00:00&lt;?, ?it/s]</span></pre>\n"
      ],
      "text/plain": [
       "\u001b[31m\u001b[1AFetching 4 files:   0%|          | 0/4 [00:00<?, ?it/s]\u001b[0m"
      ]
     },
     "metadata": {},
     "output_type": "display_data"
    },
    {
     "data": {
      "text/html": [
       "<pre style=\"white-space:pre;overflow-x:auto;line-height:normal;font-family:Menlo,'DejaVu Sans Mono',consolas,'Courier New',monospace\"><span style=\"color: #800000; text-decoration-color: #800000\">Fetching 4 files:  25%|██▌       | 1/4 [01:02&lt;03:06, 62.19s/it]Fetching 4 files: 100%|██████████| 4/4 [01:02&lt;00:00, 15.55s/it]\n",
       "</span></pre>\n"
      ],
      "text/plain": [
       "\u001b[31mFetching 4 files:  25%|██▌       | 1/4 [01:02<03:06, 62.19s/it]Fetching 4 files: 100%|██████████| 4/4 [01:02<00:00, 15.55s/it]\n",
       "\u001b[0m"
      ]
     },
     "metadata": {},
     "output_type": "display_data"
    },
    {
     "data": {
      "text/html": [
       "<pre style=\"white-space:pre;overflow-x:auto;line-height:normal;font-family:Menlo,'DejaVu Sans Mono',consolas,'Courier New',monospace\"><span style=\"color: #800000; text-decoration-color: #800000\">\n",
       "</span></pre>\n"
      ],
      "text/plain": [
       "\u001b[31m\n",
       "\u001b[0m"
      ]
     },
     "metadata": {},
     "output_type": "display_data"
    },
    {
     "data": {
      "text/html": [
       "<pre style=\"white-space:pre;overflow-x:auto;line-height:normal;font-family:Menlo,'DejaVu Sans Mono',consolas,'Courier New',monospace\"><span style=\"color: #800000; text-decoration-color: #800000\">\u001b[1ALoading checkpoint shards:   0%|          | 0/4 [00:00&lt;?, ?it/s]\n",
       "</span></pre>\n"
      ],
      "text/plain": [
       "\u001b[31m\u001b[1ALoading checkpoint shards:   0%|          | 0/4 [00:00<?, ?it/s]\n",
       "\u001b[0m"
      ]
     },
     "metadata": {},
     "output_type": "display_data"
    },
    {
     "data": {
      "text/html": [
       "<pre style=\"white-space:pre;overflow-x:auto;line-height:normal;font-family:Menlo,'DejaVu Sans Mono',consolas,'Courier New',monospace\"><span style=\"color: #800000; text-decoration-color: #800000\">\u001b[1ALoading checkpoint shards:  25%|██▌       | 1/4 [00:04&lt;00:12,  4.31s/it]</span></pre>\n"
      ],
      "text/plain": [
       "\u001b[31m\u001b[1ALoading checkpoint shards:  25%|██▌       | 1/4 [00:04<00:12,  4.31s/it]\u001b[0m"
      ]
     },
     "metadata": {},
     "output_type": "display_data"
    },
    {
     "data": {
      "text/html": [
       "<pre style=\"white-space:pre;overflow-x:auto;line-height:normal;font-family:Menlo,'DejaVu Sans Mono',consolas,'Courier New',monospace\"><span style=\"color: #800000; text-decoration-color: #800000\">\n",
       "</span></pre>\n"
      ],
      "text/plain": [
       "\u001b[31m\n",
       "\u001b[0m"
      ]
     },
     "metadata": {},
     "output_type": "display_data"
    },
    {
     "data": {
      "text/html": [
       "<pre style=\"white-space:pre;overflow-x:auto;line-height:normal;font-family:Menlo,'DejaVu Sans Mono',consolas,'Courier New',monospace\"><span style=\"color: #800000; text-decoration-color: #800000\">\u001b[1ALoading checkpoint shards:  50%|█████     | 2/4 [00:09&lt;00:09,  4.79s/it]\n",
       "</span></pre>\n"
      ],
      "text/plain": [
       "\u001b[31m\u001b[1ALoading checkpoint shards:  50%|█████     | 2/4 [00:09<00:09,  4.79s/it]\n",
       "\u001b[0m"
      ]
     },
     "metadata": {},
     "output_type": "display_data"
    },
    {
     "data": {
      "text/html": [
       "<pre style=\"white-space:pre;overflow-x:auto;line-height:normal;font-family:Menlo,'DejaVu Sans Mono',consolas,'Courier New',monospace\"><span style=\"color: #800000; text-decoration-color: #800000\">\u001b[1ALoading checkpoint shards:  75%|███████▌  | 3/4 [00:14&lt;00:04,  4.84s/it]Loading checkpoint shards: 100%|██████████| 4/4 [00:14&lt;00:00,  3.09s/it]Loading checkpoint shards: 100%|██████████| 4/4 [00:14&lt;00:00,  3.69s/it]\n",
       "</span></pre>\n"
      ],
      "text/plain": [
       "\u001b[31m\u001b[1ALoading checkpoint shards:  75%|███████▌  | 3/4 [00:14<00:04,  4.84s/it]Loading checkpoint shards: 100%|██████████| 4/4 [00:14<00:00,  3.09s/it]Loading checkpoint shards: 100%|██████████| 4/4 [00:14<00:00,  3.69s/it]\n",
       "\u001b[0m"
      ]
     },
     "metadata": {},
     "output_type": "display_data"
    },
    {
     "data": {
      "text/html": [
       "<pre style=\"white-space:pre;overflow-x:auto;line-height:normal;font-family:Menlo,'DejaVu Sans Mono',consolas,'Courier New',monospace\"><span style=\"color: #800000; text-decoration-color: #800000\">Setting `pad_token_id` to `eos_token_id`:128001 for open-end generation.\n",
       "</span></pre>\n"
      ],
      "text/plain": [
       "\u001b[31mSetting `pad_token_id` to `eos_token_id`:128001 for open-end generation.\n",
       "\u001b[0m"
      ]
     },
     "metadata": {},
     "output_type": "display_data"
    },
    {
     "data": {
      "text/html": [
       "<pre style=\"white-space:pre;overflow-x:auto;line-height:normal;font-family:Menlo,'DejaVu Sans Mono',consolas,'Courier New',monospace\"></pre>\n"
      ],
      "text/plain": []
     },
     "metadata": {},
     "output_type": "display_data"
    },
    {
     "data": {
      "text/html": [
       "<pre style=\"white-space:pre;overflow-x:auto;line-height:normal;font-family:Menlo,'DejaVu Sans Mono',consolas,'Courier New',monospace\"><span style=\"color: #808000; text-decoration-color: #808000\">Stopping app - local entrypoint completed.\n",
       "</span></pre>\n"
      ],
      "text/plain": [
       "\u001b[33mStopping app - local entrypoint completed.\n",
       "\u001b[0m"
      ]
     },
     "metadata": {},
     "output_type": "display_data"
    },
    {
     "data": {
      "text/html": [
       "<pre style=\"white-space:pre;overflow-x:auto;line-height:normal;font-family:Menlo,'DejaVu Sans Mono',consolas,'Courier New',monospace\"><span style=\"color: #808000; text-decoration-color: #808000\">Runner terminated.\n",
       "</span></pre>\n"
      ],
      "text/plain": [
       "\u001b[33mRunner terminated.\n",
       "\u001b[0m"
      ]
     },
     "metadata": {},
     "output_type": "display_data"
    },
    {
     "data": {
      "text/html": [
       "<pre style=\"white-space:pre;overflow-x:auto;line-height:normal;font-family:Menlo,'DejaVu Sans Mono',consolas,'Courier New',monospace\"><span style=\"color: #008000; text-decoration-color: #008000\">✓</span> App completed. <span style=\"color: #b2b2b2; text-decoration-color: #b2b2b2\">View run at </span><span style=\"color: #b2b2b2; text-decoration-color: #b2b2b2; text-decoration: underline\">https://modal.com/apps/vyom-bhatt-37/main/ap-WerhYSt6JrXYMPVXdFFhu2</span>\n",
       "</pre>\n"
      ],
      "text/plain": [
       "\u001b[32m✓\u001b[0m App completed. \u001b[38;5;249mView run at \u001b[0m\u001b[4;38;5;249mhttps://modal.com/apps/vyom-bhatt-37/main/ap-WerhYSt6JrXYMPVXdFFhu2\u001b[0m\n"
      ]
     },
     "metadata": {},
     "output_type": "display_data"
    },
    {
     "data": {
      "text/plain": [
       "133.0"
      ]
     },
     "execution_count": 11,
     "metadata": {},
     "output_type": "execute_result"
    }
   ],
   "source": [
    "with modal.enable_output():\n",
    "    with app.run():\n",
    "        result=price.remote(\"Quadcast HyperX condenser mic, connects via usb-c to your computer for crystal clear audio\")\n",
    "result"
   ]
  },
  {
   "cell_type": "markdown",
   "id": "04d8747f-8452-4077-8af6-27e03888508a",
   "metadata": {},
   "source": [
    "## Transitioning From Ephemeral Apps to Deployed Apps\n",
    "\n",
    "From a command line, `modal deploy xxx` will deploy your code as a Deployed App\n",
    "\n",
    "This is how you could package your AI service behind an API to be used in a Production System.\n",
    "\n",
    "You can also build REST endpoints easily, although we won't cover that as we'll be calling direct from Python.\n",
    "\n",
    "## Important note about secrets\n",
    "\n",
    "In both the files `pricer_service.py` and `pricer_service2.py` you will find code like this near the top:  \n",
    "`secrets = [modal.Secret.from_name(\"hf-secret\")]`  \n",
    "You may need to change from `hf-secret` to `huggingface-secret` depending on how the Secret is configured in modal.  \n",
    "To check, visit this page and look in the first column:  \n",
    "https://modal.com/secrets/\n",
    "\n",
    "## Important note for Windows people:\n",
    "\n",
    "On the next line, I call `modal deploy` from within Jupyter lab; I've heard that on some versions of Windows this gives a strange unicode error because modal prints emojis to the output which can't be displayed. If that happens to you, simply use an Anaconda Prompt window or a Powershell instead, with your environment activated, and type `modal deploy pricer_service` there. Follow the same approach the next time we do `!modal deploy` too.\n",
    "\n",
    "As an alternative, a few students have mentioned you can run this code within Jupyter Lab if you want to run it from here:\n",
    "```\n",
    "# Check the default encoding\n",
    "print(locale.getpreferredencoding())  # Should print 'UTF-8'\n",
    "\n",
    "# Ensure UTF-8 encoding\n",
    "os.environ['PYTHONIOENCODING'] = 'utf-8'\n",
    "```"
   ]
  },
  {
   "cell_type": "code",
   "execution_count": null,
   "id": "7f90d857-2f12-4521-bb90-28efd917f7d1",
   "metadata": {},
   "outputs": [],
   "source": [
    "# You can also run \"modal deploy -m pricer_service\" at the command line in an activated environment\n",
    "!modal deploy -m pricer_service"
   ]
  },
  {
   "cell_type": "code",
   "execution_count": null,
   "id": "1dec70ff-1986-4405-8624-9bbbe0ce1f4a",
   "metadata": {},
   "outputs": [],
   "source": [
    "pricer = modal.Function.from_name(\"pricer-service\", \"price\")"
   ]
  },
  {
   "cell_type": "code",
   "execution_count": null,
   "id": "17776139-0d9e-4ad0-bcd0-82d3a92ca61f",
   "metadata": {},
   "outputs": [],
   "source": [
    "# This can take a while! We'll use faster approaches shortly\n",
    "\n",
    "pricer.remote(\"Quadcast HyperX condenser mic, connects via usb-c to your computer for crystal clear audio\")"
   ]
  },
  {
   "cell_type": "code",
   "execution_count": 12,
   "id": "f56d1e55-2a03-4ce2-bb47-2ab6b9175a02",
   "metadata": {},
   "outputs": [
    {
     "name": "stdout",
     "output_type": "stream",
     "text": [
      "- Creating objects...\n",
      "| Creating objects...\n",
      "- Creating objects...\n",
      "└── - Creating mount \n",
      "    c:\\Users\\VyomBhatt\\Documents\\Github\\Personal\\llm-engineering\\8-agentic-ai-u\n",
      "    sing-llms-capstone\\pricer_service2.py: Uploaded 0/1 files\n",
      "| Creating objects...\n",
      "└── | Creating mount \n",
      "    c:\\Users\\VyomBhatt\\Documents\\Github\\Personal\\llm-engineering\\8-agentic-ai-u\n",
      "    sing-llms-capstone\\pricer_service2.py: Finalizing index of 1 files\n",
      "- Creating objects...\n",
      "└── - Creating mount \n",
      "    c:\\Users\\VyomBhatt\\Documents\\Github\\Personal\\llm-engineering\\8-agentic-ai-u\n",
      "    sing-llms-capstone\\pricer_service2.py: Finalizing index of 1 files\n",
      "| Creating objects...\n",
      "└── | Creating mount \n",
      "    c:\\Users\\VyomBhatt\\Documents\\Github\\Personal\\llm-engineering\\8-agentic-ai-u\n",
      "    sing-llms-capstone\\pricer_service2.py: Finalizing index of 1 files\n",
      "- Creating objects...\n",
      "└── 🔨 Created mount \n",
      "    c:\\Users\\VyomBhatt\\Documents\\Github\\Personal\\llm-engineering\\8-agentic-ai-u\n",
      "    sing-llms-capstone\\pricer_service2.py\n",
      "| Creating objects...\n",
      "└── 🔨 Created mount \n",
      "    c:\\Users\\VyomBhatt\\Documents\\Github\\Personal\\llm-engineering\\8-agentic-ai-u\n",
      "    sing-llms-capstone\\pricer_service2.py\n",
      "- Creating objects...\n",
      "└── 🔨 Created mount \n",
      "    c:\\Users\\VyomBhatt\\Documents\\Github\\Personal\\llm-engineering\\8-agentic-ai-u\n",
      "    sing-llms-capstone\\pricer_service2.py\n",
      "Building image im-aXKUHw0zpQ6YEuL2qawI52\n",
      "- Creating objects...\n",
      "└── 🔨 Created mount c:\\Users\\VyomBhatt\\Documents\\Github\\Personal\\llm-engineeri\n",
      "| Creating objects...\n",
      "└── 🔨 Created mount \n",
      "    c:\\Users\\VyomBhatt\\Documents\\Github\\Personal\\llm-engineering\\8-agentic-ai-u\n",
      "    sing-llms-capstone\\pricer_service2.py\n",
      "\n",
      "=> Step 0: FROM base\n",
      "/ Creating objects...\n",
      "└── 🔨 Created mount c:\\Users\\VyomBhatt\\Documents\\Github\\Personal\\llm-engineeri\n",
      "\n",
      "=> Step 1: RUN python -m pip install accelerate bitsandbytes huggingface peft torch transformers\n",
      "/ Creating objects...\n",
      "└── 🔨 Created mount c:\\Users\\VyomBhatt\\Documents\\Github\\Personal\\llm-engineeri\n",
      "Skipping unsupported RUN OPTIONS: \n",
      "/ Creating objects...\n",
      "└── 🔨 Created mount c:\\Users\\VyomBhatt\\Documents\\Github\\Personal\\llm-engineeri\n",
      "- Creating objects...\n",
      "└── 🔨 Created mount \n",
      "    c:\\Users\\VyomBhatt\\Documents\\Github\\Personal\\llm-engineering\\8-agentic-ai-u\n",
      "    sing-llms-capstone\\pricer_service2.py\n",
      "| Creating objects...\n",
      "└── 🔨 Created mount \n",
      "    c:\\Users\\VyomBhatt\\Documents\\Github\\Personal\\llm-engineering\\8-agentic-ai-u\n",
      "    sing-llms-capstone\\pricer_service2.py\n",
      "- Creating objects...\n",
      "└── 🔨 Created mount \n",
      "    c:\\Users\\VyomBhatt\\Documents\\Github\\Personal\\llm-engineering\\8-agentic-ai-u\n",
      "    sing-llms-capstone\\pricer_service2.py\n",
      "| Creating objects...\n",
      "└── 🔨 Created mount \n",
      "    c:\\Users\\VyomBhatt\\Documents\\Github\\Personal\\llm-engineering\\8-agentic-ai-u\n",
      "    sing-llms-capstone\\pricer_service2.py\n",
      "- Creating objects...\n",
      "└── 🔨 Created mount \n",
      "    c:\\Users\\VyomBhatt\\Documents\\Github\\Personal\\llm-engineering\\8-agentic-ai-u\n",
      "    sing-llms-capstone\\pricer_service2.py\n",
      "| Creating objects...\n",
      "└── 🔨 Created mount \n",
      "    c:\\Users\\VyomBhatt\\Documents\\Github\\Personal\\llm-engineering\\8-agentic-ai-u\n",
      "    sing-llms-capstone\\pricer_service2.py\n",
      "Looking in indexes: http://pypi-mirror.modal.local:5555/simple\n",
      "| Creating objects...\n",
      "└── 🔨 Created mount c:\\Users\\VyomBhatt\\Documents\\Github\\Personal\\llm-engineeri\n",
      "Collecting accelerate\n",
      "  Downloading http://pypi-mirror.modal.local:5555/simple/accelerate/accelerate-1.10.0-py3-none-any.whl.metadata (19 kB)\n",
      "| Creating objects...\n",
      "└── 🔨 Created mount c:\\Users\\VyomBhatt\\Documents\\Github\\Personal\\llm-engineeri\n",
      "Collecting bitsandbytes\n",
      "  Downloading http://pypi-mirror.modal.local:5555/simple/bitsandbytes/bitsandbytes-0.46.1-py3-none-manylinux_2_24_x86_64.whl.metadata (10 kB)\n",
      "/ Creating objects...\n",
      "└── 🔨 Created mount c:\\Users\\VyomBhatt\\Documents\\Github\\Personal\\llm-engineeri\n",
      "Collecting huggingface\n",
      "/ Creating objects...\n",
      "└── 🔨 Created mount c:\\Users\\VyomBhatt\\Documents\\Github\\Personal\\llm-engineeri\n",
      "  Downloading http://pypi-mirror.modal.local:5555/simple/huggingface/huggingface-0.0.1-py3-none-any.whl.metadata (2.9 kB)\n",
      "/ Creating objects...\n",
      "└── 🔨 Created mount c:\\Users\\VyomBhatt\\Documents\\Github\\Personal\\llm-engineeri\n",
      "Collecting peft\n",
      "  Downloading http://pypi-mirror.modal.local:5555/simple/peft/peft-0.17.0-py3-none-any.whl.metadata (14 kB)\n",
      "/ Creating objects...\n",
      "└── 🔨 Created mount c:\\Users\\VyomBhatt\\Documents\\Github\\Personal\\llm-engineeri\n",
      "Collecting torch\n",
      "  Downloading http://pypi-mirror.modal.local:5555/simple/torch/torch-2.8.0-cp311-cp311-manylinux_2_28_x86_64.whl.metadata (30 kB)\n",
      "- Creating objects...\n",
      "└── 🔨 Created mount c:\\Users\\VyomBhatt\\Documents\\Github\\Personal\\llm-engineeri\n",
      "- Creating objects...\n",
      "└── 🔨 Created mount \n",
      "    c:\\Users\\VyomBhatt\\Documents\\Github\\Personal\\llm-engineering\\8-agentic-ai-u\n",
      "    sing-llms-capstone\\pricer_service2.py\n",
      "Collecting transformers\n",
      "  Downloading http://pypi-mirror.modal.local:5555/simple/transformers/transformers-4.55.0-py3-none-any.whl.metadata (39 kB)\n",
      "\\ Creating objects...\n",
      "└── 🔨 Created mount c:\\Users\\VyomBhatt\\Documents\\Github\\Personal\\llm-engineeri\n",
      "| Creating objects...\n",
      "└── 🔨 Created mount \n",
      "    c:\\Users\\VyomBhatt\\Documents\\Github\\Personal\\llm-engineering\\8-agentic-ai-u\n",
      "    sing-llms-capstone\\pricer_service2.py\n",
      "Collecting numpy<3.0.0,>=1.17 (from accelerate)\n",
      "  Downloading http://pypi-mirror.modal.local:5555/simple/numpy/numpy-2.3.2-cp311-cp311-manylinux_2_27_x86_64.manylinux_2_28_x86_64.whl.metadata (62 kB)\n",
      "/ Creating objects...\n",
      "└── 🔨 Created mount c:\\Users\\VyomBhatt\\Documents\\Github\\Personal\\llm-engineeri\n",
      "Collecting packaging>=20.0 (from accelerate)\n",
      "  Downloading http://pypi-mirror.modal.local:5555/simple/packaging/packaging-25.0-py3-none-any.whl.metadata (3.3 kB)\n",
      "/ Creating objects...\n",
      "└── 🔨 Created mount c:\\Users\\VyomBhatt\\Documents\\Github\\Personal\\llm-engineeri\n",
      "Collecting psutil (from accelerate)\n",
      "  Downloading http://pypi-mirror.modal.local:5555/simple/psutil/psutil-7.0.0-cp36-abi3-manylinux_2_12_x86_64.manylinux2010_x86_64.manylinux_2_17_x86_64.manylinux2014_x86_64.whl.metadata (22 kB)\n",
      "- Creating objects...\n",
      "└── 🔨 Created mount c:\\Users\\VyomBhatt\\Documents\\Github\\Personal\\llm-engineeri\n",
      "- Creating objects...\n",
      "└── 🔨 Created mount \n",
      "    c:\\Users\\VyomBhatt\\Documents\\Github\\Personal\\llm-engineering\\8-agentic-ai-u\n",
      "    sing-llms-capstone\\pricer_service2.py\n",
      "Collecting pyyaml (from accelerate)\n",
      "  Downloading http://pypi-mirror.modal.local:5555/simple/pyyaml/PyYAML-6.0.2-cp311-cp311-manylinux_2_17_x86_64.manylinux2014_x86_64.whl.metadata (2.1 kB)\n",
      "- Creating objects...\n",
      "└── 🔨 Created mount c:\\Users\\VyomBhatt\\Documents\\Github\\Personal\\llm-engineeri\n",
      "Collecting huggingface_hub>=0.21.0 (from accelerate)\n",
      "  Downloading http://pypi-mirror.modal.local:5555/simple/huggingface-hub/huggingface_hub-0.34.4-py3-none-any.whl.metadata (14 kB)\n",
      "- Creating objects...\n",
      "└── 🔨 Created mount c:\\Users\\VyomBhatt\\Documents\\Github\\Personal\\llm-engineeri\n",
      "| Creating objects...\n",
      "└── 🔨 Created mount \n",
      "    c:\\Users\\VyomBhatt\\Documents\\Github\\Personal\\llm-engineering\\8-agentic-ai-u\n",
      "    sing-llms-capstone\\pricer_service2.py\n",
      "Collecting safetensors>=0.4.3 (from accelerate)\n",
      "  Downloading http://pypi-mirror.modal.local:5555/simple/safetensors/safetensors-0.6.2-cp38-abi3-manylinux_2_17_x86_64.manylinux2014_x86_64.whl.metadata (4.1 kB)\n",
      "/ Creating objects...\n",
      "└── 🔨 Created mount c:\\Users\\VyomBhatt\\Documents\\Github\\Personal\\llm-engineeri\n",
      "Collecting tqdm (from peft)\n",
      "  Downloading http://pypi-mirror.modal.local:5555/simple/tqdm/tqdm-4.67.1-py3-none-any.whl.metadata (57 kB)\n",
      "/ Creating objects...\n",
      "└── 🔨 Created mount c:\\Users\\VyomBhatt\\Documents\\Github\\Personal\\llm-engineeri\n",
      "Collecting filelock (from torch)\n",
      "  Downloading http://pypi-mirror.modal.local:5555/simple/filelock/filelock-3.18.0-py3-none-any.whl.metadata (2.9 kB)\n",
      "Requirement already satisfied: typing-extensions>=4.10.0 in /usr/local/lib/python3.11/site-packages (from torch) (4.12.2)\n",
      "- Creating objects...\n",
      "└── 🔨 Created mount c:\\Users\\VyomBhatt\\Documents\\Github\\Personal\\llm-engineeri\n",
      "Collecting sympy>=1.13.3 (from torch)\n",
      "  Downloading http://pypi-mirror.modal.local:5555/simple/sympy/sympy-1.14.0-py3-none-any.whl.metadata (12 kB)\n",
      "- Creating objects...\n",
      "└── 🔨 Created mount c:\\Users\\VyomBhatt\\Documents\\Github\\Personal\\llm-engineeri\n",
      "- Creating objects...\n",
      "└── 🔨 Created mount \n",
      "    c:\\Users\\VyomBhatt\\Documents\\Github\\Personal\\llm-engineering\\8-agentic-ai-u\n",
      "    sing-llms-capstone\\pricer_service2.py\n",
      "Collecting networkx (from torch)\n",
      "  Downloading http://pypi-mirror.modal.local:5555/simple/networkx/networkx-3.5-py3-none-any.whl.metadata (6.3 kB)\n",
      "- Creating objects...\n",
      "└── 🔨 Created mount c:\\Users\\VyomBhatt\\Documents\\Github\\Personal\\llm-engineeri\n",
      "Collecting jinja2 (from torch)\n",
      "  Downloading http://pypi-mirror.modal.local:5555/simple/jinja2/jinja2-3.1.6-py3-none-any.whl.metadata (2.9 kB)\n",
      "- Creating objects...\n",
      "└── 🔨 Created mount c:\\Users\\VyomBhatt\\Documents\\Github\\Personal\\llm-engineeri\n",
      "Collecting fsspec (from torch)\n",
      "  Downloading http://pypi-mirror.modal.local:5555/simple/fsspec/fsspec-2025.7.0-py3-none-any.whl.metadata (12 kB)\n",
      "- Creating objects...\n",
      "└── 🔨 Created mount c:\\Users\\VyomBhatt\\Documents\\Github\\Personal\\llm-engineeri\n",
      "Collecting nvidia-cuda-nvrtc-cu12==12.8.93 (from torch)\n",
      "  Downloading http://pypi-mirror.modal.local:5555/simple/nvidia-cuda-nvrtc-cu12/nvidia_cuda_nvrtc_cu12-12.8.93-py3-none-manylinux2010_x86_64.manylinux_2_12_x86_64.whl.metadata (1.7 kB)\n",
      "\\ Creating objects...\n",
      "└── 🔨 Created mount c:\\Users\\VyomBhatt\\Documents\\Github\\Personal\\llm-engineeri\n",
      "Collecting nvidia-cuda-runtime-cu12==12.8.90 (from torch)\n",
      "  Downloading http://pypi-mirror.modal.local:5555/simple/nvidia-cuda-runtime-cu12/nvidia_cuda_runtime_cu12-12.8.90-py3-none-manylinux2014_x86_64.manylinux_2_17_x86_64.whl.metadata (1.7 kB)\n",
      "\\ Creating objects...\n",
      "└── 🔨 Created mount c:\\Users\\VyomBhatt\\Documents\\Github\\Personal\\llm-engineeri\n",
      "Collecting nvidia-cuda-cupti-cu12==12.8.90 (from torch)\n",
      "  Downloading http://pypi-mirror.modal.local:5555/simple/nvidia-cuda-cupti-cu12/nvidia_cuda_cupti_cu12-12.8.90-py3-none-manylinux2014_x86_64.manylinux_2_17_x86_64.whl.metadata (1.7 kB)\n",
      "\\ Creating objects...\n",
      "└── 🔨 Created mount c:\\Users\\VyomBhatt\\Documents\\Github\\Personal\\llm-engineeri\n",
      "Collecting nvidia-cudnn-cu12==9.10.2.21 (from torch)\n",
      "  Downloading http://pypi-mirror.modal.local:5555/simple/nvidia-cudnn-cu12/nvidia_cudnn_cu12-9.10.2.21-py3-none-manylinux_2_27_x86_64.whl.metadata (1.8 kB)\n",
      "\\ Creating objects...\n",
      "└── 🔨 Created mount c:\\Users\\VyomBhatt\\Documents\\Github\\Personal\\llm-engineeri\n",
      "Collecting nvidia-cublas-cu12==12.8.4.1 (from torch)\n",
      "  Downloading http://pypi-mirror.modal.local:5555/simple/nvidia-cublas-cu12/nvidia_cublas_cu12-12.8.4.1-py3-none-manylinux_2_27_x86_64.whl.metadata (1.7 kB)\n",
      "\\ Creating objects...\n",
      "└── 🔨 Created mount c:\\Users\\VyomBhatt\\Documents\\Github\\Personal\\llm-engineeri\n",
      "Collecting nvidia-cufft-cu12==11.3.3.83 (from torch)\n",
      "  Downloading http://pypi-mirror.modal.local:5555/simple/nvidia-cufft-cu12/nvidia_cufft_cu12-11.3.3.83-py3-none-manylinux2014_x86_64.manylinux_2_17_x86_64.whl.metadata (1.7 kB)\n",
      "| Creating objects...\n",
      "└── 🔨 Created mount c:\\Users\\VyomBhatt\\Documents\\Github\\Personal\\llm-engineeri\n",
      "Collecting nvidia-curand-cu12==10.3.9.90 (from torch)\n",
      "  Downloading http://pypi-mirror.modal.local:5555/simple/nvidia-curand-cu12/nvidia_curand_cu12-10.3.9.90-py3-none-manylinux_2_27_x86_64.whl.metadata (1.7 kB)\n",
      "| Creating objects...\n",
      "└── 🔨 Created mount c:\\Users\\VyomBhatt\\Documents\\Github\\Personal\\llm-engineeri\n",
      "Collecting nvidia-cusolver-cu12==11.7.3.90 (from torch)\n",
      "  Downloading http://pypi-mirror.modal.local:5555/simple/nvidia-cusolver-cu12/nvidia_cusolver_cu12-11.7.3.90-py3-none-manylinux_2_27_x86_64.whl.metadata (1.8 kB)\n",
      "| Creating objects...\n",
      "└── 🔨 Created mount c:\\Users\\VyomBhatt\\Documents\\Github\\Personal\\llm-engineeri\n",
      "Collecting nvidia-cusparse-cu12==12.5.8.93 (from torch)\n",
      "  Downloading http://pypi-mirror.modal.local:5555/simple/nvidia-cusparse-cu12/nvidia_cusparse_cu12-12.5.8.93-py3-none-manylinux2014_x86_64.manylinux_2_17_x86_64.whl.metadata (1.8 kB)\n",
      "| Creating objects...\n",
      "└── 🔨 Created mount c:\\Users\\VyomBhatt\\Documents\\Github\\Personal\\llm-engineeri\n",
      "Collecting nvidia-cusparselt-cu12==0.7.1 (from torch)\n",
      "  Downloading http://pypi-mirror.modal.local:5555/simple/nvidia-cusparselt-cu12/nvidia_cusparselt_cu12-0.7.1-py3-none-manylinux2014_x86_64.whl.metadata (7.0 kB)\n",
      "| Creating objects...\n",
      "└── 🔨 Created mount c:\\Users\\VyomBhatt\\Documents\\Github\\Personal\\llm-engineeri\n",
      "| Creating objects...\n",
      "└── 🔨 Created mount \n",
      "    c:\\Users\\VyomBhatt\\Documents\\Github\\Personal\\llm-engineering\\8-agentic-ai-u\n",
      "    sing-llms-capstone\\pricer_service2.py\n",
      "Collecting nvidia-nccl-cu12==2.27.3 (from torch)\n",
      "| Creating objects...\n",
      "└── 🔨 Created mount c:\\Users\\VyomBhatt\\Documents\\Github\\Personal\\llm-engineeri\n",
      "  Downloading http://pypi-mirror.modal.local:5555/simple/nvidia-nccl-cu12/nvidia_nccl_cu12-2.27.3-py3-none-manylinux2014_x86_64.manylinux_2_17_x86_64.whl.metadata (2.0 kB)\n",
      "| Creating objects...\n",
      "└── 🔨 Created mount c:\\Users\\VyomBhatt\\Documents\\Github\\Personal\\llm-engineeri\n",
      "Collecting nvidia-nvtx-cu12==12.8.90 (from torch)\n",
      "  Downloading http://pypi-mirror.modal.local:5555/simple/nvidia-nvtx-cu12/nvidia_nvtx_cu12-12.8.90-py3-none-manylinux2014_x86_64.manylinux_2_17_x86_64.whl.metadata (1.8 kB)\n",
      "| Creating objects...\n",
      "└── 🔨 Created mount c:\\Users\\VyomBhatt\\Documents\\Github\\Personal\\llm-engineeri\n",
      "Collecting nvidia-nvjitlink-cu12==12.8.93 (from torch)\n",
      "  Downloading http://pypi-mirror.modal.local:5555/simple/nvidia-nvjitlink-cu12/nvidia_nvjitlink_cu12-12.8.93-py3-none-manylinux2010_x86_64.manylinux_2_12_x86_64.whl.metadata (1.7 kB)\n",
      "| Creating objects...\n",
      "└── 🔨 Created mount c:\\Users\\VyomBhatt\\Documents\\Github\\Personal\\llm-engineeri\n",
      "Collecting nvidia-cufile-cu12==1.13.1.3 (from torch)\n",
      "  Downloading http://pypi-mirror.modal.local:5555/simple/nvidia-cufile-cu12/nvidia_cufile_cu12-1.13.1.3-py3-none-manylinux2014_x86_64.manylinux_2_17_x86_64.whl.metadata (1.7 kB)\n",
      "| Creating objects...\n",
      "└── 🔨 Created mount c:\\Users\\VyomBhatt\\Documents\\Github\\Personal\\llm-engineeri\n",
      "Collecting triton==3.4.0 (from torch)\n",
      "  Downloading http://pypi-mirror.modal.local:5555/simple/triton/triton-3.4.0-cp311-cp311-manylinux_2_27_x86_64.manylinux_2_28_x86_64.whl.metadata (1.7 kB)\n",
      "| Creating objects...\n",
      "└── 🔨 Created mount c:\\Users\\VyomBhatt\\Documents\\Github\\Personal\\llm-engineeri\n",
      "Requirement already satisfied: setuptools>=40.8.0 in /usr/local/lib/python3.11/site-packages (from triton==3.4.0->torch) (65.5.1)\n",
      "| Creating objects...\n",
      "└── 🔨 Created mount c:\\Users\\VyomBhatt\\Documents\\Github\\Personal\\llm-engineeri\n",
      "- Creating objects...\n",
      "└── 🔨 Created mount \n",
      "    c:\\Users\\VyomBhatt\\Documents\\Github\\Personal\\llm-engineering\\8-agentic-ai-u\n",
      "    sing-llms-capstone\\pricer_service2.py\n",
      "| Creating objects...\n",
      "└── 🔨 Created mount \n",
      "    c:\\Users\\VyomBhatt\\Documents\\Github\\Personal\\llm-engineering\\8-agentic-ai-u\n",
      "    sing-llms-capstone\\pricer_service2.py\n",
      "Collecting regex!=2019.12.17 (from transformers)\n",
      "  Downloading http://pypi-mirror.modal.local:5555/simple/regex/regex-2025.7.34-cp311-cp311-manylinux2014_x86_64.manylinux_2_17_x86_64.manylinux_2_28_x86_64.whl.metadata (40 kB)\n",
      "/ Creating objects...\n",
      "└── 🔨 Created mount c:\\Users\\VyomBhatt\\Documents\\Github\\Personal\\llm-engineeri\n",
      "Collecting requests (from transformers)\n",
      "  Downloading http://pypi-mirror.modal.local:5555/simple/requests/requests-2.32.4-py3-none-any.whl.metadata (4.9 kB)\n",
      "/ Creating objects...\n",
      "└── 🔨 Created mount c:\\Users\\VyomBhatt\\Documents\\Github\\Personal\\llm-engineeri\n",
      "Collecting tokenizers<0.22,>=0.21 (from transformers)\n",
      "  Downloading http://pypi-mirror.modal.local:5555/simple/tokenizers/tokenizers-0.21.4-cp39-abi3-manylinux_2_17_x86_64.manylinux2014_x86_64.whl.metadata (6.7 kB)\n",
      "- Creating objects...\n",
      "└── 🔨 Created mount c:\\Users\\VyomBhatt\\Documents\\Github\\Personal\\llm-engineeri\n",
      "- Creating objects...\n",
      "└── 🔨 Created mount \n",
      "    c:\\Users\\VyomBhatt\\Documents\\Github\\Personal\\llm-engineering\\8-agentic-ai-u\n",
      "    sing-llms-capstone\\pricer_service2.py\n",
      "Collecting hf-xet<2.0.0,>=1.1.3 (from huggingface_hub>=0.21.0->accelerate)\n",
      "  Downloading http://pypi-mirror.modal.local:5555/simple/hf-xet/hf_xet-1.1.7-cp37-abi3-manylinux_2_17_x86_64.manylinux2014_x86_64.whl.metadata (703 bytes)\n",
      "\\ Creating objects...\n",
      "└── 🔨 Created mount c:\\Users\\VyomBhatt\\Documents\\Github\\Personal\\llm-engineeri\n",
      "Collecting mpmath<1.4,>=1.1.0 (from sympy>=1.13.3->torch)\n",
      "\\ Creating objects...\n",
      "└── 🔨 Created mount c:\\Users\\VyomBhatt\\Documents\\Github\\Personal\\llm-engineeri\n",
      "  Downloading http://pypi-mirror.modal.local:5555/simple/mpmath/mpmath-1.3.0-py3-none-any.whl.metadata (8.6 kB)\n",
      "\\ Creating objects...\n",
      "└── 🔨 Created mount c:\\Users\\VyomBhatt\\Documents\\Github\\Personal\\llm-engineeri\n",
      "Collecting MarkupSafe>=2.0 (from jinja2->torch)\n",
      "  Downloading http://pypi-mirror.modal.local:5555/simple/markupsafe/MarkupSafe-3.0.2-cp311-cp311-manylinux_2_17_x86_64.manylinux2014_x86_64.whl.metadata (4.0 kB)\n",
      "| Creating objects...\n",
      "└── 🔨 Created mount c:\\Users\\VyomBhatt\\Documents\\Github\\Personal\\llm-engineeri\n",
      "| Creating objects...\n",
      "└── 🔨 Created mount \n",
      "    c:\\Users\\VyomBhatt\\Documents\\Github\\Personal\\llm-engineering\\8-agentic-ai-u\n",
      "    sing-llms-capstone\\pricer_service2.py\n",
      "Collecting charset_normalizer<4,>=2 (from requests->transformers)\n",
      "  Downloading http://pypi-mirror.modal.local:5555/simple/charset-normalizer/charset_normalizer-3.4.3-cp311-cp311-manylinux2014_x86_64.manylinux_2_17_x86_64.manylinux_2_28_x86_64.whl.metadata (36 kB)\n",
      "/ Creating objects...\n",
      "└── 🔨 Created mount c:\\Users\\VyomBhatt\\Documents\\Github\\Personal\\llm-engineeri\n",
      "Requirement already satisfied: idna<4,>=2.5 in /usr/local/lib/python3.11/site-packages (from requests->transformers) (3.10)\n",
      "/ Creating objects...\n",
      "└── 🔨 Created mount c:\\Users\\VyomBhatt\\Documents\\Github\\Personal\\llm-engineeri\n",
      "Collecting urllib3<3,>=1.21.1 (from requests->transformers)\n",
      "/ Creating objects...\n",
      "└── 🔨 Created mount c:\\Users\\VyomBhatt\\Documents\\Github\\Personal\\llm-engineeri\n",
      "  Downloading http://pypi-mirror.modal.local:5555/simple/urllib3/urllib3-2.5.0-py3-none-any.whl.metadata (6.5 kB)\n",
      "/ Creating objects...\n",
      "└── 🔨 Created mount c:\\Users\\VyomBhatt\\Documents\\Github\\Personal\\llm-engineeri\n",
      "Requirement already satisfied: certifi>=2017.4.17 in /usr/local/lib/python3.11/site-packages (from requests->transformers) (2024.8.30)\n",
      "/ Creating objects...\n",
      "└── 🔨 Created mount c:\\Users\\VyomBhatt\\Documents\\Github\\Personal\\llm-engineeri\n",
      "Downloading http://pypi-mirror.modal.local:5555/simple/accelerate/accelerate-1.10.0-py3-none-any.whl (374 kB)\n",
      "Downloading http://pypi-mirror.modal.local:5555/simple/bitsandbytes/bitsandbytes-0.46.1-py3-none-manylinux_2_24_x86_64.whl (72.9 MB)\n",
      "- Creating objects...\n",
      "└── 🔨 Created mount c:\\Users\\VyomBhatt\\Documents\\Github\\Personal\\llm-engineeri\n",
      "- Creating objects...\n",
      "└── 🔨 Created mount \n",
      "    c:\\Users\\VyomBhatt\\Documents\\Github\\Personal\\llm-engineering\\8-agentic-ai-u\n",
      "    sing-llms-capstone\\pricer_service2.py\n",
      "   ━━━━━━━━━━━━━━━━━━━━━━━━━━━━━━━━━━━━━━━━ 72.9/72.9 MB 285.5 MB/s eta 0:00:00\n",
      "Downloading http://pypi-mirror.modal.local:5555/simple/huggingface/huggingface-0.0.1-py3-none-any.whl (2.5 kB)\n",
      "| Creating objects...\n",
      "└── 🔨 Created mount c:\\Users\\VyomBhatt\\Documents\\Github\\Personal\\llm-engineeri\n",
      "| Creating objects...\n",
      "└── 🔨 Created mount \n",
      "    c:\\Users\\VyomBhatt\\Documents\\Github\\Personal\\llm-engineering\\8-agentic-ai-u\n",
      "    sing-llms-capstone\\pricer_service2.py\n",
      "Downloading http://pypi-mirror.modal.local:5555/simple/peft/peft-0.17.0-py3-none-any.whl (503 kB)\n",
      "Downloading http://pypi-mirror.modal.local:5555/simple/torch/torch-2.8.0-cp311-cp311-manylinux_2_28_x86_64.whl (888.1 MB)\n",
      "| Creating objects...\n",
      "└── 🔨 Created mount c:\\Users\\VyomBhatt\\Documents\\Github\\Personal\\llm-engineeri\n",
      "- Creating objects...\n",
      "└── 🔨 Created mount \n",
      "    c:\\Users\\VyomBhatt\\Documents\\Github\\Personal\\llm-engineering\\8-agentic-ai-u\n",
      "    sing-llms-capstone\\pricer_service2.py\n",
      "| Creating objects...\n",
      "└── 🔨 Created mount \n",
      "    c:\\Users\\VyomBhatt\\Documents\\Github\\Personal\\llm-engineering\\8-agentic-ai-u\n",
      "    sing-llms-capstone\\pricer_service2.py\n",
      "- Creating objects...\n",
      "└── 🔨 Created mount \n",
      "    c:\\Users\\VyomBhatt\\Documents\\Github\\Personal\\llm-engineering\\8-agentic-ai-u\n",
      "    sing-llms-capstone\\pricer_service2.py\n",
      "| Creating objects...\n",
      "└── 🔨 Created mount \n",
      "    c:\\Users\\VyomBhatt\\Documents\\Github\\Personal\\llm-engineering\\8-agentic-ai-u\n",
      "    sing-llms-capstone\\pricer_service2.py\n",
      "- Creating objects...\n",
      "└── 🔨 Created mount \n",
      "    c:\\Users\\VyomBhatt\\Documents\\Github\\Personal\\llm-engineering\\8-agentic-ai-u\n",
      "    sing-llms-capstone\\pricer_service2.py\n",
      "| Creating objects...\n",
      "└── 🔨 Created mount \n",
      "    c:\\Users\\VyomBhatt\\Documents\\Github\\Personal\\llm-engineering\\8-agentic-ai-u\n",
      "    sing-llms-capstone\\pricer_service2.py\n",
      "- Creating objects...\n",
      "└── 🔨 Created mount \n",
      "    c:\\Users\\VyomBhatt\\Documents\\Github\\Personal\\llm-engineering\\8-agentic-ai-u\n",
      "    sing-llms-capstone\\pricer_service2.py\n",
      "| Creating objects...\n",
      "└── 🔨 Created mount \n",
      "    c:\\Users\\VyomBhatt\\Documents\\Github\\Personal\\llm-engineering\\8-agentic-ai-u\n",
      "    sing-llms-capstone\\pricer_service2.py\n",
      "- Creating objects...\n",
      "└── 🔨 Created mount \n",
      "    c:\\Users\\VyomBhatt\\Documents\\Github\\Personal\\llm-engineering\\8-agentic-ai-u\n",
      "    sing-llms-capstone\\pricer_service2.py\n",
      "| Creating objects...\n",
      "└── 🔨 Created mount \n",
      "    c:\\Users\\VyomBhatt\\Documents\\Github\\Personal\\llm-engineering\\8-agentic-ai-u\n",
      "    sing-llms-capstone\\pricer_service2.py\n",
      "- Creating objects...\n",
      "└── 🔨 Created mount \n",
      "    c:\\Users\\VyomBhatt\\Documents\\Github\\Personal\\llm-engineering\\8-agentic-ai-u\n",
      "    sing-llms-capstone\\pricer_service2.py\n",
      "| Creating objects...\n",
      "└── 🔨 Created mount \n",
      "    c:\\Users\\VyomBhatt\\Documents\\Github\\Personal\\llm-engineering\\8-agentic-ai-u\n",
      "    sing-llms-capstone\\pricer_service2.py\n",
      "   ━━━━━━━━━━━━━━━━━━━━━━━━━━━━━━━━━━━━━━━ 888.1/888.1 MB 300.2 MB/s eta 0:00:00\n",
      "Downloading http://pypi-mirror.modal.local:5555/simple/nvidia-cublas-cu12/nvidia_cublas_cu12-12.8.4.1-py3-none-manylinux_2_27_x86_64.whl (594.3 MB)\n",
      "/ Creating objects...\n",
      "└── 🔨 Created mount c:\\Users\\VyomBhatt\\Documents\\Github\\Personal\\llm-engineeri\n",
      "- Creating objects...\n",
      "└── 🔨 Created mount \n",
      "    c:\\Users\\VyomBhatt\\Documents\\Github\\Personal\\llm-engineering\\8-agentic-ai-u\n",
      "    sing-llms-capstone\\pricer_service2.py\n",
      "| Creating objects...\n",
      "└── 🔨 Created mount \n",
      "    c:\\Users\\VyomBhatt\\Documents\\Github\\Personal\\llm-engineering\\8-agentic-ai-u\n",
      "    sing-llms-capstone\\pricer_service2.py\n",
      "- Creating objects...\n",
      "└── 🔨 Created mount \n",
      "    c:\\Users\\VyomBhatt\\Documents\\Github\\Personal\\llm-engineering\\8-agentic-ai-u\n",
      "    sing-llms-capstone\\pricer_service2.py\n",
      "| Creating objects...\n",
      "└── 🔨 Created mount \n",
      "    c:\\Users\\VyomBhatt\\Documents\\Github\\Personal\\llm-engineering\\8-agentic-ai-u\n",
      "    sing-llms-capstone\\pricer_service2.py\n",
      "- Creating objects...\n",
      "└── 🔨 Created mount \n",
      "    c:\\Users\\VyomBhatt\\Documents\\Github\\Personal\\llm-engineering\\8-agentic-ai-u\n",
      "    sing-llms-capstone\\pricer_service2.py\n",
      "| Creating objects...\n",
      "└── 🔨 Created mount \n",
      "    c:\\Users\\VyomBhatt\\Documents\\Github\\Personal\\llm-engineering\\8-agentic-ai-u\n",
      "    sing-llms-capstone\\pricer_service2.py\n",
      "- Creating objects...\n",
      "└── 🔨 Created mount \n",
      "    c:\\Users\\VyomBhatt\\Documents\\Github\\Personal\\llm-engineering\\8-agentic-ai-u\n",
      "    sing-llms-capstone\\pricer_service2.py\n",
      "   ━━━━━━━━━━━━━━━━━━━━━━━━━━━━━━━━━━━━━━━ 594.3/594.3 MB 369.1 MB/s eta 0:00:00\n",
      "Downloading http://pypi-mirror.modal.local:5555/simple/nvidia-cuda-cupti-cu12/nvidia_cuda_cupti_cu12-12.8.90-py3-none-manylinux2014_x86_64.manylinux_2_17_x86_64.whl (10.2 MB)\n",
      "- Creating objects...\n",
      "└── 🔨 Created mount c:\\Users\\VyomBhatt\\Documents\\Github\\Personal\\llm-engineeri\n",
      "   ━━━━━━━━━━━━━━━━━━━━━━━━━━━━━━━━━━━━━━━━ 10.2/10.2 MB 285.2 MB/s eta 0:00:00\n",
      "Downloading http://pypi-mirror.modal.local:5555/simple/nvidia-cuda-nvrtc-cu12/nvidia_cuda_nvrtc_cu12-12.8.93-py3-none-manylinux2010_x86_64.manylinux_2_12_x86_64.whl (88.0 MB)\n",
      "| Creating objects...\n",
      "└── 🔨 Created mount c:\\Users\\VyomBhatt\\Documents\\Github\\Personal\\llm-engineeri\n",
      "| Creating objects...\n",
      "└── 🔨 Created mount \n",
      "    c:\\Users\\VyomBhatt\\Documents\\Github\\Personal\\llm-engineering\\8-agentic-ai-u\n",
      "    sing-llms-capstone\\pricer_service2.py\n",
      "   ━━━━━━━━━━━━━━━━━━━━━━━━━━━━━━━━━━━━━━━━ 88.0/88.0 MB 300.1 MB/s eta 0:00:00\n",
      "Downloading http://pypi-mirror.modal.local:5555/simple/nvidia-cuda-runtime-cu12/nvidia_cuda_runtime_cu12-12.8.90-py3-none-manylinux2014_x86_64.manylinux_2_17_x86_64.whl (954 kB)\n",
      "| Creating objects...\n",
      "└── 🔨 Created mount c:\\Users\\VyomBhatt\\Documents\\Github\\Personal\\llm-engineeri\n",
      "   ━━━━━━━━━━━━━━━━━━━━━━━━━━━━━━━━━━━━━━━ 954.8/954.8 kB 150.4 MB/s eta 0:00:00\n",
      "Downloading http://pypi-mirror.modal.local:5555/simple/nvidia-cudnn-cu12/nvidia_cudnn_cu12-9.10.2.21-py3-none-manylinux_2_27_x86_64.whl (706.8 MB)\n",
      "/ Creating objects...\n",
      "└── 🔨 Created mount c:\\Users\\VyomBhatt\\Documents\\Github\\Personal\\llm-engineeri\n",
      "- Creating objects...\n",
      "└── 🔨 Created mount \n",
      "    c:\\Users\\VyomBhatt\\Documents\\Github\\Personal\\llm-engineering\\8-agentic-ai-u\n",
      "    sing-llms-capstone\\pricer_service2.py\n",
      "| Creating objects...\n",
      "└── 🔨 Created mount \n",
      "    c:\\Users\\VyomBhatt\\Documents\\Github\\Personal\\llm-engineering\\8-agentic-ai-u\n",
      "    sing-llms-capstone\\pricer_service2.py\n",
      "- Creating objects...\n",
      "└── 🔨 Created mount \n",
      "    c:\\Users\\VyomBhatt\\Documents\\Github\\Personal\\llm-engineering\\8-agentic-ai-u\n",
      "    sing-llms-capstone\\pricer_service2.py\n",
      "| Creating objects...\n",
      "└── 🔨 Created mount \n",
      "    c:\\Users\\VyomBhatt\\Documents\\Github\\Personal\\llm-engineering\\8-agentic-ai-u\n",
      "    sing-llms-capstone\\pricer_service2.py\n",
      "- Creating objects...\n",
      "└── 🔨 Created mount \n",
      "    c:\\Users\\VyomBhatt\\Documents\\Github\\Personal\\llm-engineering\\8-agentic-ai-u\n",
      "    sing-llms-capstone\\pricer_service2.py\n",
      "| Creating objects...\n",
      "└── 🔨 Created mount \n",
      "    c:\\Users\\VyomBhatt\\Documents\\Github\\Personal\\llm-engineering\\8-agentic-ai-u\n",
      "    sing-llms-capstone\\pricer_service2.py\n",
      "\\ Creating objects...\n",
      "└── 🔨 Created mount \n",
      "    c:\\Users\\VyomBhatt\\Documents\\Github\\Personal\\llm-engineering\\8-agentic-ai-u\n",
      "    sing-llms-capstone\\pricer_service2.py\n",
      "| Creating objects...\n",
      "└── 🔨 Created mount \n",
      "    c:\\Users\\VyomBhatt\\Documents\\Github\\Personal\\llm-engineering\\8-agentic-ai-u\n",
      "    sing-llms-capstone\\pricer_service2.py\n",
      "- Creating objects...\n",
      "└── 🔨 Created mount \n",
      "    c:\\Users\\VyomBhatt\\Documents\\Github\\Personal\\llm-engineering\\8-agentic-ai-u\n",
      "    sing-llms-capstone\\pricer_service2.py\n",
      "/ Creating objects...\n",
      "└── 🔨 Created mount \n",
      "    c:\\Users\\VyomBhatt\\Documents\\Github\\Personal\\llm-engineering\\8-agentic-ai-u\n",
      "    sing-llms-capstone\\pricer_service2.py\n",
      "\\ Creating objects...\n",
      "└── 🔨 Created mount \n",
      "    c:\\Users\\VyomBhatt\\Documents\\Github\\Personal\\llm-engineering\\8-agentic-ai-u\n",
      "    sing-llms-capstone\\pricer_service2.py\n",
      "   ━━━━━━━━━━━━━━━━━━━━━━━━━━━━━━━━━━━━━━━ 706.8/706.8 MB 218.6 MB/s eta 0:00:00\n",
      "Downloading http://pypi-mirror.modal.local:5555/simple/nvidia-cufft-cu12/nvidia_cufft_cu12-11.3.3.83-py3-none-manylinux2014_x86_64.manylinux_2_17_x86_64.whl (193.1 MB)\n",
      "| Creating objects...\n",
      "└── 🔨 Created mount c:\\Users\\VyomBhatt\\Documents\\Github\\Personal\\llm-engineeri\n",
      "| Creating objects...\n",
      "└── 🔨 Created mount \n",
      "    c:\\Users\\VyomBhatt\\Documents\\Github\\Personal\\llm-engineering\\8-agentic-ai-u\n",
      "    sing-llms-capstone\\pricer_service2.py\n",
      "\\ Creating objects...\n",
      "└── 🔨 Created mount \n",
      "    c:\\Users\\VyomBhatt\\Documents\\Github\\Personal\\llm-engineering\\8-agentic-ai-u\n",
      "    sing-llms-capstone\\pricer_service2.py\n",
      "   ━━━━━━━━━━━━━━━━━━━━━━━━━━━━━━━━━━━━━━━ 193.1/193.1 MB 290.0 MB/s eta 0:00:00\n",
      "Downloading http://pypi-mirror.modal.local:5555/simple/nvidia-cufile-cu12/nvidia_cufile_cu12-1.13.1.3-py3-none-manylinux2014_x86_64.manylinux_2_17_x86_64.whl (1.2 MB)\n",
      "| Creating objects...\n",
      "└── 🔨 Created mount c:\\Users\\VyomBhatt\\Documents\\Github\\Personal\\llm-engineeri\n",
      "/ Creating objects...\n",
      "└── 🔨 Created mount \n",
      "    c:\\Users\\VyomBhatt\\Documents\\Github\\Personal\\llm-engineering\\8-agentic-ai-u\n",
      "    sing-llms-capstone\\pricer_service2.py\n",
      "   ━━━━━━━━━━━━━━━━━━━━━━━━━━━━━━━━━━━━━━━━ 1.2/1.2 MB 1.0 GB/s eta 0:00:00\n",
      "Downloading http://pypi-mirror.modal.local:5555/simple/nvidia-curand-cu12/nvidia_curand_cu12-10.3.9.90-py3-none-manylinux_2_27_x86_64.whl (63.6 MB)\n",
      "/ Creating objects...\n",
      "└── 🔨 Created mount c:\\Users\\VyomBhatt\\Documents\\Github\\Personal\\llm-engineeri\n",
      "   ━━━━━━━━━━━━━━━━━━━━━━━━━━━━━━━━━━━━━━━━ 63.6/63.6 MB 400.0 MB/s eta 0:00:00\n",
      "Downloading http://pypi-mirror.modal.local:5555/simple/nvidia-cusolver-cu12/nvidia_cusolver_cu12-11.7.3.90-py3-none-manylinux_2_27_x86_64.whl (267.5 MB)\n",
      "- Creating objects...\n",
      "└── 🔨 Created mount c:\\Users\\VyomBhatt\\Documents\\Github\\Personal\\llm-engineeri\n",
      "\\ Creating objects...\n",
      "└── 🔨 Created mount \n",
      "    c:\\Users\\VyomBhatt\\Documents\\Github\\Personal\\llm-engineering\\8-agentic-ai-u\n",
      "    sing-llms-capstone\\pricer_service2.py\n",
      "/ Creating objects...\n",
      "└── 🔨 Created mount \n",
      "    c:\\Users\\VyomBhatt\\Documents\\Github\\Personal\\llm-engineering\\8-agentic-ai-u\n",
      "    sing-llms-capstone\\pricer_service2.py\n",
      "\\ Creating objects...\n",
      "└── 🔨 Created mount \n",
      "    c:\\Users\\VyomBhatt\\Documents\\Github\\Personal\\llm-engineering\\8-agentic-ai-u\n",
      "    sing-llms-capstone\\pricer_service2.py\n",
      "/ Creating objects...\n",
      "└── 🔨 Created mount \n",
      "    c:\\Users\\VyomBhatt\\Documents\\Github\\Personal\\llm-engineering\\8-agentic-ai-u\n",
      "    sing-llms-capstone\\pricer_service2.py\n",
      "   ━━━━━━━━━━━━━━━━━━━━━━━━━━━━━━━━━━━━━━━ 267.5/267.5 MB 368.6 MB/s eta 0:00:00\n",
      "Downloading http://pypi-mirror.modal.local:5555/simple/nvidia-cusparse-cu12/nvidia_cusparse_cu12-12.5.8.93-py3-none-manylinux2014_x86_64.manylinux_2_17_x86_64.whl (288.2 MB)\n",
      "/ Creating objects...\n",
      "└── 🔨 Created mount c:\\Users\\VyomBhatt\\Documents\\Github\\Personal\\llm-engineeri\n",
      "\\ Creating objects...\n",
      "└── 🔨 Created mount \n",
      "    c:\\Users\\VyomBhatt\\Documents\\Github\\Personal\\llm-engineering\\8-agentic-ai-u\n",
      "    sing-llms-capstone\\pricer_service2.py\n",
      "/ Creating objects...\n",
      "└── 🔨 Created mount \n",
      "    c:\\Users\\VyomBhatt\\Documents\\Github\\Personal\\llm-engineering\\8-agentic-ai-u\n",
      "    sing-llms-capstone\\pricer_service2.py\n",
      "   ━━━━━━━━━━━━━━━━━━━━━━━━━━━━━━━━━━━━━━━ 288.2/288.2 MB 391.7 MB/s eta 0:00:00\n",
      "Downloading http://pypi-mirror.modal.local:5555/simple/nvidia-cusparselt-cu12/nvidia_cusparselt_cu12-0.7.1-py3-none-manylinux2014_x86_64.whl (287.2 MB)\n",
      "- Creating objects...\n",
      "└── 🔨 Created mount c:\\Users\\VyomBhatt\\Documents\\Github\\Personal\\llm-engineeri\n",
      "\\ Creating objects...\n",
      "└── 🔨 Created mount \n",
      "    c:\\Users\\VyomBhatt\\Documents\\Github\\Personal\\llm-engineering\\8-agentic-ai-u\n",
      "    sing-llms-capstone\\pricer_service2.py\n",
      "/ Creating objects...\n",
      "└── 🔨 Created mount \n",
      "    c:\\Users\\VyomBhatt\\Documents\\Github\\Personal\\llm-engineering\\8-agentic-ai-u\n",
      "    sing-llms-capstone\\pricer_service2.py\n",
      "\\ Creating objects...\n",
      "└── 🔨 Created mount \n",
      "    c:\\Users\\VyomBhatt\\Documents\\Github\\Personal\\llm-engineering\\8-agentic-ai-u\n",
      "    sing-llms-capstone\\pricer_service2.py\n",
      "   ━━━━━━━━━━━━━━━━━━━━━━━━━━━━━━━━━━━━━━━ 287.2/287.2 MB 370.6 MB/s eta 0:00:00\n",
      "Downloading http://pypi-mirror.modal.local:5555/simple/nvidia-nccl-cu12/nvidia_nccl_cu12-2.27.3-py3-none-manylinux2014_x86_64.manylinux_2_17_x86_64.whl (322.4 MB)\n",
      "\\ Creating objects...\n",
      "└── 🔨 Created mount c:\\Users\\VyomBhatt\\Documents\\Github\\Personal\\llm-engineeri\n",
      "/ Creating objects...\n",
      "└── 🔨 Created mount \n",
      "    c:\\Users\\VyomBhatt\\Documents\\Github\\Personal\\llm-engineering\\8-agentic-ai-u\n",
      "    sing-llms-capstone\\pricer_service2.py\n",
      "\\ Creating objects...\n",
      "└── 🔨 Created mount \n",
      "    c:\\Users\\VyomBhatt\\Documents\\Github\\Personal\\llm-engineering\\8-agentic-ai-u\n",
      "    sing-llms-capstone\\pricer_service2.py\n",
      "/ Creating objects...\n",
      "└── 🔨 Created mount \n",
      "    c:\\Users\\VyomBhatt\\Documents\\Github\\Personal\\llm-engineering\\8-agentic-ai-u\n",
      "    sing-llms-capstone\\pricer_service2.py\n",
      "\\ Creating objects...\n",
      "└── 🔨 Created mount \n",
      "    c:\\Users\\VyomBhatt\\Documents\\Github\\Personal\\llm-engineering\\8-agentic-ai-u\n",
      "    sing-llms-capstone\\pricer_service2.py\n",
      "   ━━━━━━━━━━━━━━━━━━━━━━━━━━━━━━━━━━━━━━━ 322.4/322.4 MB 267.7 MB/s eta 0:00:00\n",
      "Downloading http://pypi-mirror.modal.local:5555/simple/nvidia-nvjitlink-cu12/nvidia_nvjitlink_cu12-12.8.93-py3-none-manylinux2010_x86_64.manylinux_2_12_x86_64.whl (39.3 MB)\n",
      "/ Creating objects...\n",
      "└── 🔨 Created mount c:\\Users\\VyomBhatt\\Documents\\Github\\Personal\\llm-engineeri\n",
      "/ Creating objects...\n",
      "└── 🔨 Created mount \n",
      "    c:\\Users\\VyomBhatt\\Documents\\Github\\Personal\\llm-engineering\\8-agentic-ai-u\n",
      "    sing-llms-capstone\\pricer_service2.py\n",
      "   ━━━━━━━━━━━━━━━━━━━━━━━━━━━━━━━━━━━━━━━━ 39.3/39.3 MB 263.0 MB/s eta 0:00:00\n",
      "Downloading http://pypi-mirror.modal.local:5555/simple/nvidia-nvtx-cu12/nvidia_nvtx_cu12-12.8.90-py3-none-manylinux2014_x86_64.manylinux_2_17_x86_64.whl (89 kB)\n",
      "/ Creating objects...\n",
      "└── 🔨 Created mount c:\\Users\\VyomBhatt\\Documents\\Github\\Personal\\llm-engineeri\n",
      "Downloading http://pypi-mirror.modal.local:5555/simple/triton/triton-3.4.0-cp311-cp311-manylinux_2_27_x86_64.manylinux_2_28_x86_64.whl (155.5 MB)\n",
      "- Creating objects...\n",
      "└── 🔨 Created mount c:\\Users\\VyomBhatt\\Documents\\Github\\Personal\\llm-engineeri\n",
      "\\ Creating objects...\n",
      "└── 🔨 Created mount \n",
      "    c:\\Users\\VyomBhatt\\Documents\\Github\\Personal\\llm-engineering\\8-agentic-ai-u\n",
      "    sing-llms-capstone\\pricer_service2.py\n",
      "/ Creating objects...\n",
      "└── 🔨 Created mount \n",
      "    c:\\Users\\VyomBhatt\\Documents\\Github\\Personal\\llm-engineering\\8-agentic-ai-u\n",
      "    sing-llms-capstone\\pricer_service2.py\n",
      "   ━━━━━━━━━━━━━━━━━━━━━━━━━━━━━━━━━━━━━━━ 155.5/155.5 MB 294.7 MB/s eta 0:00:00\n",
      "Downloading http://pypi-mirror.modal.local:5555/simple/transformers/transformers-4.55.0-py3-none-any.whl (11.3 MB)\n",
      "/ Creating objects...\n",
      "└── 🔨 Created mount c:\\Users\\VyomBhatt\\Documents\\Github\\Personal\\llm-engineeri\n",
      "   ━━━━━━━━━━━━━━━━━━━━━━━━━━━━━━━━━━━━━━━━ 11.3/11.3 MB 200.2 MB/s eta 0:00:00\n",
      "Downloading http://pypi-mirror.modal.local:5555/simple/huggingface-hub/huggingface_hub-0.34.4-py3-none-any.whl (561 kB)\n",
      "- Creating objects...\n",
      "└── 🔨 Created mount c:\\Users\\VyomBhatt\\Documents\\Github\\Personal\\llm-engineeri\n",
      "   ━━━━━━━━━━━━━━━━━━━━━━━━━━━━━━━━━━━━━━━ 561.5/561.5 kB 358.2 MB/s eta 0:00:00\n",
      "- Creating objects...\n",
      "└── 🔨 Created mount c:\\Users\\VyomBhatt\\Documents\\Github\\Personal\\llm-engineeri\n",
      "Downloading http://pypi-mirror.modal.local:5555/simple/fsspec/fsspec-2025.7.0-py3-none-any.whl (199 kB)\n",
      "Downloading http://pypi-mirror.modal.local:5555/simple/numpy/numpy-2.3.2-cp311-cp311-manylinux_2_27_x86_64.manylinux_2_28_x86_64.whl (16.9 MB)\n",
      "- Creating objects...\n",
      "└── 🔨 Created mount c:\\Users\\VyomBhatt\\Documents\\Github\\Personal\\llm-engineeri\n",
      "   ━━━━━━━━━━━━━━━━━━━━━━━━━━━━━━━━━━━━━━━━ 16.9/16.9 MB 183.8 MB/s eta 0:00:00\n",
      "Downloading http://pypi-mirror.modal.local:5555/simple/packaging/packaging-25.0-py3-none-any.whl (66 kB)\n",
      "Downloading http://pypi-mirror.modal.local:5555/simple/pyyaml/PyYAML-6.0.2-cp311-cp311-manylinux_2_17_x86_64.manylinux2014_x86_64.whl (762 kB)\n",
      "\\ Creating objects...\n",
      "└── 🔨 Created mount c:\\Users\\VyomBhatt\\Documents\\Github\\Personal\\llm-engineeri\n",
      "\\ Creating objects...\n",
      "└── 🔨 Created mount \n",
      "    c:\\Users\\VyomBhatt\\Documents\\Github\\Personal\\llm-engineering\\8-agentic-ai-u\n",
      "    sing-llms-capstone\\pricer_service2.py\n",
      "   ━━━━━━━━━━━━━━━━━━━━━━━━━━━━━━━━━━━━━━━ 763.0/763.0 kB 148.2 MB/s eta 0:00:00\n",
      "Downloading http://pypi-mirror.modal.local:5555/simple/regex/regex-2025.7.34-cp311-cp311-manylinux2014_x86_64.manylinux_2_17_x86_64.manylinux_2_28_x86_64.whl (798 kB)\n",
      "\\ Creating objects...\n",
      "└── 🔨 Created mount c:\\Users\\VyomBhatt\\Documents\\Github\\Personal\\llm-engineeri\n",
      "   ━━━━━━━━━━━━━━━━━━━━━━━━━━━━━━━━━━━━━━━ 798.9/798.9 kB 207.4 MB/s eta 0:00:00\n",
      "Downloading http://pypi-mirror.modal.local:5555/simple/safetensors/safetensors-0.6.2-cp38-abi3-manylinux_2_17_x86_64.manylinux2014_x86_64.whl (485 kB)\n",
      "Downloading http://pypi-mirror.modal.local:5555/simple/sympy/sympy-1.14.0-py3-none-any.whl (6.3 MB)\n",
      "\\ Creating objects...\n",
      "└── 🔨 Created mount c:\\Users\\VyomBhatt\\Documents\\Github\\Personal\\llm-engineeri\n",
      "   ━━━━━━━━━━━━━━━━━━━━━━━━━━━━━━━━━━━━━━━━ 6.3/6.3 MB 259.6 MB/s eta 0:00:00\n",
      "Downloading http://pypi-mirror.modal.local:5555/simple/tokenizers/tokenizers-0.21.4-cp39-abi3-manylinux_2_17_x86_64.manylinux2014_x86_64.whl (3.1 MB)\n",
      "\\ Creating objects...\n",
      "└── 🔨 Created mount c:\\Users\\VyomBhatt\\Documents\\Github\\Personal\\llm-engineeri\n",
      "   ━━━━━━━━━━━━━━━━━━━━━━━━━━━━━━━━━━━━━━━━ 3.1/3.1 MB 340.0 MB/s eta 0:00:00\n",
      "Downloading http://pypi-mirror.modal.local:5555/simple/tqdm/tqdm-4.67.1-py3-none-any.whl (78 kB)\n",
      "Downloading http://pypi-mirror.modal.local:5555/simple/filelock/filelock-3.18.0-py3-none-any.whl (16 kB)\n",
      "| Creating objects...\n",
      "└── 🔨 Created mount c:\\Users\\VyomBhatt\\Documents\\Github\\Personal\\llm-engineeri\n",
      "Downloading http://pypi-mirror.modal.local:5555/simple/jinja2/jinja2-3.1.6-py3-none-any.whl (134 kB)\n",
      "Downloading http://pypi-mirror.modal.local:5555/simple/networkx/networkx-3.5-py3-none-any.whl (2.0 MB)\n",
      "| Creating objects...\n",
      "└── 🔨 Created mount c:\\Users\\VyomBhatt\\Documents\\Github\\Personal\\llm-engineeri\n",
      "   ━━━━━━━━━━━━━━━━━━━━━━━━━━━━━━━━━━━━━━━━ 2.0/2.0 MB 477.4 MB/s eta 0:00:00\n",
      "Downloading http://pypi-mirror.modal.local:5555/simple/psutil/psutil-7.0.0-cp36-abi3-manylinux_2_12_x86_64.manylinux2010_x86_64.manylinux_2_17_x86_64.manylinux2014_x86_64.whl (277 kB)\n",
      "Downloading http://pypi-mirror.modal.local:5555/simple/requests/requests-2.32.4-py3-none-any.whl (64 kB)\n",
      "| Creating objects...\n",
      "└── 🔨 Created mount c:\\Users\\VyomBhatt\\Documents\\Github\\Personal\\llm-engineeri\n",
      "Downloading http://pypi-mirror.modal.local:5555/simple/charset-normalizer/charset_normalizer-3.4.3-cp311-cp311-manylinux2014_x86_64.manylinux_2_17_x86_64.manylinux_2_28_x86_64.whl (150 kB)\n",
      "Downloading http://pypi-mirror.modal.local:5555/simple/hf-xet/hf_xet-1.1.7-cp37-abi3-manylinux_2_17_x86_64.manylinux2014_x86_64.whl (3.2 MB)\n",
      "| Creating objects...\n",
      "└── 🔨 Created mount c:\\Users\\VyomBhatt\\Documents\\Github\\Personal\\llm-engineeri\n",
      "   ━━━━━━━━━━━━━━━━━━━━━━━━━━━━━━━━━━━━━━━━ 3.2/3.2 MB 149.1 MB/s eta 0:00:00\n",
      "Downloading http://pypi-mirror.modal.local:5555/simple/markupsafe/MarkupSafe-3.0.2-cp311-cp311-manylinux_2_17_x86_64.manylinux2014_x86_64.whl (23 kB)\n",
      "| Creating objects...\n",
      "└── 🔨 Created mount c:\\Users\\VyomBhatt\\Documents\\Github\\Personal\\llm-engineeri\n",
      "Downloading http://pypi-mirror.modal.local:5555/simple/mpmath/mpmath-1.3.0-py3-none-any.whl (536 kB)\n",
      "| Creating objects...\n",
      "└── 🔨 Created mount c:\\Users\\VyomBhatt\\Documents\\Github\\Personal\\llm-engineeri\n",
      "   ━━━━━━━━━━━━━━━━━━━━━━━━━━━━━━━━━━━━━━━━ 536.2/536.2 kB 12.7 MB/s eta 0:00:00\n",
      "Downloading http://pypi-mirror.modal.local:5555/simple/urllib3/urllib3-2.5.0-py3-none-any.whl (129 kB)\n",
      "| Creating objects...\n",
      "└── 🔨 Created mount c:\\Users\\VyomBhatt\\Documents\\Github\\Personal\\llm-engineeri\n",
      "/ Creating objects...\n",
      "└── 🔨 Created mount \n",
      "    c:\\Users\\VyomBhatt\\Documents\\Github\\Personal\\llm-engineering\\8-agentic-ai-u\n",
      "    sing-llms-capstone\\pricer_service2.py\n",
      "\\ Creating objects...\n",
      "└── 🔨 Created mount \n",
      "    c:\\Users\\VyomBhatt\\Documents\\Github\\Personal\\llm-engineering\\8-agentic-ai-u\n",
      "    sing-llms-capstone\\pricer_service2.py\n",
      "/ Creating objects...\n",
      "└── 🔨 Created mount \n",
      "    c:\\Users\\VyomBhatt\\Documents\\Github\\Personal\\llm-engineering\\8-agentic-ai-u\n",
      "    sing-llms-capstone\\pricer_service2.py\n",
      "\\ Creating objects...\n",
      "└── 🔨 Created mount \n",
      "    c:\\Users\\VyomBhatt\\Documents\\Github\\Personal\\llm-engineering\\8-agentic-ai-u\n",
      "    sing-llms-capstone\\pricer_service2.py\n",
      "/ Creating objects...\n",
      "└── 🔨 Created mount \n",
      "    c:\\Users\\VyomBhatt\\Documents\\Github\\Personal\\llm-engineering\\8-agentic-ai-u\n",
      "    sing-llms-capstone\\pricer_service2.py\n",
      "\\ Creating objects...\n",
      "└── 🔨 Created mount \n",
      "    c:\\Users\\VyomBhatt\\Documents\\Github\\Personal\\llm-engineering\\8-agentic-ai-u\n",
      "    sing-llms-capstone\\pricer_service2.py\n",
      "/ Creating objects...\n",
      "└── 🔨 Created mount \n",
      "    c:\\Users\\VyomBhatt\\Documents\\Github\\Personal\\llm-engineering\\8-agentic-ai-u\n",
      "    sing-llms-capstone\\pricer_service2.py\n",
      "\\ Creating objects...\n",
      "└── 🔨 Created mount \n",
      "    c:\\Users\\VyomBhatt\\Documents\\Github\\Personal\\llm-engineering\\8-agentic-ai-u\n",
      "    sing-llms-capstone\\pricer_service2.py\n",
      "/ Creating objects...\n",
      "└── 🔨 Created mount \n",
      "    c:\\Users\\VyomBhatt\\Documents\\Github\\Personal\\llm-engineering\\8-agentic-ai-u\n",
      "    sing-llms-capstone\\pricer_service2.py\n",
      "\\ Creating objects...\n",
      "└── 🔨 Created mount \n",
      "    c:\\Users\\VyomBhatt\\Documents\\Github\\Personal\\llm-engineering\\8-agentic-ai-u\n",
      "    sing-llms-capstone\\pricer_service2.py\n",
      "/ Creating objects...\n",
      "└── 🔨 Created mount \n",
      "    c:\\Users\\VyomBhatt\\Documents\\Github\\Personal\\llm-engineering\\8-agentic-ai-u\n",
      "    sing-llms-capstone\\pricer_service2.py\n",
      "\\ Creating objects...\n",
      "└── 🔨 Created mount \n",
      "    c:\\Users\\VyomBhatt\\Documents\\Github\\Personal\\llm-engineering\\8-agentic-ai-u\n",
      "    sing-llms-capstone\\pricer_service2.py\n",
      "/ Creating objects...\n",
      "└── 🔨 Created mount \n",
      "    c:\\Users\\VyomBhatt\\Documents\\Github\\Personal\\llm-engineering\\8-agentic-ai-u\n",
      "    sing-llms-capstone\\pricer_service2.py\n",
      "\\ Creating objects...\n",
      "└── 🔨 Created mount \n",
      "    c:\\Users\\VyomBhatt\\Documents\\Github\\Personal\\llm-engineering\\8-agentic-ai-u\n",
      "    sing-llms-capstone\\pricer_service2.py\n",
      "/ Creating objects...\n",
      "└── 🔨 Created mount \n",
      "    c:\\Users\\VyomBhatt\\Documents\\Github\\Personal\\llm-engineering\\8-agentic-ai-u\n",
      "    sing-llms-capstone\\pricer_service2.py\n",
      "\\ Creating objects...\n",
      "└── 🔨 Created mount \n",
      "    c:\\Users\\VyomBhatt\\Documents\\Github\\Personal\\llm-engineering\\8-agentic-ai-u\n",
      "    sing-llms-capstone\\pricer_service2.py\n",
      "/ Creating objects...\n",
      "└── 🔨 Created mount \n",
      "    c:\\Users\\VyomBhatt\\Documents\\Github\\Personal\\llm-engineering\\8-agentic-ai-u\n",
      "    sing-llms-capstone\\pricer_service2.py\n",
      "\\ Creating objects...\n",
      "└── 🔨 Created mount \n",
      "    c:\\Users\\VyomBhatt\\Documents\\Github\\Personal\\llm-engineering\\8-agentic-ai-u\n",
      "    sing-llms-capstone\\pricer_service2.py\n",
      "Installing collected packages: nvidia-cusparselt-cu12, mpmath, huggingface, urllib3, triton, tqdm, sympy, safetensors, regex, pyyaml, psutil, packaging, nvidia-nvtx-cu12, nvidia-nvjitlink-cu12, nvidia-nccl-cu12, nvidia-curand-cu12, nvidia-cufile-cu12, nvidia-cuda-runtime-cu12, nvidia-cuda-nvrtc-cu12, nvidia-cuda-cupti-cu12, nvidia-cublas-cu12, numpy, networkx, MarkupSafe, hf-xet, fsspec, filelock, charset_normalizer, requests, nvidia-cusparse-cu12, nvidia-cufft-cu12, nvidia-cudnn-cu12, jinja2, nvidia-cusolver-cu12, huggingface_hub, torch, tokenizers, transformers, bitsandbytes, accelerate, peft\n",
      "| Creating objects...\n",
      "└── 🔨 Created mount c:\\Users\\VyomBhatt\\Documents\\Github\\Personal\\llm-engineeri\n",
      "/ Creating objects...\n",
      "└── 🔨 Created mount \n",
      "    c:\\Users\\VyomBhatt\\Documents\\Github\\Personal\\llm-engineering\\8-agentic-ai-u\n",
      "    sing-llms-capstone\\pricer_service2.py\n",
      "\\ Creating objects...\n",
      "└── 🔨 Created mount \n",
      "    c:\\Users\\VyomBhatt\\Documents\\Github\\Personal\\llm-engineering\\8-agentic-ai-u\n",
      "    sing-llms-capstone\\pricer_service2.py\n",
      "/ Creating objects...\n",
      "└── 🔨 Created mount \n",
      "    c:\\Users\\VyomBhatt\\Documents\\Github\\Personal\\llm-engineering\\8-agentic-ai-u\n",
      "    sing-llms-capstone\\pricer_service2.py\n",
      "\\ Creating objects...\n",
      "└── 🔨 Created mount \n",
      "    c:\\Users\\VyomBhatt\\Documents\\Github\\Personal\\llm-engineering\\8-agentic-ai-u\n",
      "    sing-llms-capstone\\pricer_service2.py\n",
      "/ Creating objects...\n",
      "└── 🔨 Created mount \n",
      "    c:\\Users\\VyomBhatt\\Documents\\Github\\Personal\\llm-engineering\\8-agentic-ai-u\n",
      "    sing-llms-capstone\\pricer_service2.py\n",
      "\\ Creating objects...\n",
      "└── 🔨 Created mount \n",
      "    c:\\Users\\VyomBhatt\\Documents\\Github\\Personal\\llm-engineering\\8-agentic-ai-u\n",
      "    sing-llms-capstone\\pricer_service2.py\n",
      "/ Creating objects...\n",
      "└── 🔨 Created mount \n",
      "    c:\\Users\\VyomBhatt\\Documents\\Github\\Personal\\llm-engineering\\8-agentic-ai-u\n",
      "    sing-llms-capstone\\pricer_service2.py\n",
      "\\ Creating objects...\n",
      "└── 🔨 Created mount \n",
      "    c:\\Users\\VyomBhatt\\Documents\\Github\\Personal\\llm-engineering\\8-agentic-ai-u\n",
      "    sing-llms-capstone\\pricer_service2.py\n",
      "/ Creating objects...\n",
      "└── 🔨 Created mount \n",
      "    c:\\Users\\VyomBhatt\\Documents\\Github\\Personal\\llm-engineering\\8-agentic-ai-u\n",
      "    sing-llms-capstone\\pricer_service2.py\n",
      "\\ Creating objects...\n",
      "└── 🔨 Created mount \n",
      "    c:\\Users\\VyomBhatt\\Documents\\Github\\Personal\\llm-engineering\\8-agentic-ai-u\n",
      "    sing-llms-capstone\\pricer_service2.py\n",
      "/ Creating objects...\n",
      "└── 🔨 Created mount \n",
      "    c:\\Users\\VyomBhatt\\Documents\\Github\\Personal\\llm-engineering\\8-agentic-ai-u\n",
      "    sing-llms-capstone\\pricer_service2.py\n",
      "| Creating objects...\n",
      "└── 🔨 Created mount \n",
      "    c:\\Users\\VyomBhatt\\Documents\\Github\\Personal\\llm-engineering\\8-agentic-ai-u\n",
      "    sing-llms-capstone\\pricer_service2.py\n",
      "/ Creating objects...\n",
      "└── 🔨 Created mount \n",
      "    c:\\Users\\VyomBhatt\\Documents\\Github\\Personal\\llm-engineering\\8-agentic-ai-u\n",
      "    sing-llms-capstone\\pricer_service2.py\n",
      "\\ Creating objects...\n",
      "└── 🔨 Created mount \n",
      "    c:\\Users\\VyomBhatt\\Documents\\Github\\Personal\\llm-engineering\\8-agentic-ai-u\n",
      "    sing-llms-capstone\\pricer_service2.py\n",
      "- Creating objects...\n",
      "└── 🔨 Created mount \n",
      "    c:\\Users\\VyomBhatt\\Documents\\Github\\Personal\\llm-engineering\\8-agentic-ai-u\n",
      "    sing-llms-capstone\\pricer_service2.py\n",
      "\\ Creating objects...\n",
      "└── 🔨 Created mount \n",
      "    c:\\Users\\VyomBhatt\\Documents\\Github\\Personal\\llm-engineering\\8-agentic-ai-u\n",
      "    sing-llms-capstone\\pricer_service2.py\n",
      "- Creating objects...\n",
      "└── 🔨 Created mount \n",
      "    c:\\Users\\VyomBhatt\\Documents\\Github\\Personal\\llm-engineering\\8-agentic-ai-u\n",
      "    sing-llms-capstone\\pricer_service2.py\n",
      "| Creating objects...\n",
      "└── 🔨 Created mount \n",
      "    c:\\Users\\VyomBhatt\\Documents\\Github\\Personal\\llm-engineering\\8-agentic-ai-u\n",
      "    sing-llms-capstone\\pricer_service2.py\n",
      "- Creating objects...\n",
      "└── 🔨 Created mount \n",
      "    c:\\Users\\VyomBhatt\\Documents\\Github\\Personal\\llm-engineering\\8-agentic-ai-u\n",
      "    sing-llms-capstone\\pricer_service2.py\n",
      "| Creating objects...\n",
      "└── 🔨 Created mount \n",
      "    c:\\Users\\VyomBhatt\\Documents\\Github\\Personal\\llm-engineering\\8-agentic-ai-u\n",
      "    sing-llms-capstone\\pricer_service2.py\n",
      "- Creating objects...\n",
      "└── 🔨 Created mount \n",
      "    c:\\Users\\VyomBhatt\\Documents\\Github\\Personal\\llm-engineering\\8-agentic-ai-u\n",
      "    sing-llms-capstone\\pricer_service2.py\n",
      "| Creating objects...\n",
      "└── 🔨 Created mount \n",
      "    c:\\Users\\VyomBhatt\\Documents\\Github\\Personal\\llm-engineering\\8-agentic-ai-u\n",
      "    sing-llms-capstone\\pricer_service2.py\n",
      "- Creating objects...\n",
      "└── 🔨 Created mount \n",
      "    c:\\Users\\VyomBhatt\\Documents\\Github\\Personal\\llm-engineering\\8-agentic-ai-u\n",
      "    sing-llms-capstone\\pricer_service2.py\n",
      "| Creating objects...\n",
      "└── 🔨 Created mount \n",
      "    c:\\Users\\VyomBhatt\\Documents\\Github\\Personal\\llm-engineering\\8-agentic-ai-u\n",
      "    sing-llms-capstone\\pricer_service2.py\n",
      "- Creating objects...\n",
      "└── 🔨 Created mount \n",
      "    c:\\Users\\VyomBhatt\\Documents\\Github\\Personal\\llm-engineering\\8-agentic-ai-u\n",
      "    sing-llms-capstone\\pricer_service2.py\n",
      "| Creating objects...\n",
      "└── 🔨 Created mount \n",
      "    c:\\Users\\VyomBhatt\\Documents\\Github\\Personal\\llm-engineering\\8-agentic-ai-u\n",
      "    sing-llms-capstone\\pricer_service2.py\n",
      "- Creating objects...\n",
      "└── 🔨 Created mount \n",
      "    c:\\Users\\VyomBhatt\\Documents\\Github\\Personal\\llm-engineering\\8-agentic-ai-u\n",
      "    sing-llms-capstone\\pricer_service2.py\n",
      "| Creating objects...\n",
      "└── 🔨 Created mount \n",
      "    c:\\Users\\VyomBhatt\\Documents\\Github\\Personal\\llm-engineering\\8-agentic-ai-u\n",
      "    sing-llms-capstone\\pricer_service2.py\n",
      "- Creating objects...\n",
      "└── 🔨 Created mount \n",
      "    c:\\Users\\VyomBhatt\\Documents\\Github\\Personal\\llm-engineering\\8-agentic-ai-u\n",
      "    sing-llms-capstone\\pricer_service2.py\n",
      "| Creating objects...\n",
      "└── 🔨 Created mount \n",
      "    c:\\Users\\VyomBhatt\\Documents\\Github\\Personal\\llm-engineering\\8-agentic-ai-u\n",
      "    sing-llms-capstone\\pricer_service2.py\n",
      "- Creating objects...\n",
      "└── 🔨 Created mount \n",
      "    c:\\Users\\VyomBhatt\\Documents\\Github\\Personal\\llm-engineering\\8-agentic-ai-u\n",
      "    sing-llms-capstone\\pricer_service2.py\n",
      "| Creating objects...\n",
      "└── 🔨 Created mount \n",
      "    c:\\Users\\VyomBhatt\\Documents\\Github\\Personal\\llm-engineering\\8-agentic-ai-u\n",
      "    sing-llms-capstone\\pricer_service2.py\n",
      "- Creating objects...\n",
      "└── 🔨 Created mount \n",
      "    c:\\Users\\VyomBhatt\\Documents\\Github\\Personal\\llm-engineering\\8-agentic-ai-u\n",
      "    sing-llms-capstone\\pricer_service2.py\n",
      "| Creating objects...\n",
      "└── 🔨 Created mount \n",
      "    c:\\Users\\VyomBhatt\\Documents\\Github\\Personal\\llm-engineering\\8-agentic-ai-u\n",
      "    sing-llms-capstone\\pricer_service2.py\n",
      "- Creating objects...\n",
      "└── 🔨 Created mount \n",
      "    c:\\Users\\VyomBhatt\\Documents\\Github\\Personal\\llm-engineering\\8-agentic-ai-u\n",
      "    sing-llms-capstone\\pricer_service2.py\n",
      "| Creating objects...\n",
      "└── 🔨 Created mount \n",
      "    c:\\Users\\VyomBhatt\\Documents\\Github\\Personal\\llm-engineering\\8-agentic-ai-u\n",
      "    sing-llms-capstone\\pricer_service2.py\n",
      "- Creating objects...\n",
      "└── 🔨 Created mount \n",
      "    c:\\Users\\VyomBhatt\\Documents\\Github\\Personal\\llm-engineering\\8-agentic-ai-u\n",
      "    sing-llms-capstone\\pricer_service2.py\n",
      "| Creating objects...\n",
      "└── 🔨 Created mount \n",
      "    c:\\Users\\VyomBhatt\\Documents\\Github\\Personal\\llm-engineering\\8-agentic-ai-u\n",
      "    sing-llms-capstone\\pricer_service2.py\n",
      "- Creating objects...\n",
      "└── 🔨 Created mount \n",
      "    c:\\Users\\VyomBhatt\\Documents\\Github\\Personal\\llm-engineering\\8-agentic-ai-u\n",
      "    sing-llms-capstone\\pricer_service2.py\n",
      "| Creating objects...\n",
      "└── 🔨 Created mount \n",
      "    c:\\Users\\VyomBhatt\\Documents\\Github\\Personal\\llm-engineering\\8-agentic-ai-u\n",
      "    sing-llms-capstone\\pricer_service2.py\n",
      "- Creating objects...\n",
      "└── 🔨 Created mount \n",
      "    c:\\Users\\VyomBhatt\\Documents\\Github\\Personal\\llm-engineering\\8-agentic-ai-u\n",
      "    sing-llms-capstone\\pricer_service2.py\n",
      "| Creating objects...\n",
      "└── 🔨 Created mount \n",
      "    c:\\Users\\VyomBhatt\\Documents\\Github\\Personal\\llm-engineering\\8-agentic-ai-u\n",
      "    sing-llms-capstone\\pricer_service2.py\n",
      "- Creating objects...\n",
      "└── 🔨 Created mount \n",
      "    c:\\Users\\VyomBhatt\\Documents\\Github\\Personal\\llm-engineering\\8-agentic-ai-u\n",
      "    sing-llms-capstone\\pricer_service2.py\n",
      "| Creating objects...\n",
      "└── 🔨 Created mount \n",
      "    c:\\Users\\VyomBhatt\\Documents\\Github\\Personal\\llm-engineering\\8-agentic-ai-u\n",
      "    sing-llms-capstone\\pricer_service2.py\n",
      "- Creating objects...\n",
      "└── 🔨 Created mount \n",
      "    c:\\Users\\VyomBhatt\\Documents\\Github\\Personal\\llm-engineering\\8-agentic-ai-u\n",
      "    sing-llms-capstone\\pricer_service2.py\n",
      "| Creating objects...\n",
      "└── 🔨 Created mount \n",
      "    c:\\Users\\VyomBhatt\\Documents\\Github\\Personal\\llm-engineering\\8-agentic-ai-u\n",
      "    sing-llms-capstone\\pricer_service2.py\n",
      "- Creating objects...\n",
      "└── 🔨 Created mount \n",
      "    c:\\Users\\VyomBhatt\\Documents\\Github\\Personal\\llm-engineering\\8-agentic-ai-u\n",
      "    sing-llms-capstone\\pricer_service2.py\n",
      "| Creating objects...\n",
      "└── 🔨 Created mount \n",
      "    c:\\Users\\VyomBhatt\\Documents\\Github\\Personal\\llm-engineering\\8-agentic-ai-u\n",
      "    sing-llms-capstone\\pricer_service2.py\n",
      "- Creating objects...\n",
      "└── 🔨 Created mount \n",
      "    c:\\Users\\VyomBhatt\\Documents\\Github\\Personal\\llm-engineering\\8-agentic-ai-u\n",
      "    sing-llms-capstone\\pricer_service2.py\n",
      "| Creating objects...\n",
      "└── 🔨 Created mount \n",
      "    c:\\Users\\VyomBhatt\\Documents\\Github\\Personal\\llm-engineering\\8-agentic-ai-u\n",
      "    sing-llms-capstone\\pricer_service2.py\n",
      "- Creating objects...\n",
      "└── 🔨 Created mount \n",
      "    c:\\Users\\VyomBhatt\\Documents\\Github\\Personal\\llm-engineering\\8-agentic-ai-u\n",
      "    sing-llms-capstone\\pricer_service2.py\n",
      "| Creating objects...\n",
      "└── 🔨 Created mount \n",
      "    c:\\Users\\VyomBhatt\\Documents\\Github\\Personal\\llm-engineering\\8-agentic-ai-u\n",
      "    sing-llms-capstone\\pricer_service2.py\n",
      "- Creating objects...\n",
      "└── 🔨 Created mount \n",
      "    c:\\Users\\VyomBhatt\\Documents\\Github\\Personal\\llm-engineering\\8-agentic-ai-u\n",
      "    sing-llms-capstone\\pricer_service2.py\n",
      "| Creating objects...\n",
      "└── 🔨 Created mount \n",
      "    c:\\Users\\VyomBhatt\\Documents\\Github\\Personal\\llm-engineering\\8-agentic-ai-u\n",
      "    sing-llms-capstone\\pricer_service2.py\n",
      "- Creating objects...\n",
      "└── 🔨 Created mount \n",
      "    c:\\Users\\VyomBhatt\\Documents\\Github\\Personal\\llm-engineering\\8-agentic-ai-u\n",
      "    sing-llms-capstone\\pricer_service2.py\n",
      "| Creating objects...\n",
      "└── 🔨 Created mount \n",
      "    c:\\Users\\VyomBhatt\\Documents\\Github\\Personal\\llm-engineering\\8-agentic-ai-u\n",
      "    sing-llms-capstone\\pricer_service2.py\n",
      "- Creating objects...\n",
      "└── 🔨 Created mount \n",
      "    c:\\Users\\VyomBhatt\\Documents\\Github\\Personal\\llm-engineering\\8-agentic-ai-u\n",
      "    sing-llms-capstone\\pricer_service2.py\n",
      "| Creating objects...\n",
      "└── 🔨 Created mount \n",
      "    c:\\Users\\VyomBhatt\\Documents\\Github\\Personal\\llm-engineering\\8-agentic-ai-u\n",
      "    sing-llms-capstone\\pricer_service2.py\n",
      "- Creating objects...\n",
      "└── 🔨 Created mount \n",
      "    c:\\Users\\VyomBhatt\\Documents\\Github\\Personal\\llm-engineering\\8-agentic-ai-u\n",
      "    sing-llms-capstone\\pricer_service2.py\n",
      "| Creating objects...\n",
      "└── 🔨 Created mount \n",
      "    c:\\Users\\VyomBhatt\\Documents\\Github\\Personal\\llm-engineering\\8-agentic-ai-u\n",
      "    sing-llms-capstone\\pricer_service2.py\n",
      "- Creating objects...\n",
      "└── 🔨 Created mount \n",
      "    c:\\Users\\VyomBhatt\\Documents\\Github\\Personal\\llm-engineering\\8-agentic-ai-u\n",
      "    sing-llms-capstone\\pricer_service2.py\n",
      "| Creating objects...\n",
      "└── 🔨 Created mount \n",
      "    c:\\Users\\VyomBhatt\\Documents\\Github\\Personal\\llm-engineering\\8-agentic-ai-u\n",
      "    sing-llms-capstone\\pricer_service2.py\n",
      "- Creating objects...\n",
      "└── 🔨 Created mount \n",
      "    c:\\Users\\VyomBhatt\\Documents\\Github\\Personal\\llm-engineering\\8-agentic-ai-u\n",
      "    sing-llms-capstone\\pricer_service2.py\n",
      "| Creating objects...\n",
      "└── 🔨 Created mount \n",
      "    c:\\Users\\VyomBhatt\\Documents\\Github\\Personal\\llm-engineering\\8-agentic-ai-u\n",
      "    sing-llms-capstone\\pricer_service2.py\n",
      "- Creating objects...\n",
      "└── 🔨 Created mount \n",
      "    c:\\Users\\VyomBhatt\\Documents\\Github\\Personal\\llm-engineering\\8-agentic-ai-u\n",
      "    sing-llms-capstone\\pricer_service2.py\n",
      "| Creating objects...\n",
      "└── 🔨 Created mount \n",
      "    c:\\Users\\VyomBhatt\\Documents\\Github\\Personal\\llm-engineering\\8-agentic-ai-u\n",
      "    sing-llms-capstone\\pricer_service2.py\n",
      "- Creating objects...\n",
      "└── 🔨 Created mount \n",
      "    c:\\Users\\VyomBhatt\\Documents\\Github\\Personal\\llm-engineering\\8-agentic-ai-u\n",
      "    sing-llms-capstone\\pricer_service2.py\n",
      "| Creating objects...\n",
      "└── 🔨 Created mount \n",
      "    c:\\Users\\VyomBhatt\\Documents\\Github\\Personal\\llm-engineering\\8-agentic-ai-u\n",
      "    sing-llms-capstone\\pricer_service2.py\n",
      "- Creating objects...\n",
      "└── 🔨 Created mount \n",
      "    c:\\Users\\VyomBhatt\\Documents\\Github\\Personal\\llm-engineering\\8-agentic-ai-u\n",
      "    sing-llms-capstone\\pricer_service2.py\n",
      "| Creating objects...\n",
      "└── 🔨 Created mount \n",
      "    c:\\Users\\VyomBhatt\\Documents\\Github\\Personal\\llm-engineering\\8-agentic-ai-u\n",
      "    sing-llms-capstone\\pricer_service2.py\n",
      "- Creating objects...\n",
      "└── 🔨 Created mount \n",
      "    c:\\Users\\VyomBhatt\\Documents\\Github\\Personal\\llm-engineering\\8-agentic-ai-u\n",
      "    sing-llms-capstone\\pricer_service2.py\n",
      "| Creating objects...\n",
      "└── 🔨 Created mount \n",
      "    c:\\Users\\VyomBhatt\\Documents\\Github\\Personal\\llm-engineering\\8-agentic-ai-u\n",
      "    sing-llms-capstone\\pricer_service2.py\n",
      "- Creating objects...\n",
      "└── 🔨 Created mount \n",
      "    c:\\Users\\VyomBhatt\\Documents\\Github\\Personal\\llm-engineering\\8-agentic-ai-u\n",
      "    sing-llms-capstone\\pricer_service2.py\n",
      "| Creating objects...\n",
      "└── 🔨 Created mount \n",
      "    c:\\Users\\VyomBhatt\\Documents\\Github\\Personal\\llm-engineering\\8-agentic-ai-u\n",
      "    sing-llms-capstone\\pricer_service2.py\n",
      "- Creating objects...\n",
      "└── 🔨 Created mount \n",
      "    c:\\Users\\VyomBhatt\\Documents\\Github\\Personal\\llm-engineering\\8-agentic-ai-u\n",
      "    sing-llms-capstone\\pricer_service2.py\n",
      "| Creating objects...\n",
      "└── 🔨 Created mount \n",
      "    c:\\Users\\VyomBhatt\\Documents\\Github\\Personal\\llm-engineering\\8-agentic-ai-u\n",
      "    sing-llms-capstone\\pricer_service2.py\n",
      "\\ Creating objects...\n",
      "└── 🔨 Created mount \n",
      "    c:\\Users\\VyomBhatt\\Documents\\Github\\Personal\\llm-engineering\\8-agentic-ai-u\n",
      "    sing-llms-capstone\\pricer_service2.py\n",
      "/ Creating objects...\n",
      "└── 🔨 Created mount \n",
      "    c:\\Users\\VyomBhatt\\Documents\\Github\\Personal\\llm-engineering\\8-agentic-ai-u\n",
      "    sing-llms-capstone\\pricer_service2.py\n",
      "\\ Creating objects...\n",
      "└── 🔨 Created mount \n",
      "    c:\\Users\\VyomBhatt\\Documents\\Github\\Personal\\llm-engineering\\8-agentic-ai-u\n",
      "    sing-llms-capstone\\pricer_service2.py\n",
      "/ Creating objects...\n",
      "└── 🔨 Created mount \n",
      "    c:\\Users\\VyomBhatt\\Documents\\Github\\Personal\\llm-engineering\\8-agentic-ai-u\n",
      "    sing-llms-capstone\\pricer_service2.py\n",
      "\\ Creating objects...\n",
      "└── 🔨 Created mount \n",
      "    c:\\Users\\VyomBhatt\\Documents\\Github\\Personal\\llm-engineering\\8-agentic-ai-u\n",
      "    sing-llms-capstone\\pricer_service2.py\n",
      "/ Creating objects...\n",
      "└── 🔨 Created mount \n",
      "    c:\\Users\\VyomBhatt\\Documents\\Github\\Personal\\llm-engineering\\8-agentic-ai-u\n",
      "    sing-llms-capstone\\pricer_service2.py\n",
      "\\ Creating objects...\n",
      "└── 🔨 Created mount \n",
      "    c:\\Users\\VyomBhatt\\Documents\\Github\\Personal\\llm-engineering\\8-agentic-ai-u\n",
      "    sing-llms-capstone\\pricer_service2.py\n",
      "/ Creating objects...\n",
      "└── 🔨 Created mount \n",
      "    c:\\Users\\VyomBhatt\\Documents\\Github\\Personal\\llm-engineering\\8-agentic-ai-u\n",
      "    sing-llms-capstone\\pricer_service2.py\n",
      "\\ Creating objects...\n",
      "└── 🔨 Created mount \n",
      "    c:\\Users\\VyomBhatt\\Documents\\Github\\Personal\\llm-engineering\\8-agentic-ai-u\n",
      "    sing-llms-capstone\\pricer_service2.py\n",
      "/ Creating objects...\n",
      "└── 🔨 Created mount \n",
      "    c:\\Users\\VyomBhatt\\Documents\\Github\\Personal\\llm-engineering\\8-agentic-ai-u\n",
      "    sing-llms-capstone\\pricer_service2.py\n",
      "\\ Creating objects...\n",
      "└── 🔨 Created mount \n",
      "    c:\\Users\\VyomBhatt\\Documents\\Github\\Personal\\llm-engineering\\8-agentic-ai-u\n",
      "    sing-llms-capstone\\pricer_service2.py\n",
      "/ Creating objects...\n",
      "└── 🔨 Created mount \n",
      "    c:\\Users\\VyomBhatt\\Documents\\Github\\Personal\\llm-engineering\\8-agentic-ai-u\n",
      "    sing-llms-capstone\\pricer_service2.py\n",
      "\\ Creating objects...\n",
      "└── 🔨 Created mount \n",
      "    c:\\Users\\VyomBhatt\\Documents\\Github\\Personal\\llm-engineering\\8-agentic-ai-u\n",
      "    sing-llms-capstone\\pricer_service2.py\n",
      "/ Creating objects...\n",
      "└── 🔨 Created mount \n",
      "    c:\\Users\\VyomBhatt\\Documents\\Github\\Personal\\llm-engineering\\8-agentic-ai-u\n",
      "    sing-llms-capstone\\pricer_service2.py\n",
      "\\ Creating objects...\n",
      "└── 🔨 Created mount \n",
      "    c:\\Users\\VyomBhatt\\Documents\\Github\\Personal\\llm-engineering\\8-agentic-ai-u\n",
      "    sing-llms-capstone\\pricer_service2.py\n",
      "/ Creating objects...\n",
      "└── 🔨 Created mount \n",
      "    c:\\Users\\VyomBhatt\\Documents\\Github\\Personal\\llm-engineering\\8-agentic-ai-u\n",
      "    sing-llms-capstone\\pricer_service2.py\n",
      "\\ Creating objects...\n",
      "└── 🔨 Created mount \n",
      "    c:\\Users\\VyomBhatt\\Documents\\Github\\Personal\\llm-engineering\\8-agentic-ai-u\n",
      "    sing-llms-capstone\\pricer_service2.py\n",
      "/ Creating objects...\n",
      "└── 🔨 Created mount \n",
      "    c:\\Users\\VyomBhatt\\Documents\\Github\\Personal\\llm-engineering\\8-agentic-ai-u\n",
      "    sing-llms-capstone\\pricer_service2.py\n",
      "\\ Creating objects...\n",
      "└── 🔨 Created mount \n",
      "    c:\\Users\\VyomBhatt\\Documents\\Github\\Personal\\llm-engineering\\8-agentic-ai-u\n",
      "    sing-llms-capstone\\pricer_service2.py\n",
      "/ Creating objects...\n",
      "└── 🔨 Created mount \n",
      "    c:\\Users\\VyomBhatt\\Documents\\Github\\Personal\\llm-engineering\\8-agentic-ai-u\n",
      "    sing-llms-capstone\\pricer_service2.py\n",
      "\\ Creating objects...\n",
      "└── 🔨 Created mount \n",
      "    c:\\Users\\VyomBhatt\\Documents\\Github\\Personal\\llm-engineering\\8-agentic-ai-u\n",
      "    sing-llms-capstone\\pricer_service2.py\n",
      "/ Creating objects...\n",
      "└── 🔨 Created mount \n",
      "    c:\\Users\\VyomBhatt\\Documents\\Github\\Personal\\llm-engineering\\8-agentic-ai-u\n",
      "    sing-llms-capstone\\pricer_service2.py\n",
      "\\ Creating objects...\n",
      "└── 🔨 Created mount \n",
      "    c:\\Users\\VyomBhatt\\Documents\\Github\\Personal\\llm-engineering\\8-agentic-ai-u\n",
      "    sing-llms-capstone\\pricer_service2.py\n",
      "/ Creating objects...\n",
      "└── 🔨 Created mount \n",
      "    c:\\Users\\VyomBhatt\\Documents\\Github\\Personal\\llm-engineering\\8-agentic-ai-u\n",
      "    sing-llms-capstone\\pricer_service2.py\n",
      "\\ Creating objects...\n",
      "└── 🔨 Created mount \n",
      "    c:\\Users\\VyomBhatt\\Documents\\Github\\Personal\\llm-engineering\\8-agentic-ai-u\n",
      "    sing-llms-capstone\\pricer_service2.py\n",
      "/ Creating objects...\n",
      "└── 🔨 Created mount \n",
      "    c:\\Users\\VyomBhatt\\Documents\\Github\\Personal\\llm-engineering\\8-agentic-ai-u\n",
      "    sing-llms-capstone\\pricer_service2.py\n",
      "\\ Creating objects...\n",
      "└── 🔨 Created mount \n",
      "    c:\\Users\\VyomBhatt\\Documents\\Github\\Personal\\llm-engineering\\8-agentic-ai-u\n",
      "    sing-llms-capstone\\pricer_service2.py\n",
      "/ Creating objects...\n",
      "└── 🔨 Created mount \n",
      "    c:\\Users\\VyomBhatt\\Documents\\Github\\Personal\\llm-engineering\\8-agentic-ai-u\n",
      "    sing-llms-capstone\\pricer_service2.py\n",
      "\\ Creating objects...\n",
      "└── 🔨 Created mount \n",
      "    c:\\Users\\VyomBhatt\\Documents\\Github\\Personal\\llm-engineering\\8-agentic-ai-u\n",
      "    sing-llms-capstone\\pricer_service2.py\n",
      "/ Creating objects...\n",
      "└── 🔨 Created mount \n",
      "    c:\\Users\\VyomBhatt\\Documents\\Github\\Personal\\llm-engineering\\8-agentic-ai-u\n",
      "    sing-llms-capstone\\pricer_service2.py\n",
      "\\ Creating objects...\n",
      "└── 🔨 Created mount \n",
      "    c:\\Users\\VyomBhatt\\Documents\\Github\\Personal\\llm-engineering\\8-agentic-ai-u\n",
      "    sing-llms-capstone\\pricer_service2.py\n",
      "/ Creating objects...\n",
      "└── 🔨 Created mount \n",
      "    c:\\Users\\VyomBhatt\\Documents\\Github\\Personal\\llm-engineering\\8-agentic-ai-u\n",
      "    sing-llms-capstone\\pricer_service2.py\n",
      "\\ Creating objects...\n",
      "└── 🔨 Created mount \n",
      "    c:\\Users\\VyomBhatt\\Documents\\Github\\Personal\\llm-engineering\\8-agentic-ai-u\n",
      "    sing-llms-capstone\\pricer_service2.py\n",
      "/ Creating objects...\n",
      "└── 🔨 Created mount \n",
      "    c:\\Users\\VyomBhatt\\Documents\\Github\\Personal\\llm-engineering\\8-agentic-ai-u\n",
      "    sing-llms-capstone\\pricer_service2.py\n",
      "\\ Creating objects...\n",
      "└── 🔨 Created mount \n",
      "    c:\\Users\\VyomBhatt\\Documents\\Github\\Personal\\llm-engineering\\8-agentic-ai-u\n",
      "    sing-llms-capstone\\pricer_service2.py\n",
      "/ Creating objects...\n",
      "└── 🔨 Created mount \n",
      "    c:\\Users\\VyomBhatt\\Documents\\Github\\Personal\\llm-engineering\\8-agentic-ai-u\n",
      "    sing-llms-capstone\\pricer_service2.py\n",
      "\\ Creating objects...\n",
      "└── 🔨 Created mount \n",
      "    c:\\Users\\VyomBhatt\\Documents\\Github\\Personal\\llm-engineering\\8-agentic-ai-u\n",
      "    sing-llms-capstone\\pricer_service2.py\n",
      "/ Creating objects...\n",
      "└── 🔨 Created mount \n",
      "    c:\\Users\\VyomBhatt\\Documents\\Github\\Personal\\llm-engineering\\8-agentic-ai-u\n",
      "    sing-llms-capstone\\pricer_service2.py\n",
      "\\ Creating objects...\n",
      "└── 🔨 Created mount \n",
      "    c:\\Users\\VyomBhatt\\Documents\\Github\\Personal\\llm-engineering\\8-agentic-ai-u\n",
      "    sing-llms-capstone\\pricer_service2.py\n",
      "/ Creating objects...\n",
      "└── 🔨 Created mount \n",
      "    c:\\Users\\VyomBhatt\\Documents\\Github\\Personal\\llm-engineering\\8-agentic-ai-u\n",
      "    sing-llms-capstone\\pricer_service2.py\n",
      "\\ Creating objects...\n",
      "└── 🔨 Created mount \n",
      "    c:\\Users\\VyomBhatt\\Documents\\Github\\Personal\\llm-engineering\\8-agentic-ai-u\n",
      "    sing-llms-capstone\\pricer_service2.py\n",
      "/ Creating objects...\n",
      "└── 🔨 Created mount \n",
      "    c:\\Users\\VyomBhatt\\Documents\\Github\\Personal\\llm-engineering\\8-agentic-ai-u\n",
      "    sing-llms-capstone\\pricer_service2.py\n",
      "\\ Creating objects...\n",
      "└── 🔨 Created mount \n",
      "    c:\\Users\\VyomBhatt\\Documents\\Github\\Personal\\llm-engineering\\8-agentic-ai-u\n",
      "    sing-llms-capstone\\pricer_service2.py\n",
      "/ Creating objects...\n",
      "└── 🔨 Created mount \n",
      "    c:\\Users\\VyomBhatt\\Documents\\Github\\Personal\\llm-engineering\\8-agentic-ai-u\n",
      "    sing-llms-capstone\\pricer_service2.py\n",
      "\\ Creating objects...\n",
      "└── 🔨 Created mount \n",
      "    c:\\Users\\VyomBhatt\\Documents\\Github\\Personal\\llm-engineering\\8-agentic-ai-u\n",
      "    sing-llms-capstone\\pricer_service2.py\n",
      "/ Creating objects...\n",
      "└── 🔨 Created mount \n",
      "    c:\\Users\\VyomBhatt\\Documents\\Github\\Personal\\llm-engineering\\8-agentic-ai-u\n",
      "    sing-llms-capstone\\pricer_service2.py\n",
      "\\ Creating objects...\n",
      "└── 🔨 Created mount \n",
      "    c:\\Users\\VyomBhatt\\Documents\\Github\\Personal\\llm-engineering\\8-agentic-ai-u\n",
      "    sing-llms-capstone\\pricer_service2.py\n",
      "/ Creating objects...\n",
      "└── 🔨 Created mount \n",
      "    c:\\Users\\VyomBhatt\\Documents\\Github\\Personal\\llm-engineering\\8-agentic-ai-u\n",
      "    sing-llms-capstone\\pricer_service2.py\n",
      "\\ Creating objects...\n",
      "└── 🔨 Created mount \n",
      "    c:\\Users\\VyomBhatt\\Documents\\Github\\Personal\\llm-engineering\\8-agentic-ai-u\n",
      "    sing-llms-capstone\\pricer_service2.py\n",
      "/ Creating objects...\n",
      "└── 🔨 Created mount \n",
      "    c:\\Users\\VyomBhatt\\Documents\\Github\\Personal\\llm-engineering\\8-agentic-ai-u\n",
      "    sing-llms-capstone\\pricer_service2.py\n",
      "\\ Creating objects...\n",
      "└── 🔨 Created mount \n",
      "    c:\\Users\\VyomBhatt\\Documents\\Github\\Personal\\llm-engineering\\8-agentic-ai-u\n",
      "    sing-llms-capstone\\pricer_service2.py\n",
      "/ Creating objects...\n",
      "└── 🔨 Created mount \n",
      "    c:\\Users\\VyomBhatt\\Documents\\Github\\Personal\\llm-engineering\\8-agentic-ai-u\n",
      "    sing-llms-capstone\\pricer_service2.py\n",
      "\\ Creating objects...\n",
      "└── 🔨 Created mount \n",
      "    c:\\Users\\VyomBhatt\\Documents\\Github\\Personal\\llm-engineering\\8-agentic-ai-u\n",
      "    sing-llms-capstone\\pricer_service2.py\n",
      "/ Creating objects...\n",
      "└── 🔨 Created mount \n",
      "    c:\\Users\\VyomBhatt\\Documents\\Github\\Personal\\llm-engineering\\8-agentic-ai-u\n",
      "    sing-llms-capstone\\pricer_service2.py\n",
      "\\ Creating objects...\n",
      "└── 🔨 Created mount \n",
      "    c:\\Users\\VyomBhatt\\Documents\\Github\\Personal\\llm-engineering\\8-agentic-ai-u\n",
      "    sing-llms-capstone\\pricer_service2.py\n",
      "/ Creating objects...\n",
      "└── 🔨 Created mount \n",
      "    c:\\Users\\VyomBhatt\\Documents\\Github\\Personal\\llm-engineering\\8-agentic-ai-u\n",
      "    sing-llms-capstone\\pricer_service2.py\n",
      "\\ Creating objects...\n",
      "└── 🔨 Created mount \n",
      "    c:\\Users\\VyomBhatt\\Documents\\Github\\Personal\\llm-engineering\\8-agentic-ai-u\n",
      "    sing-llms-capstone\\pricer_service2.py\n",
      "/ Creating objects...\n",
      "└── 🔨 Created mount \n",
      "    c:\\Users\\VyomBhatt\\Documents\\Github\\Personal\\llm-engineering\\8-agentic-ai-u\n",
      "    sing-llms-capstone\\pricer_service2.py\n",
      "\\ Creating objects...\n",
      "└── 🔨 Created mount \n",
      "    c:\\Users\\VyomBhatt\\Documents\\Github\\Personal\\llm-engineering\\8-agentic-ai-u\n",
      "    sing-llms-capstone\\pricer_service2.py\n",
      "/ Creating objects...\n",
      "└── 🔨 Created mount \n",
      "    c:\\Users\\VyomBhatt\\Documents\\Github\\Personal\\llm-engineering\\8-agentic-ai-u\n",
      "    sing-llms-capstone\\pricer_service2.py\n",
      "\\ Creating objects...\n",
      "└── 🔨 Created mount \n",
      "    c:\\Users\\VyomBhatt\\Documents\\Github\\Personal\\llm-engineering\\8-agentic-ai-u\n",
      "    sing-llms-capstone\\pricer_service2.py\n",
      "/ Creating objects...\n",
      "└── 🔨 Created mount \n",
      "    c:\\Users\\VyomBhatt\\Documents\\Github\\Personal\\llm-engineering\\8-agentic-ai-u\n",
      "    sing-llms-capstone\\pricer_service2.py\n",
      "\\ Creating objects...\n",
      "└── 🔨 Created mount \n",
      "    c:\\Users\\VyomBhatt\\Documents\\Github\\Personal\\llm-engineering\\8-agentic-ai-u\n",
      "    sing-llms-capstone\\pricer_service2.py\n",
      "/ Creating objects...\n",
      "└── 🔨 Created mount \n",
      "    c:\\Users\\VyomBhatt\\Documents\\Github\\Personal\\llm-engineering\\8-agentic-ai-u\n",
      "    sing-llms-capstone\\pricer_service2.py\n",
      "| Creating objects...\n",
      "└── 🔨 Created mount \n",
      "    c:\\Users\\VyomBhatt\\Documents\\Github\\Personal\\llm-engineering\\8-agentic-ai-u\n",
      "    sing-llms-capstone\\pricer_service2.py\n",
      "- Creating objects...\n",
      "└── 🔨 Created mount \n",
      "    c:\\Users\\VyomBhatt\\Documents\\Github\\Personal\\llm-engineering\\8-agentic-ai-u\n",
      "    sing-llms-capstone\\pricer_service2.py\n",
      "| Creating objects...\n",
      "└── 🔨 Created mount \n",
      "    c:\\Users\\VyomBhatt\\Documents\\Github\\Personal\\llm-engineering\\8-agentic-ai-u\n",
      "    sing-llms-capstone\\pricer_service2.py\n",
      "- Creating objects...\n",
      "└── 🔨 Created mount \n",
      "    c:\\Users\\VyomBhatt\\Documents\\Github\\Personal\\llm-engineering\\8-agentic-ai-u\n",
      "    sing-llms-capstone\\pricer_service2.py\n",
      "| Creating objects...\n",
      "└── 🔨 Created mount \n",
      "    c:\\Users\\VyomBhatt\\Documents\\Github\\Personal\\llm-engineering\\8-agentic-ai-u\n",
      "    sing-llms-capstone\\pricer_service2.py\n",
      "- Creating objects...\n",
      "└── 🔨 Created mount \n",
      "    c:\\Users\\VyomBhatt\\Documents\\Github\\Personal\\llm-engineering\\8-agentic-ai-u\n",
      "    sing-llms-capstone\\pricer_service2.py\n",
      "| Creating objects...\n",
      "└── 🔨 Created mount \n",
      "    c:\\Users\\VyomBhatt\\Documents\\Github\\Personal\\llm-engineering\\8-agentic-ai-u\n",
      "    sing-llms-capstone\\pricer_service2.py\n",
      "- Creating objects...\n",
      "└── 🔨 Created mount \n",
      "    c:\\Users\\VyomBhatt\\Documents\\Github\\Personal\\llm-engineering\\8-agentic-ai-u\n",
      "    sing-llms-capstone\\pricer_service2.py\n",
      "| Creating objects...\n",
      "└── 🔨 Created mount \n",
      "    c:\\Users\\VyomBhatt\\Documents\\Github\\Personal\\llm-engineering\\8-agentic-ai-u\n",
      "    sing-llms-capstone\\pricer_service2.py\n",
      "- Creating objects...\n",
      "└── 🔨 Created mount \n",
      "    c:\\Users\\VyomBhatt\\Documents\\Github\\Personal\\llm-engineering\\8-agentic-ai-u\n",
      "    sing-llms-capstone\\pricer_service2.py\n",
      "| Creating objects...\n",
      "└── 🔨 Created mount \n",
      "    c:\\Users\\VyomBhatt\\Documents\\Github\\Personal\\llm-engineering\\8-agentic-ai-u\n",
      "    sing-llms-capstone\\pricer_service2.py\n",
      "- Creating objects...\n",
      "└── 🔨 Created mount \n",
      "    c:\\Users\\VyomBhatt\\Documents\\Github\\Personal\\llm-engineering\\8-agentic-ai-u\n",
      "    sing-llms-capstone\\pricer_service2.py\n",
      "| Creating objects...\n",
      "└── 🔨 Created mount \n",
      "    c:\\Users\\VyomBhatt\\Documents\\Github\\Personal\\llm-engineering\\8-agentic-ai-u\n",
      "    sing-llms-capstone\\pricer_service2.py\n",
      "- Creating objects...\n",
      "└── 🔨 Created mount \n",
      "    c:\\Users\\VyomBhatt\\Documents\\Github\\Personal\\llm-engineering\\8-agentic-ai-u\n",
      "    sing-llms-capstone\\pricer_service2.py\n",
      "| Creating objects...\n",
      "└── 🔨 Created mount \n",
      "    c:\\Users\\VyomBhatt\\Documents\\Github\\Personal\\llm-engineering\\8-agentic-ai-u\n",
      "    sing-llms-capstone\\pricer_service2.py\n",
      "- Creating objects...\n",
      "└── 🔨 Created mount \n",
      "    c:\\Users\\VyomBhatt\\Documents\\Github\\Personal\\llm-engineering\\8-agentic-ai-u\n",
      "    sing-llms-capstone\\pricer_service2.py\n",
      "| Creating objects...\n",
      "└── 🔨 Created mount \n",
      "    c:\\Users\\VyomBhatt\\Documents\\Github\\Personal\\llm-engineering\\8-agentic-ai-u\n",
      "    sing-llms-capstone\\pricer_service2.py\n",
      "- Creating objects...\n",
      "└── 🔨 Created mount \n",
      "    c:\\Users\\VyomBhatt\\Documents\\Github\\Personal\\llm-engineering\\8-agentic-ai-u\n",
      "    sing-llms-capstone\\pricer_service2.py\n",
      "| Creating objects...\n",
      "└── 🔨 Created mount \n",
      "    c:\\Users\\VyomBhatt\\Documents\\Github\\Personal\\llm-engineering\\8-agentic-ai-u\n",
      "    sing-llms-capstone\\pricer_service2.py\n",
      "- Creating objects...\n",
      "└── 🔨 Created mount \n",
      "    c:\\Users\\VyomBhatt\\Documents\\Github\\Personal\\llm-engineering\\8-agentic-ai-u\n",
      "    sing-llms-capstone\\pricer_service2.py\n",
      "| Creating objects...\n",
      "└── 🔨 Created mount \n",
      "    c:\\Users\\VyomBhatt\\Documents\\Github\\Personal\\llm-engineering\\8-agentic-ai-u\n",
      "    sing-llms-capstone\\pricer_service2.py\n",
      "- Creating objects...\n",
      "└── 🔨 Created mount \n",
      "    c:\\Users\\VyomBhatt\\Documents\\Github\\Personal\\llm-engineering\\8-agentic-ai-u\n",
      "    sing-llms-capstone\\pricer_service2.py\n",
      "| Creating objects...\n",
      "└── 🔨 Created mount \n",
      "    c:\\Users\\VyomBhatt\\Documents\\Github\\Personal\\llm-engineering\\8-agentic-ai-u\n",
      "    sing-llms-capstone\\pricer_service2.py\n",
      "- Creating objects...\n",
      "└── 🔨 Created mount \n",
      "    c:\\Users\\VyomBhatt\\Documents\\Github\\Personal\\llm-engineering\\8-agentic-ai-u\n",
      "    sing-llms-capstone\\pricer_service2.py\n",
      "| Creating objects...\n",
      "└── 🔨 Created mount \n",
      "    c:\\Users\\VyomBhatt\\Documents\\Github\\Personal\\llm-engineering\\8-agentic-ai-u\n",
      "    sing-llms-capstone\\pricer_service2.py\n",
      "- Creating objects...\n",
      "└── 🔨 Created mount \n",
      "    c:\\Users\\VyomBhatt\\Documents\\Github\\Personal\\llm-engineering\\8-agentic-ai-u\n",
      "    sing-llms-capstone\\pricer_service2.py\n",
      "| Creating objects...\n",
      "└── 🔨 Created mount \n",
      "    c:\\Users\\VyomBhatt\\Documents\\Github\\Personal\\llm-engineering\\8-agentic-ai-u\n",
      "    sing-llms-capstone\\pricer_service2.py\n",
      "- Creating objects...\n",
      "└── 🔨 Created mount \n",
      "    c:\\Users\\VyomBhatt\\Documents\\Github\\Personal\\llm-engineering\\8-agentic-ai-u\n",
      "    sing-llms-capstone\\pricer_service2.py\n",
      "| Creating objects...\n",
      "└── 🔨 Created mount \n",
      "    c:\\Users\\VyomBhatt\\Documents\\Github\\Personal\\llm-engineering\\8-agentic-ai-u\n",
      "    sing-llms-capstone\\pricer_service2.py\n",
      "- Creating objects...\n",
      "└── 🔨 Created mount \n",
      "    c:\\Users\\VyomBhatt\\Documents\\Github\\Personal\\llm-engineering\\8-agentic-ai-u\n",
      "    sing-llms-capstone\\pricer_service2.py\n",
      "| Creating objects...\n",
      "└── 🔨 Created mount \n",
      "    c:\\Users\\VyomBhatt\\Documents\\Github\\Personal\\llm-engineering\\8-agentic-ai-u\n",
      "    sing-llms-capstone\\pricer_service2.py\n",
      "- Creating objects...\n",
      "└── 🔨 Created mount \n",
      "    c:\\Users\\VyomBhatt\\Documents\\Github\\Personal\\llm-engineering\\8-agentic-ai-u\n",
      "    sing-llms-capstone\\pricer_service2.py\n",
      "| Creating objects...\n",
      "└── 🔨 Created mount \n",
      "    c:\\Users\\VyomBhatt\\Documents\\Github\\Personal\\llm-engineering\\8-agentic-ai-u\n",
      "    sing-llms-capstone\\pricer_service2.py\n",
      "- Creating objects...\n",
      "└── 🔨 Created mount \n",
      "    c:\\Users\\VyomBhatt\\Documents\\Github\\Personal\\llm-engineering\\8-agentic-ai-u\n",
      "    sing-llms-capstone\\pricer_service2.py\n",
      "| Creating objects...\n",
      "└── 🔨 Created mount \n",
      "    c:\\Users\\VyomBhatt\\Documents\\Github\\Personal\\llm-engineering\\8-agentic-ai-u\n",
      "    sing-llms-capstone\\pricer_service2.py\n",
      "- Creating objects...\n",
      "└── 🔨 Created mount \n",
      "    c:\\Users\\VyomBhatt\\Documents\\Github\\Personal\\llm-engineering\\8-agentic-ai-u\n",
      "    sing-llms-capstone\\pricer_service2.py\n",
      "| Creating objects...\n",
      "└── 🔨 Created mount \n",
      "    c:\\Users\\VyomBhatt\\Documents\\Github\\Personal\\llm-engineering\\8-agentic-ai-u\n",
      "    sing-llms-capstone\\pricer_service2.py\n",
      "- Creating objects...\n",
      "└── 🔨 Created mount \n",
      "    c:\\Users\\VyomBhatt\\Documents\\Github\\Personal\\llm-engineering\\8-agentic-ai-u\n",
      "    sing-llms-capstone\\pricer_service2.py\n",
      "| Creating objects...\n",
      "└── 🔨 Created mount \n",
      "    c:\\Users\\VyomBhatt\\Documents\\Github\\Personal\\llm-engineering\\8-agentic-ai-u\n",
      "    sing-llms-capstone\\pricer_service2.py\n",
      "- Creating objects...\n",
      "└── 🔨 Created mount \n",
      "    c:\\Users\\VyomBhatt\\Documents\\Github\\Personal\\llm-engineering\\8-agentic-ai-u\n",
      "    sing-llms-capstone\\pricer_service2.py\n",
      "| Creating objects...\n",
      "└── 🔨 Created mount \n",
      "    c:\\Users\\VyomBhatt\\Documents\\Github\\Personal\\llm-engineering\\8-agentic-ai-u\n",
      "    sing-llms-capstone\\pricer_service2.py\n",
      "- Creating objects...\n",
      "└── 🔨 Created mount \n",
      "    c:\\Users\\VyomBhatt\\Documents\\Github\\Personal\\llm-engineering\\8-agentic-ai-u\n",
      "    sing-llms-capstone\\pricer_service2.py\n",
      "| Creating objects...\n",
      "└── 🔨 Created mount \n",
      "    c:\\Users\\VyomBhatt\\Documents\\Github\\Personal\\llm-engineering\\8-agentic-ai-u\n",
      "    sing-llms-capstone\\pricer_service2.py\n",
      "- Creating objects...\n",
      "└── 🔨 Created mount \n",
      "    c:\\Users\\VyomBhatt\\Documents\\Github\\Personal\\llm-engineering\\8-agentic-ai-u\n",
      "    sing-llms-capstone\\pricer_service2.py\n",
      "| Creating objects...\n",
      "└── 🔨 Created mount \n",
      "    c:\\Users\\VyomBhatt\\Documents\\Github\\Personal\\llm-engineering\\8-agentic-ai-u\n",
      "    sing-llms-capstone\\pricer_service2.py\n",
      "- Creating objects...\n",
      "└── 🔨 Created mount \n",
      "    c:\\Users\\VyomBhatt\\Documents\\Github\\Personal\\llm-engineering\\8-agentic-ai-u\n",
      "    sing-llms-capstone\\pricer_service2.py\n",
      "| Creating objects...\n",
      "└── 🔨 Created mount \n",
      "    c:\\Users\\VyomBhatt\\Documents\\Github\\Personal\\llm-engineering\\8-agentic-ai-u\n",
      "    sing-llms-capstone\\pricer_service2.py\n",
      "- Creating objects...\n",
      "└── 🔨 Created mount \n",
      "    c:\\Users\\VyomBhatt\\Documents\\Github\\Personal\\llm-engineering\\8-agentic-ai-u\n",
      "    sing-llms-capstone\\pricer_service2.py\n",
      "| Creating objects...\n",
      "└── 🔨 Created mount \n",
      "    c:\\Users\\VyomBhatt\\Documents\\Github\\Personal\\llm-engineering\\8-agentic-ai-u\n",
      "    sing-llms-capstone\\pricer_service2.py\n",
      "- Creating objects...\n",
      "└── 🔨 Created mount \n",
      "    c:\\Users\\VyomBhatt\\Documents\\Github\\Personal\\llm-engineering\\8-agentic-ai-u\n",
      "    sing-llms-capstone\\pricer_service2.py\n",
      "| Creating objects...\n",
      "└── 🔨 Created mount \n",
      "    c:\\Users\\VyomBhatt\\Documents\\Github\\Personal\\llm-engineering\\8-agentic-ai-u\n",
      "    sing-llms-capstone\\pricer_service2.py\n",
      "- Creating objects...\n",
      "└── 🔨 Created mount \n",
      "    c:\\Users\\VyomBhatt\\Documents\\Github\\Personal\\llm-engineering\\8-agentic-ai-u\n",
      "    sing-llms-capstone\\pricer_service2.py\n",
      "| Creating objects...\n",
      "└── 🔨 Created mount \n",
      "    c:\\Users\\VyomBhatt\\Documents\\Github\\Personal\\llm-engineering\\8-agentic-ai-u\n",
      "    sing-llms-capstone\\pricer_service2.py\n",
      "- Creating objects...\n",
      "└── 🔨 Created mount \n",
      "    c:\\Users\\VyomBhatt\\Documents\\Github\\Personal\\llm-engineering\\8-agentic-ai-u\n",
      "    sing-llms-capstone\\pricer_service2.py\n",
      "| Creating objects...\n",
      "└── 🔨 Created mount \n",
      "    c:\\Users\\VyomBhatt\\Documents\\Github\\Personal\\llm-engineering\\8-agentic-ai-u\n",
      "    sing-llms-capstone\\pricer_service2.py\n",
      "- Creating objects...\n",
      "└── 🔨 Created mount \n",
      "    c:\\Users\\VyomBhatt\\Documents\\Github\\Personal\\llm-engineering\\8-agentic-ai-u\n",
      "    sing-llms-capstone\\pricer_service2.py\n",
      "| Creating objects...\n",
      "└── 🔨 Created mount \n",
      "    c:\\Users\\VyomBhatt\\Documents\\Github\\Personal\\llm-engineering\\8-agentic-ai-u\n",
      "    sing-llms-capstone\\pricer_service2.py\n",
      "- Creating objects...\n",
      "└── 🔨 Created mount \n",
      "    c:\\Users\\VyomBhatt\\Documents\\Github\\Personal\\llm-engineering\\8-agentic-ai-u\n",
      "    sing-llms-capstone\\pricer_service2.py\n",
      "| Creating objects...\n",
      "└── 🔨 Created mount \n",
      "    c:\\Users\\VyomBhatt\\Documents\\Github\\Personal\\llm-engineering\\8-agentic-ai-u\n",
      "    sing-llms-capstone\\pricer_service2.py\n",
      "- Creating objects...\n",
      "└── 🔨 Created mount \n",
      "    c:\\Users\\VyomBhatt\\Documents\\Github\\Personal\\llm-engineering\\8-agentic-ai-u\n",
      "    sing-llms-capstone\\pricer_service2.py\n",
      "| Creating objects...\n",
      "└── 🔨 Created mount \n",
      "    c:\\Users\\VyomBhatt\\Documents\\Github\\Personal\\llm-engineering\\8-agentic-ai-u\n",
      "    sing-llms-capstone\\pricer_service2.py\n",
      "- Creating objects...\n",
      "└── 🔨 Created mount \n",
      "    c:\\Users\\VyomBhatt\\Documents\\Github\\Personal\\llm-engineering\\8-agentic-ai-u\n",
      "    sing-llms-capstone\\pricer_service2.py\n",
      "| Creating objects...\n",
      "└── 🔨 Created mount \n",
      "    c:\\Users\\VyomBhatt\\Documents\\Github\\Personal\\llm-engineering\\8-agentic-ai-u\n",
      "    sing-llms-capstone\\pricer_service2.py\n",
      "- Creating objects...\n",
      "└── 🔨 Created mount \n",
      "    c:\\Users\\VyomBhatt\\Documents\\Github\\Personal\\llm-engineering\\8-agentic-ai-u\n",
      "    sing-llms-capstone\\pricer_service2.py\n",
      "| Creating objects...\n",
      "└── 🔨 Created mount \n",
      "    c:\\Users\\VyomBhatt\\Documents\\Github\\Personal\\llm-engineering\\8-agentic-ai-u\n",
      "    sing-llms-capstone\\pricer_service2.py\n",
      "- Creating objects...\n",
      "└── 🔨 Created mount \n",
      "    c:\\Users\\VyomBhatt\\Documents\\Github\\Personal\\llm-engineering\\8-agentic-ai-u\n",
      "    sing-llms-capstone\\pricer_service2.py\n",
      "| Creating objects...\n",
      "└── 🔨 Created mount \n",
      "    c:\\Users\\VyomBhatt\\Documents\\Github\\Personal\\llm-engineering\\8-agentic-ai-u\n",
      "    sing-llms-capstone\\pricer_service2.py\n",
      "- Creating objects...\n",
      "└── 🔨 Created mount \n",
      "    c:\\Users\\VyomBhatt\\Documents\\Github\\Personal\\llm-engineering\\8-agentic-ai-u\n",
      "    sing-llms-capstone\\pricer_service2.py\n",
      "| Creating objects...\n",
      "└── 🔨 Created mount \n",
      "    c:\\Users\\VyomBhatt\\Documents\\Github\\Personal\\llm-engineering\\8-agentic-ai-u\n",
      "    sing-llms-capstone\\pricer_service2.py\n",
      "- Creating objects...\n",
      "└── 🔨 Created mount \n",
      "    c:\\Users\\VyomBhatt\\Documents\\Github\\Personal\\llm-engineering\\8-agentic-ai-u\n",
      "    sing-llms-capstone\\pricer_service2.py\n",
      "| Creating objects...\n",
      "└── 🔨 Created mount \n",
      "    c:\\Users\\VyomBhatt\\Documents\\Github\\Personal\\llm-engineering\\8-agentic-ai-u\n",
      "    sing-llms-capstone\\pricer_service2.py\n",
      "\\ Creating objects...\n",
      "└── 🔨 Created mount \n",
      "    c:\\Users\\VyomBhatt\\Documents\\Github\\Personal\\llm-engineering\\8-agentic-ai-u\n",
      "    sing-llms-capstone\\pricer_service2.py\n",
      "| Creating objects...\n",
      "└── 🔨 Created mount \n",
      "    c:\\Users\\VyomBhatt\\Documents\\Github\\Personal\\llm-engineering\\8-agentic-ai-u\n",
      "    sing-llms-capstone\\pricer_service2.py\n",
      "\\ Creating objects...\n",
      "└── 🔨 Created mount \n",
      "    c:\\Users\\VyomBhatt\\Documents\\Github\\Personal\\llm-engineering\\8-agentic-ai-u\n",
      "    sing-llms-capstone\\pricer_service2.py\n",
      "/ Creating objects...\n",
      "└── 🔨 Created mount \n",
      "    c:\\Users\\VyomBhatt\\Documents\\Github\\Personal\\llm-engineering\\8-agentic-ai-u\n",
      "    sing-llms-capstone\\pricer_service2.py\n",
      "\\ Creating objects...\n",
      "└── 🔨 Created mount \n",
      "    c:\\Users\\VyomBhatt\\Documents\\Github\\Personal\\llm-engineering\\8-agentic-ai-u\n",
      "    sing-llms-capstone\\pricer_service2.py\n",
      "/ Creating objects...\n",
      "└── 🔨 Created mount \n",
      "    c:\\Users\\VyomBhatt\\Documents\\Github\\Personal\\llm-engineering\\8-agentic-ai-u\n",
      "    sing-llms-capstone\\pricer_service2.py\n",
      "\\ Creating objects...\n",
      "└── 🔨 Created mount \n",
      "    c:\\Users\\VyomBhatt\\Documents\\Github\\Personal\\llm-engineering\\8-agentic-ai-u\n",
      "    sing-llms-capstone\\pricer_service2.py\n",
      "/ Creating objects...\n",
      "└── 🔨 Created mount \n",
      "    c:\\Users\\VyomBhatt\\Documents\\Github\\Personal\\llm-engineering\\8-agentic-ai-u\n",
      "    sing-llms-capstone\\pricer_service2.py\n",
      "\\ Creating objects...\n",
      "└── 🔨 Created mount \n",
      "    c:\\Users\\VyomBhatt\\Documents\\Github\\Personal\\llm-engineering\\8-agentic-ai-u\n",
      "    sing-llms-capstone\\pricer_service2.py\n",
      "/ Creating objects...\n",
      "└── 🔨 Created mount \n",
      "    c:\\Users\\VyomBhatt\\Documents\\Github\\Personal\\llm-engineering\\8-agentic-ai-u\n",
      "    sing-llms-capstone\\pricer_service2.py\n",
      "\\ Creating objects...\n",
      "└── 🔨 Created mount \n",
      "    c:\\Users\\VyomBhatt\\Documents\\Github\\Personal\\llm-engineering\\8-agentic-ai-u\n",
      "    sing-llms-capstone\\pricer_service2.py\n",
      "/ Creating objects...\n",
      "└── 🔨 Created mount \n",
      "    c:\\Users\\VyomBhatt\\Documents\\Github\\Personal\\llm-engineering\\8-agentic-ai-u\n",
      "    sing-llms-capstone\\pricer_service2.py\n",
      "\\ Creating objects...\n",
      "└── 🔨 Created mount \n",
      "    c:\\Users\\VyomBhatt\\Documents\\Github\\Personal\\llm-engineering\\8-agentic-ai-u\n",
      "    sing-llms-capstone\\pricer_service2.py\n",
      "/ Creating objects...\n",
      "└── 🔨 Created mount \n",
      "    c:\\Users\\VyomBhatt\\Documents\\Github\\Personal\\llm-engineering\\8-agentic-ai-u\n",
      "    sing-llms-capstone\\pricer_service2.py\n",
      "\\ Creating objects...\n",
      "└── 🔨 Created mount \n",
      "    c:\\Users\\VyomBhatt\\Documents\\Github\\Personal\\llm-engineering\\8-agentic-ai-u\n",
      "    sing-llms-capstone\\pricer_service2.py\n",
      "/ Creating objects...\n",
      "└── 🔨 Created mount \n",
      "    c:\\Users\\VyomBhatt\\Documents\\Github\\Personal\\llm-engineering\\8-agentic-ai-u\n",
      "    sing-llms-capstone\\pricer_service2.py\n",
      "\\ Creating objects...\n",
      "└── 🔨 Created mount \n",
      "    c:\\Users\\VyomBhatt\\Documents\\Github\\Personal\\llm-engineering\\8-agentic-ai-u\n",
      "    sing-llms-capstone\\pricer_service2.py\n",
      "/ Creating objects...\n",
      "└── 🔨 Created mount \n",
      "    c:\\Users\\VyomBhatt\\Documents\\Github\\Personal\\llm-engineering\\8-agentic-ai-u\n",
      "    sing-llms-capstone\\pricer_service2.py\n",
      "\\ Creating objects...\n",
      "└── 🔨 Created mount \n",
      "    c:\\Users\\VyomBhatt\\Documents\\Github\\Personal\\llm-engineering\\8-agentic-ai-u\n",
      "    sing-llms-capstone\\pricer_service2.py\n",
      "/ Creating objects...\n",
      "└── 🔨 Created mount \n",
      "    c:\\Users\\VyomBhatt\\Documents\\Github\\Personal\\llm-engineering\\8-agentic-ai-u\n",
      "    sing-llms-capstone\\pricer_service2.py\n",
      "\\ Creating objects...\n",
      "└── 🔨 Created mount \n",
      "    c:\\Users\\VyomBhatt\\Documents\\Github\\Personal\\llm-engineering\\8-agentic-ai-u\n",
      "    sing-llms-capstone\\pricer_service2.py\n",
      "/ Creating objects...\n",
      "└── 🔨 Created mount \n",
      "    c:\\Users\\VyomBhatt\\Documents\\Github\\Personal\\llm-engineering\\8-agentic-ai-u\n",
      "    sing-llms-capstone\\pricer_service2.py\n",
      "\\ Creating objects...\n",
      "└── 🔨 Created mount \n",
      "    c:\\Users\\VyomBhatt\\Documents\\Github\\Personal\\llm-engineering\\8-agentic-ai-u\n",
      "    sing-llms-capstone\\pricer_service2.py\n",
      "/ Creating objects...\n",
      "└── 🔨 Created mount \n",
      "    c:\\Users\\VyomBhatt\\Documents\\Github\\Personal\\llm-engineering\\8-agentic-ai-u\n",
      "    sing-llms-capstone\\pricer_service2.py\n",
      "\\ Creating objects...\n",
      "└── 🔨 Created mount \n",
      "    c:\\Users\\VyomBhatt\\Documents\\Github\\Personal\\llm-engineering\\8-agentic-ai-u\n",
      "    sing-llms-capstone\\pricer_service2.py\n",
      "/ Creating objects...\n",
      "└── 🔨 Created mount \n",
      "    c:\\Users\\VyomBhatt\\Documents\\Github\\Personal\\llm-engineering\\8-agentic-ai-u\n",
      "    sing-llms-capstone\\pricer_service2.py\n",
      "\\ Creating objects...\n",
      "└── 🔨 Created mount \n",
      "    c:\\Users\\VyomBhatt\\Documents\\Github\\Personal\\llm-engineering\\8-agentic-ai-u\n",
      "    sing-llms-capstone\\pricer_service2.py\n",
      "/ Creating objects...\n",
      "└── 🔨 Created mount \n",
      "    c:\\Users\\VyomBhatt\\Documents\\Github\\Personal\\llm-engineering\\8-agentic-ai-u\n",
      "    sing-llms-capstone\\pricer_service2.py\n",
      "\\ Creating objects...\n",
      "└── 🔨 Created mount \n",
      "    c:\\Users\\VyomBhatt\\Documents\\Github\\Personal\\llm-engineering\\8-agentic-ai-u\n",
      "    sing-llms-capstone\\pricer_service2.py\n",
      "/ Creating objects...\n",
      "└── 🔨 Created mount \n",
      "    c:\\Users\\VyomBhatt\\Documents\\Github\\Personal\\llm-engineering\\8-agentic-ai-u\n",
      "    sing-llms-capstone\\pricer_service2.py\n",
      "\\ Creating objects...\n",
      "└── 🔨 Created mount \n",
      "    c:\\Users\\VyomBhatt\\Documents\\Github\\Personal\\llm-engineering\\8-agentic-ai-u\n",
      "    sing-llms-capstone\\pricer_service2.py\n",
      "/ Creating objects...\n",
      "└── 🔨 Created mount \n",
      "    c:\\Users\\VyomBhatt\\Documents\\Github\\Personal\\llm-engineering\\8-agentic-ai-u\n",
      "    sing-llms-capstone\\pricer_service2.py\n",
      "\\ Creating objects...\n",
      "└── 🔨 Created mount \n",
      "    c:\\Users\\VyomBhatt\\Documents\\Github\\Personal\\llm-engineering\\8-agentic-ai-u\n",
      "    sing-llms-capstone\\pricer_service2.py\n",
      "/ Creating objects...\n",
      "└── 🔨 Created mount \n",
      "    c:\\Users\\VyomBhatt\\Documents\\Github\\Personal\\llm-engineering\\8-agentic-ai-u\n",
      "    sing-llms-capstone\\pricer_service2.py\n",
      "\\ Creating objects...\n",
      "└── 🔨 Created mount \n",
      "    c:\\Users\\VyomBhatt\\Documents\\Github\\Personal\\llm-engineering\\8-agentic-ai-u\n",
      "    sing-llms-capstone\\pricer_service2.py\n",
      "/ Creating objects...\n",
      "└── 🔨 Created mount \n",
      "    c:\\Users\\VyomBhatt\\Documents\\Github\\Personal\\llm-engineering\\8-agentic-ai-u\n",
      "    sing-llms-capstone\\pricer_service2.py\n",
      "\\ Creating objects...\n",
      "└── 🔨 Created mount \n",
      "    c:\\Users\\VyomBhatt\\Documents\\Github\\Personal\\llm-engineering\\8-agentic-ai-u\n",
      "    sing-llms-capstone\\pricer_service2.py\n",
      "/ Creating objects...\n",
      "└── 🔨 Created mount \n",
      "    c:\\Users\\VyomBhatt\\Documents\\Github\\Personal\\llm-engineering\\8-agentic-ai-u\n",
      "    sing-llms-capstone\\pricer_service2.py\n",
      "\\ Creating objects...\n",
      "└── 🔨 Created mount \n",
      "    c:\\Users\\VyomBhatt\\Documents\\Github\\Personal\\llm-engineering\\8-agentic-ai-u\n",
      "    sing-llms-capstone\\pricer_service2.py\n",
      "/ Creating objects...\n",
      "└── 🔨 Created mount \n",
      "    c:\\Users\\VyomBhatt\\Documents\\Github\\Personal\\llm-engineering\\8-agentic-ai-u\n",
      "    sing-llms-capstone\\pricer_service2.py\n",
      "\\ Creating objects...\n",
      "└── 🔨 Created mount \n",
      "    c:\\Users\\VyomBhatt\\Documents\\Github\\Personal\\llm-engineering\\8-agentic-ai-u\n",
      "    sing-llms-capstone\\pricer_service2.py\n",
      "/ Creating objects...\n",
      "└── 🔨 Created mount \n",
      "    c:\\Users\\VyomBhatt\\Documents\\Github\\Personal\\llm-engineering\\8-agentic-ai-u\n",
      "    sing-llms-capstone\\pricer_service2.py\n",
      "\\ Creating objects...\n",
      "└── 🔨 Created mount \n",
      "    c:\\Users\\VyomBhatt\\Documents\\Github\\Personal\\llm-engineering\\8-agentic-ai-u\n",
      "    sing-llms-capstone\\pricer_service2.py\n",
      "/ Creating objects...\n",
      "└── 🔨 Created mount \n",
      "    c:\\Users\\VyomBhatt\\Documents\\Github\\Personal\\llm-engineering\\8-agentic-ai-u\n",
      "    sing-llms-capstone\\pricer_service2.py\n",
      "\\ Creating objects...\n",
      "└── 🔨 Created mount \n",
      "    c:\\Users\\VyomBhatt\\Documents\\Github\\Personal\\llm-engineering\\8-agentic-ai-u\n",
      "    sing-llms-capstone\\pricer_service2.py\n",
      "/ Creating objects...\n",
      "└── 🔨 Created mount \n",
      "    c:\\Users\\VyomBhatt\\Documents\\Github\\Personal\\llm-engineering\\8-agentic-ai-u\n",
      "    sing-llms-capstone\\pricer_service2.py\n",
      "\\ Creating objects...\n",
      "└── 🔨 Created mount \n",
      "    c:\\Users\\VyomBhatt\\Documents\\Github\\Personal\\llm-engineering\\8-agentic-ai-u\n",
      "    sing-llms-capstone\\pricer_service2.py\n",
      "/ Creating objects...\n",
      "└── 🔨 Created mount \n",
      "    c:\\Users\\VyomBhatt\\Documents\\Github\\Personal\\llm-engineering\\8-agentic-ai-u\n",
      "    sing-llms-capstone\\pricer_service2.py\n",
      "\\ Creating objects...\n",
      "└── 🔨 Created mount \n",
      "    c:\\Users\\VyomBhatt\\Documents\\Github\\Personal\\llm-engineering\\8-agentic-ai-u\n",
      "    sing-llms-capstone\\pricer_service2.py\n",
      "/ Creating objects...\n",
      "└── 🔨 Created mount \n",
      "    c:\\Users\\VyomBhatt\\Documents\\Github\\Personal\\llm-engineering\\8-agentic-ai-u\n",
      "    sing-llms-capstone\\pricer_service2.py\n",
      "\\ Creating objects...\n",
      "└── 🔨 Created mount \n",
      "    c:\\Users\\VyomBhatt\\Documents\\Github\\Personal\\llm-engineering\\8-agentic-ai-u\n",
      "    sing-llms-capstone\\pricer_service2.py\n",
      "/ Creating objects...\n",
      "└── 🔨 Created mount \n",
      "    c:\\Users\\VyomBhatt\\Documents\\Github\\Personal\\llm-engineering\\8-agentic-ai-u\n",
      "    sing-llms-capstone\\pricer_service2.py\n",
      "\\ Creating objects...\n",
      "└── 🔨 Created mount \n",
      "    c:\\Users\\VyomBhatt\\Documents\\Github\\Personal\\llm-engineering\\8-agentic-ai-u\n",
      "    sing-llms-capstone\\pricer_service2.py\n",
      "- Creating objects...\n",
      "└── 🔨 Created mount \n",
      "    c:\\Users\\VyomBhatt\\Documents\\Github\\Personal\\llm-engineering\\8-agentic-ai-u\n",
      "    sing-llms-capstone\\pricer_service2.py\n",
      "\\ Creating objects...\n",
      "└── 🔨 Created mount \n",
      "    c:\\Users\\VyomBhatt\\Documents\\Github\\Personal\\llm-engineering\\8-agentic-ai-u\n",
      "    sing-llms-capstone\\pricer_service2.py\n",
      "Successfully installed MarkupSafe-3.0.2 accelerate-1.10.0 bitsandbytes-0.46.1 charset_normalizer-3.4.3 filelock-3.18.0 fsspec-2025.7.0 hf-xet-1.1.7 huggingface-0.0.1 huggingface_hub-0.34.4 jinja2-3.1.6 mpmath-1.3.0 networkx-3.5 numpy-2.3.2 nvidia-cublas-cu12-12.8.4.1 nvidia-cuda-cupti-cu12-12.8.90 nvidia-cuda-nvrtc-cu12-12.8.93 nvidia-cuda-runtime-cu12-12.8.90 nvidia-cudnn-cu12-9.10.2.21 nvidia-cufft-cu12-11.3.3.83 nvidia-cufile-cu12-1.13.1.3 nvidia-curand-cu12-10.3.9.90 nvidia-cusolver-cu12-11.7.3.90 nvidia-cusparse-cu12-12.5.8.93 nvidia-cusparselt-cu12-0.7.1 nvidia-nccl-cu12-2.27.3 nvidia-nvjitlink-cu12-12.8.93 nvidia-nvtx-cu12-12.8.90 packaging-25.0 peft-0.17.0 psutil-7.0.0 pyyaml-6.0.2 regex-2025.7.34 requests-2.32.4 safetensors-0.6.2 sympy-1.14.0 tokenizers-0.21.4 torch-2.8.0 tqdm-4.67.1 transformers-4.55.0 triton-3.4.0 urllib3-2.5.0\n",
      "/ Creating objects...\n",
      "└── 🔨 Created mount c:\\Users\\VyomBhatt\\Documents\\Github\\Personal\\llm-engineeri\n",
      "\n",
      "[notice] A new release of pip is available: 24.3.1 -> 25.2\n",
      "[notice] To update, run: pip install --upgrade pip\n",
      "/ Creating objects...\n",
      "└── 🔨 Created mount c:\\Users\\VyomBhatt\\Documents\\Github\\Personal\\llm-engineeri\n",
      "/ Creating objects...\n",
      "└── 🔨 Created mount \n",
      "    c:\\Users\\VyomBhatt\\Documents\\Github\\Personal\\llm-engineering\\8-agentic-ai-u\n",
      "    sing-llms-capstone\\pricer_service2.py\n",
      "\\ Creating objects...\n",
      "└── 🔨 Created mount \n",
      "    c:\\Users\\VyomBhatt\\Documents\\Github\\Personal\\llm-engineering\\8-agentic-ai-u\n",
      "    sing-llms-capstone\\pricer_service2.py\n",
      "/ Creating objects...\n",
      "└── 🔨 Created mount \n",
      "    c:\\Users\\VyomBhatt\\Documents\\Github\\Personal\\llm-engineering\\8-agentic-ai-u\n",
      "    sing-llms-capstone\\pricer_service2.py\n",
      "\\ Creating objects...\n",
      "└── 🔨 Created mount \n",
      "    c:\\Users\\VyomBhatt\\Documents\\Github\\Personal\\llm-engineering\\8-agentic-ai-u\n",
      "    sing-llms-capstone\\pricer_service2.py\n",
      "- Creating objects...\n",
      "└── 🔨 Created mount \n",
      "    c:\\Users\\VyomBhatt\\Documents\\Github\\Personal\\llm-engineering\\8-agentic-ai-u\n",
      "    sing-llms-capstone\\pricer_service2.py\n",
      "\\ Creating objects...\n",
      "└── 🔨 Created mount \n",
      "    c:\\Users\\VyomBhatt\\Documents\\Github\\Personal\\llm-engineering\\8-agentic-ai-u\n",
      "    sing-llms-capstone\\pricer_service2.py\n",
      "/ Creating objects...\n",
      "└── 🔨 Created mount \n",
      "    c:\\Users\\VyomBhatt\\Documents\\Github\\Personal\\llm-engineering\\8-agentic-ai-u\n",
      "    sing-llms-capstone\\pricer_service2.py\n",
      "| Creating objects...\n",
      "└── 🔨 Created mount \n",
      "    c:\\Users\\VyomBhatt\\Documents\\Github\\Personal\\llm-engineering\\8-agentic-ai-u\n",
      "    sing-llms-capstone\\pricer_service2.py\n",
      "/ Creating objects...\n",
      "└── 🔨 Created mount \n",
      "    c:\\Users\\VyomBhatt\\Documents\\Github\\Personal\\llm-engineering\\8-agentic-ai-u\n",
      "    sing-llms-capstone\\pricer_service2.py\n",
      "| Creating objects...\n",
      "└── 🔨 Created mount \n",
      "    c:\\Users\\VyomBhatt\\Documents\\Github\\Personal\\llm-engineering\\8-agentic-ai-u\n",
      "    sing-llms-capstone\\pricer_service2.py\n",
      "- Creating objects...\n",
      "└── 🔨 Created mount \n",
      "    c:\\Users\\VyomBhatt\\Documents\\Github\\Personal\\llm-engineering\\8-agentic-ai-u\n",
      "    sing-llms-capstone\\pricer_service2.py\n",
      "Saving image...\n",
      "- Creating objects...\n",
      "└── 🔨 Created mount c:\\Users\\VyomBhatt\\Documents\\Github\\Personal\\llm-engineeri\n",
      "| Creating objects...\n",
      "└── 🔨 Created mount \n",
      "    c:\\Users\\VyomBhatt\\Documents\\Github\\Personal\\llm-engineering\\8-agentic-ai-u\n",
      "    sing-llms-capstone\\pricer_service2.py\n",
      "- Creating objects...\n",
      "└── 🔨 Created mount \n",
      "    c:\\Users\\VyomBhatt\\Documents\\Github\\Personal\\llm-engineering\\8-agentic-ai-u\n",
      "    sing-llms-capstone\\pricer_service2.py\n",
      "| Creating objects...\n",
      "└── 🔨 Created mount \n",
      "    c:\\Users\\VyomBhatt\\Documents\\Github\\Personal\\llm-engineering\\8-agentic-ai-u\n",
      "    sing-llms-capstone\\pricer_service2.py\n",
      "- Creating objects...\n",
      "└── 🔨 Created mount \n",
      "    c:\\Users\\VyomBhatt\\Documents\\Github\\Personal\\llm-engineering\\8-agentic-ai-u\n",
      "    sing-llms-capstone\\pricer_service2.py\n",
      "| Creating objects...\n",
      "└── 🔨 Created mount \n",
      "    c:\\Users\\VyomBhatt\\Documents\\Github\\Personal\\llm-engineering\\8-agentic-ai-u\n",
      "    sing-llms-capstone\\pricer_service2.py\n",
      "- Creating objects...\n",
      "└── 🔨 Created mount \n",
      "    c:\\Users\\VyomBhatt\\Documents\\Github\\Personal\\llm-engineering\\8-agentic-ai-u\n",
      "    sing-llms-capstone\\pricer_service2.py\n",
      "Uploading image snapshot… ---------------------------- ----- 6.0/7.2 GB 0:00:00\n",
      "| Creating objects...\n",
      "└── 🔨 Created mount \n",
      "    c:\\Users\\VyomBhatt\\Documents\\Github\\Personal\\llm-engineering\\8-agentic-ai-u\n",
      "    sing-llms-capstone\\pricer_service2.py\n",
      "Uploading image snapshot… ---------------------------------  7.2/7.2 GB 0:00:00\n",
      "- Creating objects...\n",
      "└── 🔨 Created mount \n",
      "    c:\\Users\\VyomBhatt\\Documents\\Github\\Personal\\llm-engineering\\8-agentic-ai-u\n",
      "    sing-llms-capstone\\pricer_service2.py\n",
      "Uploading image snapshot… ---------------------------------  7.2/7.2 GB 0:00:00\n",
      "| Creating objects...\n",
      "└── 🔨 Created mount \n",
      "    c:\\Users\\VyomBhatt\\Documents\\Github\\Personal\\llm-engineering\\8-agentic-ai-u\n",
      "    sing-llms-capstone\\pricer_service2.py\n",
      "Uploading image snapshot… ---------------------------------  7.2/7.2 GB 0:00:00\n",
      "- Creating objects...\n",
      "└── 🔨 Created mount \n",
      "    c:\\Users\\VyomBhatt\\Documents\\Github\\Personal\\llm-engineering\\8-agentic-ai-u\n",
      "    sing-llms-capstone\\pricer_service2.py\n",
      "| Creating objects...\n",
      "└── 🔨 Created mount \n",
      "    c:\\Users\\VyomBhatt\\Documents\\Github\\Personal\\llm-engineering\\8-agentic-ai-u\n",
      "    sing-llms-capstone\\pricer_service2.py\n",
      "- Creating objects...\n",
      "└── 🔨 Created mount \n",
      "    c:\\Users\\VyomBhatt\\Documents\\Github\\Personal\\llm-engineering\\8-agentic-ai-u\n",
      "    sing-llms-capstone\\pricer_service2.py\n",
      "| Creating objects...\n",
      "└── 🔨 Created mount \n",
      "    c:\\Users\\VyomBhatt\\Documents\\Github\\Personal\\llm-engineering\\8-agentic-ai-u\n",
      "    sing-llms-capstone\\pricer_service2.py\n",
      "- Creating objects...\n",
      "└── 🔨 Created mount \n",
      "    c:\\Users\\VyomBhatt\\Documents\\Github\\Personal\\llm-engineering\\8-agentic-ai-u\n",
      "    sing-llms-capstone\\pricer_service2.py\n",
      "| Creating objects...\n",
      "└── 🔨 Created mount \n",
      "    c:\\Users\\VyomBhatt\\Documents\\Github\\Personal\\llm-engineering\\8-agentic-ai-u\n",
      "    sing-llms-capstone\\pricer_service2.py\n",
      "- Creating objects...\n",
      "└── 🔨 Created mount \n",
      "    c:\\Users\\VyomBhatt\\Documents\\Github\\Personal\\llm-engineering\\8-agentic-ai-u\n",
      "    sing-llms-capstone\\pricer_service2.py\n",
      "| Creating objects...\n",
      "└── 🔨 Created mount \n",
      "    c:\\Users\\VyomBhatt\\Documents\\Github\\Personal\\llm-engineering\\8-agentic-ai-u\n",
      "    sing-llms-capstone\\pricer_service2.py\n",
      "- Creating objects...\n",
      "└── 🔨 Created mount \n",
      "    c:\\Users\\VyomBhatt\\Documents\\Github\\Personal\\llm-engineering\\8-agentic-ai-u\n",
      "    sing-llms-capstone\\pricer_service2.py\n",
      "| Creating objects...\n",
      "└── 🔨 Created mount \n",
      "    c:\\Users\\VyomBhatt\\Documents\\Github\\Personal\\llm-engineering\\8-agentic-ai-u\n",
      "    sing-llms-capstone\\pricer_service2.py\n",
      "Image saved, took 5.37s\n",
      "- Creating objects...\n",
      "└── 🔨 Created mount c:\\Users\\VyomBhatt\\Documents\\Github\\Personal\\llm-engineeri\n",
      "- Creating objects...\n",
      "└── 🔨 Created mount \n",
      "    c:\\Users\\VyomBhatt\\Documents\\Github\\Personal\\llm-engineering\\8-agentic-ai-u\n",
      "    sing-llms-capstone\\pricer_service2.py\n",
      "\n",
      "Built image im-aXKUHw0zpQ6YEuL2qawI52 in 100.85s\n",
      "\n",
      "\n",
      "- Creating objects...\n",
      "└── 🔨 Created mount c:\\Users\\VyomBhatt\\Documents\\Github\\Personal\\llm-engineeri\n",
      "| Creating objects...\n",
      "└── 🔨 Created mount \n",
      "    c:\\Users\\VyomBhatt\\Documents\\Github\\Personal\\llm-engineering\\8-agentic-ai-u\n",
      "    sing-llms-capstone\\pricer_service2.py\n",
      "- Creating objects...\n",
      "└── 🔨 Created mount \n",
      "    c:\\Users\\VyomBhatt\\Documents\\Github\\Personal\\llm-engineering\\8-agentic-ai-u\n",
      "    sing-llms-capstone\\pricer_service2.py\n",
      "| Creating objects...\n",
      "└── 🔨 Created mount \n",
      "    c:\\Users\\VyomBhatt\\Documents\\Github\\Personal\\llm-engineering\\8-agentic-ai-u\n",
      "    sing-llms-capstone\\pricer_service2.py\n",
      "- Creating objects...\n",
      "└── 🔨 Created mount \n",
      "    c:\\Users\\VyomBhatt\\Documents\\Github\\Personal\\llm-engineering\\8-agentic-ai-u\n",
      "    sing-llms-capstone\\pricer_service2.py\n",
      "| Creating objects...\n",
      "└── 🔨 Created mount \n",
      "    c:\\Users\\VyomBhatt\\Documents\\Github\\Personal\\llm-engineering\\8-agentic-ai-u\n",
      "    sing-llms-capstone\\pricer_service2.py\n",
      "- Creating objects...\n",
      "└── 🔨 Created mount \n",
      "    c:\\Users\\VyomBhatt\\Documents\\Github\\Personal\\llm-engineering\\8-agentic-ai-u\n",
      "    sing-llms-capstone\\pricer_service2.py\n",
      "| Creating objects...\n",
      "└── 🔨 Created mount \n",
      "    c:\\Users\\VyomBhatt\\Documents\\Github\\Personal\\llm-engineering\\8-agentic-ai-u\n",
      "    sing-llms-capstone\\pricer_service2.py\n",
      "- Creating objects...\n",
      "└── 🔨 Created mount \n",
      "    c:\\Users\\VyomBhatt\\Documents\\Github\\Personal\\llm-engineering\\8-agentic-ai-u\n",
      "    sing-llms-capstone\\pricer_service2.py\n",
      "| Creating objects...\n",
      "└── 🔨 Created mount \n",
      "    c:\\Users\\VyomBhatt\\Documents\\Github\\Personal\\llm-engineering\\8-agentic-ai-u\n",
      "    sing-llms-capstone\\pricer_service2.py\n",
      "- Creating objects...\n",
      "└── 🔨 Created mount \n",
      "    c:\\Users\\VyomBhatt\\Documents\\Github\\Personal\\llm-engineering\\8-agentic-ai-u\n",
      "    sing-llms-capstone\\pricer_service2.py\n",
      "Building image im-kM0o7bVxYuXZg3SE9WY4Pg\n",
      "| Creating objects...\n",
      "└── 🔨 Created mount c:\\Users\\VyomBhatt\\Documents\\Github\\Personal\\llm-engineeri\n",
      "\n",
      "=> Step 0: FROM base\n",
      "| Creating objects...\n",
      "└── 🔨 Created mount c:\\Users\\VyomBhatt\\Documents\\Github\\Personal\\llm-engineeri\n",
      "\n",
      "=> Step 1: ENV HF_HUB_CACHE=/cache\n",
      "| Creating objects...\n",
      "└── 🔨 Created mount c:\\Users\\VyomBhatt\\Documents\\Github\\Personal\\llm-engineeri\n",
      "| Creating objects...\n",
      "└── 🔨 Created mount \n",
      "    c:\\Users\\VyomBhatt\\Documents\\Github\\Personal\\llm-engineering\\8-agentic-ai-u\n",
      "    sing-llms-capstone\\pricer_service2.py\n",
      "- Creating objects...\n",
      "└── 🔨 Created mount \n",
      "    c:\\Users\\VyomBhatt\\Documents\\Github\\Personal\\llm-engineering\\8-agentic-ai-u\n",
      "    sing-llms-capstone\\pricer_service2.py\n",
      "| Creating objects...\n",
      "└── 🔨 Created mount \n",
      "    c:\\Users\\VyomBhatt\\Documents\\Github\\Personal\\llm-engineering\\8-agentic-ai-u\n",
      "    sing-llms-capstone\\pricer_service2.py\n",
      "Saving image...\n",
      "/ Creating objects...\n",
      "└── 🔨 Created mount c:\\Users\\VyomBhatt\\Documents\\Github\\Personal\\llm-engineeri\n",
      "- Creating objects...\n",
      "└── 🔨 Created mount \n",
      "    c:\\Users\\VyomBhatt\\Documents\\Github\\Personal\\llm-engineering\\8-agentic-ai-u\n",
      "    sing-llms-capstone\\pricer_service2.py\n",
      "| Creating objects...\n",
      "└── 🔨 Created mount \n",
      "    c:\\Users\\VyomBhatt\\Documents\\Github\\Personal\\llm-engineering\\8-agentic-ai-u\n",
      "    sing-llms-capstone\\pricer_service2.py\n",
      "Image saved, took 584.65ms\n",
      "- Creating objects...\n",
      "└── 🔨 Created mount c:\\Users\\VyomBhatt\\Documents\\Github\\Personal\\llm-engineeri\n",
      "- Creating objects...\n",
      "└── 🔨 Created mount \n",
      "    c:\\Users\\VyomBhatt\\Documents\\Github\\Personal\\llm-engineering\\8-agentic-ai-u\n",
      "    sing-llms-capstone\\pricer_service2.py\n",
      "\n",
      "Built image im-kM0o7bVxYuXZg3SE9WY4Pg in 1.64s\n",
      "\n",
      "\n",
      "- Creating objects...\n",
      "└── 🔨 Created mount c:\\Users\\VyomBhatt\\Documents\\Github\\Personal\\llm-engineeri\n",
      "| Creating objects...\n",
      "├── 🔨 Created mount \n",
      "│   c:\\Users\\VyomBhatt\\Documents\\Github\\Personal\\llm-engineering\\8-agentic-ai-u\n",
      "│   sing-llms-capstone\\pricer_service2.py\n",
      "└── - Creating function Pricer.*...\n",
      "- Creating objects...\n",
      "├── 🔨 Created mount \n",
      "│   c:\\Users\\VyomBhatt\\Documents\\Github\\Personal\\llm-engineering\\8-agentic-ai-u\n",
      "│   sing-llms-capstone\\pricer_service2.py\n",
      "└── \\ Creating function Pricer.*...\n",
      "| Creating objects...\n",
      "├── 🔨 Created mount \n",
      "│   c:\\Users\\VyomBhatt\\Documents\\Github\\Personal\\llm-engineering\\8-agentic-ai-u\n",
      "│   sing-llms-capstone\\pricer_service2.py\n",
      "└── 🔨 Created function Pricer.*.\n",
      "- Creating objects...\n",
      "├── 🔨 Created mount \n",
      "│   c:\\Users\\VyomBhatt\\Documents\\Github\\Personal\\llm-engineering\\8-agentic-ai-u\n",
      "│   sing-llms-capstone\\pricer_service2.py\n",
      "└── 🔨 Created function Pricer.*.\n",
      "\\ Creating objects...\n",
      "├── 🔨 Created mount \n",
      "│   c:\\Users\\VyomBhatt\\Documents\\Github\\Personal\\llm-engineering\\8-agentic-ai-u\n",
      "│   sing-llms-capstone\\pricer_service2.py\n",
      "└── 🔨 Created function Pricer.*.\n",
      "\n",
      "✓ Created objects.\n",
      "├── 🔨 Created mount \n",
      "│   c:\\Users\\VyomBhatt\\Documents\\Github\\Personal\\llm-engineering\\8-agentic-ai-u\n",
      "│   sing-llms-capstone\\pricer_service2.py\n",
      "└── 🔨 Created function Pricer.*.\n",
      "✓ App deployed in 110.104s! 🎉\n",
      "\n",
      "View Deployment: \n",
      "https://modal.com/apps/vyom-bhatt-37/main/deployed/pricer-service\n"
     ]
    }
   ],
   "source": [
    "# You can also run \"modal deploy -m pricer_service2\" at the command line in an activated environment\n",
    "\n",
    "!modal deploy -m pricer_service2"
   ]
  },
  {
   "cell_type": "code",
   "execution_count": 3,
   "id": "9e19daeb-1281-484b-9d2f-95cc6fed2622",
   "metadata": {},
   "outputs": [
    {
     "name": "stdout",
     "output_type": "stream",
     "text": [
      "133.0\n"
     ]
    }
   ],
   "source": [
    "Pricer = modal.Cls.from_name(\"pricer-service\", \"Pricer\")\n",
    "pricer = Pricer()\n",
    "reply = pricer.price.remote(\"Quadcast HyperX condenser mic, connects via usb-c to your computer for crystal clear audio\")\n",
    "print(reply)"
   ]
  },
  {
   "cell_type": "markdown",
   "id": "9c1b1451-6249-4462-bf2d-5937c059926c",
   "metadata": {},
   "source": [
    "# Optional: Keeping Modal warm\n",
    "\n",
    "## A way to improve the speed of the Modal pricer service\n",
    "\n",
    "The first time you run this modal class, it might take as much as 10 minutes to build.  \n",
    "Subsequently it should be much faster.. 30 seconds if it needs to wake up, otherwise 2 seconds.  \n",
    "If you want it to always be 2 seconds, you can keep the container from going to sleep by editing this constant in pricer_service2.py:\n",
    "\n",
    "`MIN_CONTAINERS = 0`\n",
    "\n",
    "Make it 1 to keep a container alive.  \n",
    "But please note: this will eat up credits! Only do this if you are comfortable to have a process running continually.\n"
   ]
  },
  {
   "cell_type": "markdown",
   "id": "3754cfdd-ae28-47c8-91f2-6e060e2c91b3",
   "metadata": {},
   "source": [
    "## And now introducing our Agent class"
   ]
  },
  {
   "cell_type": "code",
   "execution_count": 4,
   "id": "ba9aedca-6a7b-4d30-9f64-59d76f76fb6d",
   "metadata": {},
   "outputs": [],
   "source": [
    "from agents.specialist_agent import SpecialistAgent"
   ]
  },
  {
   "cell_type": "code",
   "execution_count": 5,
   "id": "fe5843e5-e958-4a65-8326-8f5b4686de7f",
   "metadata": {},
   "outputs": [
    {
     "data": {
      "text/plain": [
       "299.0"
      ]
     },
     "execution_count": 5,
     "metadata": {},
     "output_type": "execute_result"
    }
   ],
   "source": [
    "agent = SpecialistAgent()\n",
    "agent.price(\"iPad Pro 2nd generation\")"
   ]
  },
  {
   "cell_type": "code",
   "execution_count": null,
   "id": "f5a3181b-1310-4102-8d7d-52caf4c00538",
   "metadata": {},
   "outputs": [],
   "source": []
  }
 ],
 "metadata": {
  "kernelspec": {
   "display_name": "llms",
   "language": "python",
   "name": "python3"
  },
  "language_info": {
   "codemirror_mode": {
    "name": "ipython",
    "version": 3
   },
   "file_extension": ".py",
   "mimetype": "text/x-python",
   "name": "python",
   "nbconvert_exporter": "python",
   "pygments_lexer": "ipython3",
   "version": "3.11.13"
  }
 },
 "nbformat": 4,
 "nbformat_minor": 5
}
