{
 "cells": [
  {
   "cell_type": "markdown",
   "id": "6e9fa1fc-eac5-4d1d-9be4-541b3f2b3458",
   "metadata": {},
   "source": [
    "### EXERCISE ASSIGNMENT\n",
    "\n",
    "Upgrade the day 1 project to summarize a webpage to use an Open Source model running locally via Ollama rather than OpenAI\n",
    "\n",
    "You'll be able to use this technique for all subsequent projects if you'd prefer not to use paid APIs.\n",
    "\n",
    "**Benefits:**\n",
    "1. No API charges - open-source\n",
    "2. Data doesn't leave your box\n",
    "\n",
    "**Disadvantages:**\n",
    "1. Significantly less power than Frontier Model\n",
    "\n",
    "### Recap on installation of Ollama\n",
    "\n",
    "Simply visit [ollama.com](https://ollama.com) and install!\n",
    "\n",
    "Once complete, the ollama server should already be running locally.  \n",
    "If you visit:  \n",
    "[http://localhost:11434/](http://localhost:11434/)\n",
    "\n",
    "You should see the message `Ollama is running`.  \n",
    "\n",
    "If not, bring up a new Terminal (Mac) or Powershell (Windows) and enter `ollama serve`  \n",
    "And in another Terminal (Mac) or Powershell (Windows), enter `ollama pull llama3.2`  \n",
    "Then try [http://localhost:11434/](http://localhost:11434/) again.\n",
    "\n",
    "If Ollama is slow on your machine, try using `llama3.2:1b` as an alternative. Run `ollama pull llama3.2:1b` from a Terminal or Powershell, and change the code below from `MODEL = \"llama3.2\"` to `MODEL = \"llama3.2:1b\"`"
   ]
  },
  {
   "cell_type": "code",
   "execution_count": 1,
   "id": "4e2a9393-7767-488e-a8bf-27c12dca35bd",
   "metadata": {},
   "outputs": [],
   "source": [
    "# imports\n",
    "\n",
    "import requests\n",
    "from bs4 import BeautifulSoup\n",
    "from IPython.display import Markdown, display"
   ]
  },
  {
   "cell_type": "code",
   "execution_count": 9,
   "id": "ac351ffd",
   "metadata": {},
   "outputs": [],
   "source": [
    "# Constants\n",
    "\n",
    "OLLAMA_API = \"http://localhost:11434/api/chat\"\n",
    "HEADERS = {\"Content-Type\": \"application/json\"}\n",
    "MODEL = \"llama3\""
   ]
  },
  {
   "cell_type": "code",
   "execution_count": 10,
   "id": "dac0a679-599c-441f-9bf2-ddc73d35b940",
   "metadata": {},
   "outputs": [],
   "source": [
    "# Create a messages list using the same format that we used for OpenAI\n",
    "\n",
    "messages = [\n",
    "    {\"role\": \"user\", \"content\": \"Describe some of the business applications of Generative AI\"}\n",
    "]"
   ]
  },
  {
   "cell_type": "code",
   "execution_count": 11,
   "id": "7bb9c624-14f0-4945-a719-8ddb64f66f47",
   "metadata": {},
   "outputs": [],
   "source": [
    "payload = {\n",
    "        \"model\": MODEL,\n",
    "        \"messages\": messages,\n",
    "        \"stream\": False\n",
    "    }"
   ]
  },
  {
   "cell_type": "code",
   "execution_count": 12,
   "id": "42b9f644-522d-4e05-a691-56e7658c0ea9",
   "metadata": {},
   "outputs": [
    {
     "name": "stdout",
     "output_type": "stream",
     "text": [
      "Generative AI has numerous business applications across various industries. Here are some examples:\n",
      "\n",
      "1. **Content Generation**: Generative AI can be used to generate high-quality content, such as articles, blog posts, social media posts, and even entire books. This can help businesses reduce their content creation costs and increase their online presence.\n",
      "2. **Product Design**: Generative AI can assist in the design of new products by generating ideas, concepts, and designs. This can help businesses create innovative products faster and more efficiently.\n",
      "3. **Marketing Automation**: Generative AI can be used to automate marketing tasks such as email campaigns, social media posts, and chatbot conversations. This can help businesses personalize their marketing efforts and improve customer engagement.\n",
      "4. **Customer Service**: Generative AI-powered chatbots can provide 24/7 customer support, answering frequent questions and resolving simple issues. This can help businesses reduce their customer service costs and improve customer satisfaction.\n",
      "5. **Data Analysis**: Generative AI can be used to analyze large datasets and generate insights, predictions, and recommendations. This can help businesses make data-driven decisions and optimize their operations.\n",
      "6. **Virtual Assistants**: Generative AI-powered virtual assistants can help businesses automate routine tasks, such as scheduling appointments, sending emails, and making phone calls. This can help businesses increase productivity and reduce errors.\n",
      "7. **Predictive Maintenance**: Generative AI can be used to predict when equipment or machinery is likely to fail, allowing businesses to schedule maintenance and avoid costly downtime.\n",
      "8. **Supply Chain Optimization**: Generative AI can help optimize supply chain operations by predicting demand, identifying bottlenecks, and optimizing logistics and transportation routes.\n",
      "9. **Financial Forecasting**: Generative AI-powered models can analyze financial data and generate forecasts, helping businesses make informed investment decisions and manage risk.\n",
      "10. **Cybersecurity**: Generative AI can be used to detect and respond to cyber threats by analyzing network traffic patterns and generating alerts when suspicious activity is detected.\n",
      "11. **Healthcare**: Generative AI can help with medical imaging analysis, disease diagnosis, and personalized treatment planning. It can also assist in clinical trial design and patient recruitment.\n",
      "12. **Education**: Generative AI-powered systems can help personalize learning experiences for students, generate interactive lessons, and provide feedback on student performance.\n",
      "13. **HR Management**: Generative AI-powered systems can help with employee recruitment, talent management, and performance evaluation. It can also assist in creating personalized training programs.\n",
      "14. **Retail**: Generative AI-powered systems can help with product recommendations, inventory management, and pricing optimization. It can also assist in generating targeted marketing campaigns.\n",
      "15. **Real Estate**: Generative AI-powered systems can help with property valuation, market trend analysis, and predictive modeling for real estate development.\n",
      "\n",
      "These are just a few examples of the many business applications of generative AI. As the technology continues to evolve, we can expect to see even more innovative uses across various industries.\n"
     ]
    }
   ],
   "source": [
    "response = requests.post(OLLAMA_API, json=payload, headers=HEADERS)\n",
    "print(response.json()['message']['content'])"
   ]
  },
  {
   "cell_type": "markdown",
   "id": "6a021f13-d6a1-4b96-8e18-4eae49d876fe",
   "metadata": {},
   "source": [
    "### Introducing the ollama package\n",
    "\n",
    "And now we'll do the same thing, but using the elegant ollama python package instead of a direct HTTP call.\n",
    "\n",
    "Under the hood, it's making the same call as above to the ollama server running at localhost:11434"
   ]
  },
  {
   "cell_type": "code",
   "execution_count": 13,
   "id": "7745b9c4-57dc-4867-9180-61fa5db55eb8",
   "metadata": {},
   "outputs": [
    {
     "name": "stdout",
     "output_type": "stream",
     "text": [
      "Generative AI, specifically generative models like GANs (Generative Adversarial Networks) and VAEs (Variational Autoencoders), have numerous business applications across various industries. Here are some examples:\n",
      "\n",
      "1. **Content Generation**: Generate high-quality content, such as product descriptions, social media posts, or blog articles, using AI-powered templates.\n",
      "\t* Use case: E-commerce companies can use generative models to create personalized product descriptions for their websites.\n",
      "2. **Customer Service Chatbots**: Train chatbots to respond to customer inquiries and provide personalized support by generating human-like text.\n",
      "\t* Use case: Retailers like Amazon can integrate generative AI-powered chatbots into their customer service platforms.\n",
      "3. **Data Augmentation**: Enrich existing data by generating synthetic samples, increasing the size of datasets, and improving model performance.\n",
      "\t* Use case: Financial institutions can use generative models to generate synthetic transaction data for training predictive models.\n",
      "4. **Product Design and Development**: Generate new product ideas, designs, or variations based on customer preferences, market trends, and existing products.\n",
      "\t* Use case: Fashion companies like Zara can use generative AI to create new design concepts inspired by user feedback.\n",
      "5. **Marketing Campaigns**: Create targeted marketing campaigns by generating personalized ads, emails, or social media content based on customer profiles and behaviors.\n",
      "\t* Use case: Airlines like Delta can use generative AI to personalize email promotions based on customers' travel habits and preferences.\n",
      "6. **Sales Forecasting**: Generate sales forecasts by analyzing historical data and predicting future trends using generative models.\n",
      "\t* Use case: Retailers like Walmart can use generative AI to forecast sales for specific products and locations.\n",
      "7. **Recommendation Systems**: Develop personalized recommendation systems that suggest products, services, or content based on user behavior and preferences.\n",
      "\t* Use case: Streaming services like Netflix can use generative AI-powered recommendation systems to suggest TV shows and movies.\n",
      "8. **Speech-to-Text and Text-to-Speech**: Generate speech or text from written input or vice versa, enabling seamless communication between humans and machines.\n",
      "\t* Use case: Companies like Apple can integrate generative AI-powered speech recognition into their Siri virtual assistants.\n",
      "9. **Audio Generation**: Create music, podcasts, or voiceovers using generative models, allowing for personalized audio content creation.\n",
      "\t* Use case: Podcasting platforms like Spotify can use generative AI to create customized podcast episodes based on user preferences.\n",
      "10. **Visual Content Generation**: Generate high-quality images, videos, or graphics using generative models, ideal for applications like virtual try-on or augmented reality experiences.\n",
      "\t* Use case: Fashion retailers like ASOS can use generative AI-powered visual content generation for virtual try-on and styling recommendations.\n",
      "\n",
      "These are just a few examples of the many business applications of generative AI. As the technology continues to evolve, we can expect to see even more innovative uses across various industries.\n"
     ]
    }
   ],
   "source": [
    "import ollama\n",
    "\n",
    "response = ollama.chat(model=MODEL, messages=messages)\n",
    "print(response['message']['content'])"
   ]
  },
  {
   "cell_type": "markdown",
   "id": "a4704e10-f5fb-4c15-a935-f046c06fb13d",
   "metadata": {},
   "source": [
    "## Alternative approach - using OpenAI python library to connect to Ollama"
   ]
  },
  {
   "cell_type": "code",
   "execution_count": 9,
   "id": "23057e00-b6fc-4678-93a9-6b31cb704bff",
   "metadata": {},
   "outputs": [
    {
     "name": "stdout",
     "output_type": "stream",
     "text": [
      "Generative AI has numerous business applications across various industries, transforming the way companies operate, create products, and interact with customers. Some key applications include:\n",
      "\n",
      "1. **Content Generation**: Automate content creation for marketing materials, such as blog posts, product descriptions, social media posts, and more, using Generative AI-powered tools.\n",
      "2. **Product Design and Prototyping**: Use Generative AI to design new products, furniture, or other innovative solutions, reducing design time and costs while increasing creativity.\n",
      "3. **Customer Experience (CX) Tools**: Leverage Generative AI to create personalized customer experiences, such as chatbots that can respond to customer queries and provide tailored recommendations.\n",
      "4. **Predictive Maintenance**: Use Generative AI to analyze sensor data, identify potential issues, and predict maintenance needs for equipment, reducing downtime and increasing overall efficiency.\n",
      "5. **Personalized Marketing**: Use Generative AI to create targeted marketing campaigns based on individual customer preferences, behaviors, and demographics.\n",
      "6. **Content Optimization**: Utilize Generative AI to optimize content for better performance in search engine results pages (SERPs), ensuring improved visibility and traffic.\n",
      "7. **Brand Storytelling**: Automate the creation of brand stories, taglines, and overall brand narrative using Generative AI-powered tools.\n",
      "8. **Financial Modeling and Forecasting**: Use Generative AI to create financial models, forecasts, and predictions for businesses, helping them make data-driven decisions.\n",
      "9. **Supply Chain Optimization**: Leverage Generative AI to optimize supply chain operations, predicting demand, reducing inventory levels, and streamlining logistics.\n",
      "10. **Automated Transcription and Translation**: Use Generative AI to automate the transcription of audio and video files into written text, as well as translate materials across languages.\n",
      "11. **Digital Asset Management**: Utilize Generative AI to manage digital assets, such as images, videos, and documents, and automatically generate metadata for easy search and retrieval.\n",
      "12. **Chatbots and Virtual Assistants**: Create more advanced chatbots using Generative AI that can understand context, emotions, and intent, providing better customer service experiences.\n",
      "\n",
      "In healthcare, Generative AI is being applied to:\n",
      "\n",
      "1. Medical Imaging Analysis\n",
      "2. Personalized Medicine\n",
      "3. Patient Data Analysis\n",
      "\n",
      "In education, Generative AI is used in:\n",
      "\n",
      "1. Adaptive Learning Systems\n",
      "2. Automated Grading and Feedback\n",
      "\n",
      "Generative AI has numerous applications across various industries, from creative content generation to predictive maintenance and supply chain optimization.\n",
      "\n",
      "Keep in mind that these are just a few examples of the many business applications of Generative AI as this technology continues to evolve at a rapid pace.\n"
     ]
    }
   ],
   "source": [
    "# There's actually an alternative approach that some people might prefer\n",
    "# You can use the OpenAI client python library to call Ollama:\n",
    "\n",
    "from openai import OpenAI\n",
    "ollama_via_openai = OpenAI(base_url='http://localhost:11434/v1', api_key='ollama')\n",
    "\n",
    "response = ollama_via_openai.chat.completions.create(\n",
    "    model=MODEL,\n",
    "    messages=messages\n",
    ")\n",
    "\n",
    "print(response.choices[0].message.content)"
   ]
  },
  {
   "cell_type": "markdown",
   "id": "1622d9bb-5c68-4d4e-9ca4-b492c751f898",
   "metadata": {},
   "source": [
    "### Now the exercise for you\n",
    "\n",
    "Take the code from day1 and incorporate it here, to build a website summarizer that uses Llama 3.2 running locally instead of OpenAI; use either of the above approaches."
   ]
  },
  {
   "cell_type": "code",
   "execution_count": 14,
   "id": "de923314-a427-4199-b1f9-0e60f85114c3",
   "metadata": {},
   "outputs": [],
   "source": [
    "# imports\n",
    "\n",
    "import requests\n",
    "from bs4 import BeautifulSoup\n",
    "from IPython.display import Markdown, display\n",
    "\n",
    "# A class to represent a Webpage\n",
    "# If you're not familiar with Classes, check out the \"Intermediate Python\" notebook\n",
    "\n",
    "# Some websites need you to use proper headers when fetching them:\n",
    "headers = {\n",
    " \"User-Agent\": \"Mozilla/5.0 (Windows NT 10.0; Win64; x64) AppleWebKit/537.36 (KHTML, like Gecko) Chrome/117.0.0.0 Safari/537.36\"\n",
    "}\n",
    "\n",
    "class Website:\n",
    "\n",
    "    def __init__(self, url):\n",
    "        \"\"\"\n",
    "        Create this Website object from the given url using the BeautifulSoup library\n",
    "        \"\"\"\n",
    "        self.url = url\n",
    "        response = requests.get(url, headers=headers)\n",
    "        soup = BeautifulSoup(response.content, 'html.parser')\n",
    "        self.title = soup.title.string if soup.title else \"No title found\"\n",
    "        for irrelevant in soup.body([\"script\", \"style\", \"img\", \"input\"]):\n",
    "            irrelevant.decompose()\n",
    "        self.text = soup.body.get_text(separator=\"\\n\", strip=True)"
   ]
  },
  {
   "cell_type": "code",
   "execution_count": 15,
   "id": "0cedada6-adc6-40dc-bdf3-bc8a3b6b3826",
   "metadata": {},
   "outputs": [
    {
     "name": "stdout",
     "output_type": "stream",
     "text": [
      "Home\n",
      "Connect Four\n",
      "Outsmart\n",
      "An arena that pits LLMs against each other in a battle of diplomacy and deviousness\n",
      "About\n",
      "Posts\n",
      "Well, hi there.\n",
      "I’m Ed. I like writing code and experimenting with LLMs, and hopefully you’re here because you do too. I also enjoy DJing (but I’m badly out of practice), amateur electronic music production (\n",
      "very\n",
      "amateur) and losing myself in\n",
      "Hacker News\n",
      ", nodding my head sagely to things I only half understand.\n",
      "I’m the co-founder and CTO of\n",
      "Nebula.io\n",
      ". We’re applying AI to a field where it can make a massive, positive impact: helping people discover their potential and pursue their reason for being. Recruiters use our product today to source, understand, engage and manage talent. I’m previously the founder and CEO of AI startup untapt,\n",
      "acquired in 2021\n",
      ".\n",
      "We work with groundbreaking, proprietary LLMs verticalized for talent, we’ve\n",
      "patented\n",
      "our matching model, and our award-winning platform has happy customers and tons of press coverage.\n",
      "Connect\n",
      "with me for more!\n",
      "May 28, 2025\n",
      "Connecting my courses – become an LLM expert and leader\n",
      "May 18, 2025\n",
      "2025 AI Executive Briefing\n",
      "April 21, 2025\n",
      "The Complete Agentic AI Engineering Course\n",
      "January 23, 2025\n",
      "LLM Workshop – Hands-on with Agents – resources\n",
      "Navigation\n",
      "Home\n",
      "Connect Four\n",
      "Outsmart\n",
      "An arena that pits LLMs against each other in a battle of diplomacy and deviousness\n",
      "About\n",
      "Posts\n",
      "Get in touch\n",
      "ed [at] edwarddonner [dot] com\n",
      "www.edwarddonner.com\n",
      "Follow me\n",
      "LinkedIn\n",
      "Twitter\n",
      "Facebook\n",
      "Subscribe to newsletter\n",
      "Type your email…\n",
      "Subscribe\n"
     ]
    }
   ],
   "source": [
    "# Let's try one out. Change the website and add print statements to follow along.\n",
    "\n",
    "web_res = Website(\"https://edwarddonner.com\")\n",
    "print(web_res.text)"
   ]
  },
  {
   "cell_type": "code",
   "execution_count": 21,
   "id": "64d26055-756b-4095-a1d1-298fdf4fd8f1",
   "metadata": {},
   "outputs": [],
   "source": [
    "\n",
    "# Constants\n",
    "\n",
    "OLLAMA_API = \"http://localhost:11434/api/chat\"\n",
    "HEADERS = {\"Content-Type\": \"application/json\"}\n",
    "MODEL = \"llama3\"\n"
   ]
  },
  {
   "cell_type": "code",
   "execution_count": 22,
   "id": "65b08550-7506-415f-8612-e2395d6e145d",
   "metadata": {},
   "outputs": [],
   "source": [
    "\n",
    "# Define our system prompt - you can experiment with this later, changing the last sentence to 'Respond in markdown in Spanish.\"\n",
    "\n",
    "system_prompt = \"You are an helper that assist user to provide crisp summary\\\n",
    "of the website they pass in, respond with key points\"\n",
    "\n",
    "# A function that writes a User Prompt that asks for summaries of websites:\n",
    "\n",
    "def user_prompt_for(website):\n",
    "    user_prompt = f\"You are looking at a website titled {website.title}\"\n",
    "    user_prompt += \"\\nThe contents of this website is as follows; \\\n",
    "please provide a short summary of this website in markdown. \\\n",
    "If it includes news or announcements, then summarize these too with start bulletin.\\n\\n\"\n",
    "    user_prompt += website.text\n",
    "    return user_prompt\n"
   ]
  },
  {
   "cell_type": "code",
   "execution_count": 23,
   "id": "36a0a2d0-f07a-40ac-a065-b713cdd5c028",
   "metadata": {},
   "outputs": [],
   "source": [
    "# See how this function creates exactly the format above\n",
    "\n",
    "def messages_for(website):\n",
    "    return [\n",
    "        {\"role\": \"system\", \"content\": system_prompt},\n",
    "        {\"role\": \"user\", \"content\": user_prompt_for(website)}\n",
    "    ]\n"
   ]
  },
  {
   "cell_type": "code",
   "execution_count": 24,
   "id": "8c2b20ea-6a8e-41c9-be3b-f24a5b29e8de",
   "metadata": {},
   "outputs": [],
   "source": [
    "#website search\n",
    "\n",
    "web_msg=Website(\"https://www.cricbuzz.com/cricket-match-squads/91796/aus-vs-ind-3rd-test-india-tour-of-australia-2024-25\")\n",
    "messages=messages_for(web_msg)\n",
    "\n",
    "payload = {\n",
    "        \"model\": MODEL,\n",
    "        \"messages\": messages,\n",
    "        \"stream\": False\n",
    "    }"
   ]
  },
  {
   "cell_type": "code",
   "execution_count": 25,
   "id": "e5636b3b-7763-4f9c-ab18-88aa25b50de6",
   "metadata": {},
   "outputs": [
    {
     "name": "stdout",
     "output_type": "stream",
     "text": [
      "Here is a short summary of the website in markdown:\n",
      "\n",
      "**Cricket Match Squads: Australia vs India, 3rd Test**\n",
      "=====================================================\n",
      "\n",
      "* Live scores and commentary for the ongoing match between Australia and India\n",
      "* Squad information for both teams, including players' roles and positions\n",
      "* News and updates on the series, including news articles and videos\n",
      "* Schedule and archives of previous matches and series\n",
      "* Premium editorials and analysis from experts\n",
      "\n",
      "**Key Points:**\n",
      "\n",
      "✅ Latest scores and commentary for the ongoing match\n",
      "✅ Squad information for Australia and India, including player details\n",
      "✅ News and updates on the series, including articles and videos\n",
      "✅ Schedule and archives of previous matches and series\n",
      "✅ Premium editorial content from experts\n"
     ]
    }
   ],
   "source": [
    "#Using Ollama to run it in the local\n",
    "response = requests.post(OLLAMA_API, json=payload, headers=HEADERS)\n",
    "print(response.json()['message']['content'])"
   ]
  }
 ],
 "metadata": {
  "kernelspec": {
   "display_name": "llms",
   "language": "python",
   "name": "python3"
  },
  "language_info": {
   "codemirror_mode": {
    "name": "ipython",
    "version": 3
   },
   "file_extension": ".py",
   "mimetype": "text/x-python",
   "name": "python",
   "nbconvert_exporter": "python",
   "pygments_lexer": "ipython3",
   "version": "3.11.13"
  }
 },
 "nbformat": 4,
 "nbformat_minor": 5
}
