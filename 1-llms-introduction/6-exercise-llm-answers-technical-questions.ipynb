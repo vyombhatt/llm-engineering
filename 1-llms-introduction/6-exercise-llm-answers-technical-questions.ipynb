{
 "cells": [
  {
   "cell_type": "markdown",
   "id": "fe12c203-e6a6-452c-a655-afb8a03a4ff5",
   "metadata": {},
   "source": [
    "# End of week 1 exercise\n",
    "\n",
    "To demonstrate your familiarity with OpenAI API, and also Ollama, build a tool that takes a technical question,  \n",
    "and responds with an explanation. This is a tool that you will be able to use yourself during the course!"
   ]
  },
  {
   "cell_type": "code",
   "execution_count": 1,
   "id": "c1070317-3ed9-4659-abe3-828943230e03",
   "metadata": {},
   "outputs": [],
   "source": [
    "# imports\n",
    "import os\n",
    "import requests\n",
    "import json \n",
    "from dotenv import load_dotenv\n",
    "from IPython.display import Markdown, display, update_display\n",
    "from openai import OpenAI\n",
    "import ollama\n"
   ]
  },
  {
   "cell_type": "code",
   "execution_count": 8,
   "id": "4a456906-915a-4bfd-bb9d-57e505c5093f",
   "metadata": {},
   "outputs": [],
   "source": [
    "# constants\n",
    "\n",
    "MODEL_GPT = 'gpt-4o-mini'\n",
    "MODEL_LLAMA = 'llama3'\n",
    "OLLAMA_API = \"http://localhost:11434/api/chat\"\n"
   ]
  },
  {
   "cell_type": "code",
   "execution_count": 3,
   "id": "0bb65a08-9090-434a-b99d-5659a370cfbc",
   "metadata": {},
   "outputs": [],
   "source": [
    "# Prompts\n",
    "\n",
    "system_prompt = \"You are a tutor and helps with the user questions in detail with markdown respond with key point \\\n",
    "considering the recent development around the world, keep the response in most appropriate tone \\n\"\n",
    "\n",
    "system_prompt += \"Some of Examples are\"\n",
    "system_prompt += \"\"\"\n",
    "{\"question\": \"1+1?\", \"response\": \"2\"},\n",
    "{\"question\": \"why we shouls learn LLM Models?\", \"response\": \" Learning about Large Language Models (LLMs) is important because they are a rapidly evolving technology with the potential to significantly impact various industries, offering advanced capabilities in text generation, translation, information retrieval, and more, which can be valuable for professionals across diverse fields, allowing them to enhance their work and gain a competitive edge by understanding and utilizing these powerful language processing tools.\\ \n",
    "Key reasons to learn about LLMs:\\\n",
    "Career advancement:\\\n",
    "Familiarity with LLMs can open up new career opportunities in fields like AI development, natural language processing (NLP), content creation, research, and customer service, where LLM applications are increasingly being implemented. \\\n",
    "Increased productivity:\\\n",
    "LLMs can automate repetitive tasks like writing emails, summarizing documents, generating reports, and translating text, freeing up time for more strategic work. \\\n",
    "Enhanced decision-making:\\\n",
    "By providing insights from large datasets, LLMs can assist in informed decision-making across various industries, including business, healthcare, and finance. \\\n",
    "Creative potential:\\\n",
    "LLMs can be used to generate creative content like poems, stories, scripts, and marketing copy, fostering innovation and new ideas. \\\n",
    "Understanding the technology landscape:\\\n",
    "As LLMs become increasingly prevalent, understanding their capabilities and limitations is crucial for navigating the evolving technological landscape. \\\n",
    "What is a large language model (LLM)? - Cloudflare\\\n",
    "A large language model (LLM) is a type of artificial intelligence (AI) program that can recognize and generate text, among other t...\\\n",
    " \"},\n",
    "{\"question\": \"what is the future of AI?\", \"response\": \"AI is predicted to grow increasingly pervasive as technology develops, revolutionising sectors including healthcare, banking, and transportation\"},\n",
    "\"\"\"\n"
   ]
  },
  {
   "cell_type": "code",
   "execution_count": 4,
   "id": "a8d7923c-5f28-4c30-8556-342d7c8497c1",
   "metadata": {},
   "outputs": [
    {
     "name": "stdout",
     "output_type": "stream",
     "text": [
      "API key looks good so far\n"
     ]
    }
   ],
   "source": [
    "# set up environment\n",
    "load_dotenv()\n",
    "api_key = os.getenv('OPENAI_API_KEY')\n",
    "\n",
    "if api_key and api_key.startswith('sk-proj-') and len(api_key)>10:\n",
    "    print(\"API key looks good so far\")\n",
    "else:\n",
    "    print(\"There might be a problem with your API key? Please visit the troubleshooting notebook!\")\n",
    "    \n",
    "MODEL = 'gpt-4o-mini'\n",
    "openai = OpenAI()"
   ]
  },
  {
   "cell_type": "code",
   "execution_count": 5,
   "id": "3f0d0137-52b0-47a8-81a8-11a90a010798",
   "metadata": {},
   "outputs": [],
   "source": [
    "# here is the question; type over this to ask something new\n",
    "\n",
    "user_question = \"\"\"\n",
    "How important it is for a Data Engineers to learn LLM, Considering the evolution of AI now a days?.\n",
    "\"\"\""
   ]
  },
  {
   "cell_type": "code",
   "execution_count": 6,
   "id": "60ce7000-a4a5-4cce-a261-e75ef45063b4",
   "metadata": {},
   "outputs": [
    {
     "data": {
      "text/markdown": [
       "{\"question\": \"How important is it for Data Engineers to learn about LLMs?\", \"response\": \"Learning about Large Language Models (LLMs) is becoming increasingly important for Data Engineers due to the rapid advancements and integration of AI technologies across various sectors. Understanding LLMs can enhance a Data Engineer’s skill set, providing them with tools to manage, process, and utilize large datasets more effectively. Here are key reasons why Data Engineers should consider learning about LLMs:\\n\\n### Key Reasons to Learn About LLMs for Data Engineers:\\n\\n1. **Data Processing and Management**: \\n   - Data Engineers are responsible for the design and management of data pipelines, and LLMs can help in processing unstructured data (like text) more efficiently, enhancing data quality and usability.\\n\\n2. **Integration with ETL Processes**: \\n   - LLMs can be integrated into Extract, Transform, Load (ETL) frameworks to automate and enhance the transformation of textual data into structured formats.\\n\\n3. **Facilitating Advanced Analytics**: \\n   - By leveraging LLMs, Data Engineers can facilitate more advanced analytics, enabling businesses to derive insights from complex datasets, ultimately assisting business intelligence efforts.\\n\\n4. **Collaboration with AI Scientists**: \\n   - Understanding LLMs can foster collaboration with data scientists and machine learning practitioners, leading to more robust, data-driven applications and solutions.\\n\\n5. **Optimizing Data Workflows**: \\n   - LLMs can automate repetitive tasks associated with data preparation, allowing Data Engineers to focus on more complex problems and improve workflow efficiency.\\n\\n6. **Adapting to Industry Trends**: \\n   - As industries increasingly rely on language models for applications like chatbots, sentiment analysis, and customer service automation, staying updated with LLMs helps Data Engineers remain competitive in their field.\\n\\n7. **Career Opportunities**: \\n   - Proficiency in LLMs opens up new career paths including roles in artificial intelligence, machine learning engineering, and enhanced Data Engineering positions focusing on AI-driven projects.\"}"
      ],
      "text/plain": [
       "<IPython.core.display.Markdown object>"
      ]
     },
     "metadata": {},
     "output_type": "display_data"
    }
   ],
   "source": [
    "# Get gpt-4o-mini to answer, with streaming\n",
    "def ask_tutor(question):\n",
    "    stream = openai.chat.completions.create(\n",
    "        model=MODEL_GPT,\n",
    "        messages=[\n",
    "            {\"role\": \"system\", \"content\": question},\n",
    "            {\"role\": \"user\", \"content\": system_prompt}\n",
    "          ],\n",
    "        stream=True\n",
    "    )\n",
    "    \n",
    "    response = \"\"\n",
    "    display_handle = display(Markdown(\"\"), display_id=True)\n",
    "    for chunk in stream:\n",
    "        response += chunk.choices[0].delta.content or ''\n",
    "        response = response.replace(\"```\",\"\").replace(\"markdown\", \"\")\n",
    "        update_display(Markdown(response), display_id=display_handle.display_id)\n",
    "\n",
    "# call the gpt-4o-mini to answer with streaming\n",
    "ask_tutor(user_question)"
   ]
  },
  {
   "cell_type": "code",
   "execution_count": 9,
   "id": "8f7c8ea8-4082-4ad0-8751-3301adcf6538",
   "metadata": {},
   "outputs": [
    {
     "data": {
      "text/markdown": [
       "What a great question!\n",
       "\n",
       "As AI continues to evolve and transform industries, Large Language Models (LLMs) have become increasingly crucial in the field of Natural Language Processing (NLP). For data engineers, learning about LLMs can be highly beneficial, considering the growing importance of NLP and AI in various applications. Here's why:\n",
       "\n",
       "1. **Growing demand for NLP expertise**: As AI-powered chatbots, voice assistants, and language translation tools become more prevalent, there is a rising need for professionals who can design, develop, and integrate these systems. Data engineers with knowledge of LLMs will be well-positioned to meet this demand.\n",
       "2. **Improved data processing and analysis**: LLMs are trained on vast amounts of text data, which can help data engineers better understand and process unstructured or semi-structured data. This expertise will enable them to analyze and extract insights from large datasets more effectively.\n",
       "3. **Enhanced ability to handle diverse data types**: As AI integrates with various data sources (e.g., text, images, audio), LLMs can help data engineers develop a deeper understanding of these different data types. This knowledge will allow them to design more sophisticated data pipelines and integrate multiple data sources seamlessly.\n",
       "4. **Increased efficiency in data processing**: By leveraging LLMs' capabilities for tasks like text classification, sentiment analysis, and language translation, data engineers can automate many manual processes, freeing up time for higher-value work.\n",
       "5. **Competitive edge in the job market**: As AI adoption continues to grow, companies are looking for professionals who can integrate AI with traditional data engineering skills. By learning about LLMs, data engineers will be able to differentiate themselves from their peers and remain competitive in the job market.\n",
       "6. **Potential applications in diverse domains**: LLMs have been applied in various areas, such as healthcare (e.g., medical records analysis), finance (e.g., sentiment analysis of stock market trends), and customer service (e.g., chatbots for customer support). Data engineers with knowledge of LLMs can explore these diverse application domains.\n",
       "7. **Improved collaboration with AI/ML teams**: As AI and ML become more integrated into data engineering workflows, understanding LLMs will enable data engineers to better collaborate with AI/ML experts, leading to more effective project outcomes.\n",
       "\n",
       "While it's not necessary for all data engineers to learn about LLMs, having a basic understanding of these models can be beneficial for those interested in NLP and AI applications. It's essential to note that LLMs are just one aspect of AI, and data engineers should still maintain a broad foundation in traditional data engineering skills, such as SQL, programming languages (e.g., Python), and cloud platforms.\n",
       "\n",
       "In conclusion, learning about LLMs can be highly valuable for data engineers looking to stay ahead of the curve in the rapidly evolving AI landscape. By acquiring knowledge of these models, data engineers can enhance their skills, increase their job prospects, and contribute to innovative applications across various domains."
      ],
      "text/plain": [
       "<IPython.core.display.Markdown object>"
      ]
     },
     "metadata": {},
     "output_type": "display_data"
    }
   ],
   "source": [
    "# Get Llama 3.2 to answer\n",
    "messages = [\n",
    "    {\"role\": \"user\", \"content\": user_question}\n",
    "]\n",
    "HEADERS = {\"Content-Type\": \"application/json\"}\n",
    "payload = {\n",
    "        \"model\": MODEL_LLAMA,\n",
    "        \"messages\": messages,\n",
    "        \"stream\": True\n",
    "    }\n",
    "\n",
    "response = ollama.chat(model=MODEL_LLAMA, messages=messages)\n",
    "reply = response['message']['content']\n",
    "display(Markdown(reply))\n",
    "\n",
    "# # Process the response stream\n",
    "# for line in response.iter_lines():\n",
    "#     if line:  # Skip empty lines\n",
    "#         try:\n",
    "#             # Decode the JSON object from each line\n",
    "#             response_data = json.loads(line)\n",
    "#             if \"message\" in response_data and \"content\" in response_data[\"message\"]:\n",
    "#                 print(response_data[\"message\"][\"content\"])\n",
    "#         except json.JSONDecodeError as e:\n",
    "#             print(f\"Failed to decode JSON: {e}\")\n"
   ]
  },
  {
   "cell_type": "code",
   "execution_count": null,
   "id": "6c66b654",
   "metadata": {},
   "outputs": [],
   "source": []
  }
 ],
 "metadata": {
  "kernelspec": {
   "display_name": "llms",
   "language": "python",
   "name": "python3"
  },
  "language_info": {
   "codemirror_mode": {
    "name": "ipython",
    "version": 3
   },
   "file_extension": ".py",
   "mimetype": "text/x-python",
   "name": "python",
   "nbconvert_exporter": "python",
   "pygments_lexer": "ipython3",
   "version": "3.11.13"
  }
 },
 "nbformat": 4,
 "nbformat_minor": 5
}
