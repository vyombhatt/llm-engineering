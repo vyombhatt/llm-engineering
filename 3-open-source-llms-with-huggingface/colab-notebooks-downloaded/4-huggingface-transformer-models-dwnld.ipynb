{
  "cells": [
    {
      "cell_type": "markdown",
      "metadata": {
        "id": "aKs1PM-O-VQa"
      },
      "source": [
        "# Models\n",
        "\n",
        "Looking at the lower level API of Transformers - the models that wrap PyTorch code for the transformers themselves.\n",
        "\n",
        "This notebook can run on a low-cost or free T4 runtime.\n",
        "\n",
        "## Please note\n",
        "\n",
        "I've added some new material in the middle of this lab to get more intuition on what a Transformer actually is. Later in the course, when we fine-tune LLMs, you'll get a deeper understanding of this."
      ]
    },
    {
      "cell_type": "markdown",
      "metadata": {
        "id": "WTDQBZpH25QB"
      },
      "source": [
        "## One more reminder: 2 important pro-tips for using Colab:\n",
        "\n",
        "**Pro-tip 1:**\n",
        "\n",
        "The top of every colab has some pip installs. You may receive errors from pip when you run this, such as:\n",
        "\n",
        "> gcsfs 2025.3.2 requires fsspec==2025.3.2, but you have fsspec 2025.3.0 which is incompatible.\n",
        "\n",
        "These pip compatibility errors can be safely ignored; and while it's tempting to try to fix them by changing version numbers, that will actually introduce real problems!\n",
        "\n",
        "**Pro-tip 2:**\n",
        "\n",
        "In the middle of running a Colab, you might get an error like this:\n",
        "\n",
        "> Runtime error: CUDA is required but not available for bitsandbytes. Please consider installing [...]\n",
        "\n",
        "This is a super-misleading error message! Please don't try changing versions of packages...\n",
        "\n",
        "This actually happens because Google has switched out your Colab runtime, perhaps because Google Colab was too busy. The solution is:\n",
        "\n",
        "1. Kernel menu >> Disconnect and delete runtime\n",
        "2. Reload the colab from fresh and Edit menu >> Clear All Outputs\n",
        "3. Connect to a new T4 using the button at the top right\n",
        "4. Select \"View resources\" from the menu on the top right to confirm you have a GPU\n",
        "5. Rerun the cells in the colab, from the top down, starting with the pip installs\n",
        "\n",
        "And all should work great - otherwise, ask me!"
      ]
    },
    {
      "cell_type": "code",
      "execution_count": null,
      "metadata": {
        "id": "NthhKJRwX1iS"
      },
      "outputs": [],
      "source": [
        "!pip install -q --upgrade torch==2.5.1+cu124 torchvision==0.20.1+cu124 torchaudio==2.5.1+cu124 --index-url https://download.pytorch.org/whl/cu124\n",
        "!pip install -q requests bitsandbytes==0.46.0 transformers==4.48.3 accelerate==1.3.0"
      ]
    },
    {
      "cell_type": "code",
      "execution_count": null,
      "metadata": {
        "id": "C9zvDGWD5pKp"
      },
      "outputs": [],
      "source": [
        "from google.colab import userdata\n",
        "from huggingface_hub import login\n",
        "from transformers import AutoTokenizer, AutoModelForCausalLM, TextStreamer, BitsAndBytesConfig\n",
        "import torch\n",
        "import gc"
      ]
    },
    {
      "cell_type": "markdown",
      "metadata": {
        "id": "xyKWKWSw7Iqp"
      },
      "source": [
        "# Sign in to Hugging Face\n",
        "\n",
        "1. If you haven't already done so, create a free HuggingFace account at https://huggingface.co and navigate to Settings, then Create a new API token, giving yourself write permissions by clicking on the WRITE tab\n",
        "\n",
        "2. Press the \"key\" icon on the side panel to the left, and add a new secret:\n",
        "`HF_TOKEN = your_token`\n",
        "\n",
        "3. Execute the cell below to log in."
      ]
    },
    {
      "cell_type": "code",
      "execution_count": null,
      "metadata": {
        "id": "xd7cEDUC6Lkq"
      },
      "outputs": [],
      "source": [
        "hf_token = userdata.get('HF_TOKEN')\n",
        "login(hf_token, add_to_git_credential=True)"
      ]
    },
    {
      "cell_type": "code",
      "execution_count": null,
      "metadata": {
        "id": "UtN7OKILQato"
      },
      "outputs": [],
      "source": [
        "# instruct models\n",
        "\n",
        "LLAMA = \"meta-llama/Meta-Llama-3.1-8B-Instruct\"\n",
        "PHI3 = \"microsoft/Phi-3-mini-4k-instruct\"\n",
        "GEMMA2 = \"google/gemma-2-2b-it\"\n",
        "QWEN2 = \"Qwen/Qwen2-7B-Instruct\" # exercise for you\n",
        "MIXTRAL = \"mistralai/Mixtral-8x7B-Instruct-v0.1\" # If this doesn't fit it your GPU memory, try others from the hub"
      ]
    },
    {
      "cell_type": "code",
      "execution_count": null,
      "metadata": {
        "id": "KgxCLBJIT5Hx"
      },
      "outputs": [],
      "source": [
        "messages = [\n",
        "    {\"role\": \"system\", \"content\": \"You are a helpful assistant\"},\n",
        "    {\"role\": \"user\", \"content\": \"Tell a light-hearted joke for a room of Data Scientists\"}\n",
        "  ]"
      ]
    },
    {
      "cell_type": "markdown",
      "metadata": {
        "id": "ZSiYqPn87msu"
      },
      "source": [
        "# Accessing Llama 3.1 from Meta\n",
        "\n",
        "In order to use the fantastic Llama 3.1, Meta does require you to sign their terms of service.\n",
        "\n",
        "Visit their model instructions page in Hugging Face:\n",
        "https://huggingface.co/meta-llama/Meta-Llama-3.1-8B\n",
        "\n",
        "At the top of the page are instructions on how to agree to their terms. If possible, you should use the same email as your huggingface account.\n",
        "\n",
        "In my experience approval comes in a couple of minutes. Once you've been approved for any 3.1 model, it applies to the whole family of models.\n",
        "\n",
        "If you have any problems accessing Llama, please see this colab, including some suggestions if you don't get approved by Meta for any reason.\n",
        "\n",
        "https://colab.research.google.com/drive/1deJO03YZTXUwcq2vzxWbiBhrRuI29Vo8"
      ]
    },
    {
      "cell_type": "code",
      "execution_count": null,
      "metadata": {
        "id": "hhOgL1p_T6-b"
      },
      "outputs": [],
      "source": [
        "# Quantization Config - this allows us to load the model into memory and use less memory\n",
        "# Quantization loads the transformer model weights in a compressed format, which reduces memory usage\n",
        "quant_config = BitsAndBytesConfig(\n",
        "    load_in_4bit=True,\n",
        "    bnb_4bit_use_double_quant=True,\n",
        "    bnb_4bit_compute_dtype=torch.bfloat16,\n",
        "    bnb_4bit_quant_type=\"nf4\"\n",
        ")"
      ]
    },
    {
      "cell_type": "markdown",
      "metadata": {
        "id": "7MtWZYZG920F"
      },
      "source": [
        "If the next cell gives you a 403 permissions error, then please check:\n",
        "1. Are you logged in to HuggingFace? Try running `login()` to check your key works\n",
        "2. Did you set up your API key with full read and write permissions?\n",
        "3. If you visit the Llama3.1 page at https://huggingface.co/meta-llama/Meta-Llama-3.1-8B, does it show that you have access to the model near the top?\n",
        "\n",
        "And work through my Llama troubleshooting colab:\n",
        "\n",
        "https://colab.research.google.com/drive/1deJO03YZTXUwcq2vzxWbiBhrRuI29Vo8\n"
      ]
    },
    {
      "cell_type": "code",
      "execution_count": null,
      "metadata": {
        "id": "Zi8YXiwJHF59"
      },
      "outputs": [],
      "source": [
        "# Tokenizer\n",
        "\n",
        "tokenizer = AutoTokenizer.from_pretrained(LLAMA)\n",
        "tokenizer.pad_token = tokenizer.eos_token # Set the pad token to the end of sentence token. \n",
        "inputs = tokenizer.apply_chat_template(messages, return_tensors=\"pt\").to(\"cuda\") # Move input tokens to GPU"
      ]
    },
    {
      "cell_type": "code",
      "execution_count": null,
      "metadata": {
        "id": "S5jly421tno3"
      },
      "outputs": [],
      "source": [
        "# The model\n",
        "\n",
        "model = AutoModelForCausalLM.from_pretrained(LLAMA, device_map=\"auto\", quantization_config=quant_config) # Load the model to GPU with quantization\n",
        "# Causal LLM models are autoregressive, meaning they generate text one token at a time, predicting the next token based on the previous ones.\n",
        "# model variable holds the weights of the transformer model, which are used to generate text."
      ]
    },
    {
      "cell_type": "code",
      "execution_count": null,
      "metadata": {
        "id": "bdbYaT8hWXWE"
      },
      "outputs": [],
      "source": [
        "memory = model.get_memory_footprint() / 1e6 # get_memory_footprint returns memory of the model in bytes\n",
        "print(f\"Memory footprint: {memory:,.1f} MB\")"
      ]
    },
    {
      "cell_type": "markdown",
      "metadata": {
        "id": "w5mcojpzrD_y"
      },
      "source": [
        "## Looking under the hood at the Transformer model\n",
        "\n",
        "The next cell prints the HuggingFace `model` object for Llama.\n",
        "\n",
        "This model object is a Neural Network, implemented with the Python framework PyTorch. The Neural Network uses the architecture invented by Google scientists in 2017: the Transformer architecture.\n",
        "\n",
        "While we're not going to go deep into the theory, this is an opportunity to get some intuition for what the Transformer actually is.\n",
        "\n",
        "If you're completely new to Neural Networks, check out my [YouTube intro playlist](https://www.youtube.com/playlist?list=PLWHe-9GP9SMMdl6SLaovUQF2abiLGbMjs) for the foundations.\n",
        "\n",
        "Now take a look at the layers of the Neural Network that get printed in the next cell. Look out for this:\n",
        "\n",
        "- It consists of layers\n",
        "- There's something called \"embedding\" - this takes tokens and turns them into 4,096 dimensional vectors. We'll learn more about this in Week 5.\n",
        "- There are then 32 sets of groups of layers called \"Decoder layers\". Each Decoder layer contains three types of layer: (a) self-attention layers (b) multi-layer perceptron (MLP) layers (c) batch norm layers.\n",
        "- There is an LM Head layer at the end; this produces the output\n",
        "\n",
        "Notice the mention that the model has been quantized to 4 bits.\n",
        "\n",
        "It's not required to go any deeper into the theory at this point, but if you'd like to, I've asked our mutual friend to take this printout and make a tutorial to walk through each layer. This also looks at the dimensions at each point. If you're interested, work through this tutorial after running the next cell:\n",
        "\n",
        "https://chatgpt.com/canvas/shared/680cbea6de688191a20f350a2293c76b"
      ]
    },
    {
      "cell_type": "code",
      "execution_count": null,
      "metadata": {
        "id": "P0qmAD5ZtqWA"
      },
      "outputs": [],
      "source": [
        "# Execute this cell and look at what gets printed; investigate the layers\n",
        "\n",
        "model # This will show you the model architecture, including the number of layers, attention heads, and other parameters.\n"
      ]
    },
    {
      "cell_type": "markdown",
      "metadata": {
        "id": "Kx_0SygM_nmA"
      },
      "source": [
        "### And if you want to go even deeper into Transformers\n",
        "\n",
        "In addition to looking at each of the layers in the model, you can actually look at the HuggingFace code that implements Llama using PyTorch.\n",
        "\n",
        "Here is the HuggingFace Transformers repo:  \n",
        "https://github.com/huggingface/transformers\n",
        "\n",
        "And within this, here is the code for Llama 4:  \n",
        "https://github.com/huggingface/transformers/blob/main/src/transformers/models/llama4/modeling_llama4.py\n",
        "\n",
        "Obviously it's not neceesary at all to get into this detail - the job of an AI engineer is to select, optimize, fine-tune and apply LLMs rather than to code a transformer in PyTorch. OpenAI, Meta and other frontier labs spent millions building and training these models. But it's a fascinating rabbit hole if you're interested!"
      ]
    },
    {
      "cell_type": "code",
      "execution_count": null,
      "metadata": {
        "id": "SkYEXzbotcud"
      },
      "outputs": [],
      "source": [
        "# OK, with that, now let's run the model!\n",
        "\n",
        "outputs = model.generate(inputs, max_new_tokens=80) \n",
        "# Generate text based on the input tokens. \n",
        "# max_new_tokens limits the number of tokens generated.\n",
        "print(tokenizer.decode(outputs[0]))"
      ]
    },
    {
      "cell_type": "code",
      "execution_count": null,
      "metadata": {
        "id": "2oL0RWU2ttZf"
      },
      "outputs": [],
      "source": [
        "# Clean up memory\n",
        "# Thank you Kuan L. for helping me get this to properly free up memory!\n",
        "# If you select \"Show Resources\" on the top right to see GPU memory, it might not drop down right away\n",
        "# But it does seem that the memory is available for use by new models in the later code.\n",
        "\n",
        "del model, inputs, tokenizer, outputs\n",
        "gc.collect()\n",
        "torch.cuda.empty_cache()"
      ]
    },
    {
      "cell_type": "markdown",
      "metadata": {
        "id": "iDCeJ20e4Hxx"
      },
      "source": [
        "## A couple of quick notes on the next block of code:\n",
        "\n",
        "I'm using a HuggingFace utility called TextStreamer so that results stream back.\n",
        "To stream results, we simply replace:  \n",
        "`outputs = model.generate(inputs, max_new_tokens=80)`  \n",
        "With:  \n",
        "`streamer = TextStreamer(tokenizer)`  \n",
        "`outputs = model.generate(inputs, max_new_tokens=80, streamer=streamer)`\n",
        "\n",
        "Also I've added the argument `add_generation_prompt=True` to my call to create the Chat template. This ensures that Phi generates a response to the question, instead of just predicting how the user prompt continues. Try experimenting with setting this to False to see what happens. You can read about this argument here:\n",
        "\n",
        "https://huggingface.co/docs/transformers/main/en/chat_templating#what-are-generation-prompts\n",
        "\n",
        "Thank you to student Piotr B for raising the issue!"
      ]
    },
    {
      "cell_type": "code",
      "execution_count": null,
      "metadata": {
        "id": "RO_VYZ3DZ7cs"
      },
      "outputs": [],
      "source": [
        "# Wrapping everything in a function - and adding Streaming and generation prompts\n",
        "\n",
        "def generate(model, messages):\n",
        "  tokenizer = AutoTokenizer.from_pretrained(model) # Load the tokenizer for the model\n",
        "  tokenizer.pad_token = tokenizer.eos_token # Set the pad token to the end of sentence token. Pad tokens are set so that the model can handle variable-length inputs\n",
        "  inputs = tokenizer.apply_chat_template(messages, return_tensors=\"pt\", add_generation_prompt=True).to(\"cuda\") # Move input tokens to GPU\n",
        "  streamer = TextStreamer(tokenizer) # Create a streamer to print the generated text in real-time\n",
        "  model = AutoModelForCausalLM.from_pretrained(model, device_map=\"auto\", quantization_config=quant_config) # Load the model to GPU with quantization\n",
        "  outputs = model.generate(inputs, max_new_tokens=80, streamer=streamer) # Generate text based on the input tokens with streaming\n",
        "  del model, inputs, tokenizer, outputs, streamer # Clean up memory\n",
        "  gc.collect() # Collect garbage to free up memory\n",
        "  torch.cuda.empty_cache() # Empty the CUDA cache to free up memory"
      ]
    },
    {
      "cell_type": "code",
      "execution_count": null,
      "metadata": {
        "id": "RFjaY4Pdvbfy"
      },
      "outputs": [],
      "source": [
        "generate(PHI3, messages)"
      ]
    },
    {
      "cell_type": "markdown",
      "metadata": {
        "id": "hxZQmZDCe4Jf"
      },
      "source": [
        "## Accessing Gemma from Google\n",
        "\n",
        "A student let me know (thank you, Alex K!) that Google also now requires you to accept their terms in HuggingFace before you use Gemma.\n",
        "\n",
        "Please visit their model page at this link and confirm you're OK with their terms, so that you're granted access.\n",
        "\n",
        "https://huggingface.co/google/gemma-2-2b-it"
      ]
    },
    {
      "cell_type": "code",
      "execution_count": null,
      "metadata": {
        "id": "q1JW41D-viGy"
      },
      "outputs": [],
      "source": [
        "messages = [\n",
        "    {\"role\": \"user\", \"content\": \"Tell a light-hearted joke for a room of Data Scientists\"}\n",
        "  ]\n",
        "generate(GEMMA2, messages)"
      ]
    },
    {
      "cell_type": "code",
      "execution_count": null,
      "metadata": {
        "id": "0m8yjMB3ZTp3"
      },
      "outputs": [],
      "source": []
    }
  ],
  "metadata": {
    "accelerator": "GPU",
    "colab": {
      "gpuType": "T4",
      "provenance": []
    },
    "kernelspec": {
      "display_name": "Python 3",
      "name": "python3"
    },
    "language_info": {
      "name": "python"
    }
  },
  "nbformat": 4,
  "nbformat_minor": 0
}
